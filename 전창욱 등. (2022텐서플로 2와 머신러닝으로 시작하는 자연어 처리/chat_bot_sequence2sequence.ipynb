{
  "nbformat": 4,
  "nbformat_minor": 0,
  "metadata": {
    "colab": {
      "provenance": [],
      "collapsed_sections": [
        "g1ZSy6v_LCBJ",
        "6RiBzOpcK14e",
        "D6gAT2vwLIvU"
      ],
      "authorship_tag": "ABX9TyOB3zs/ucFc/9TjCE0TA2oy",
      "include_colab_link": true
    },
    "kernelspec": {
      "name": "python3",
      "display_name": "Python 3"
    },
    "language_info": {
      "name": "python"
    },
    "accelerator": "GPU",
    "gpuClass": "standard"
  },
  "cells": [
    {
      "cell_type": "markdown",
      "metadata": {
        "id": "view-in-github",
        "colab_type": "text"
      },
      "source": [
        "<a href=\"https://colab.research.google.com/github/do-huni/NLP_practice/blob/main/%EC%A0%84%EC%B0%BD%EC%9A%B1%20%EB%93%B1.%20(2022)%2C%20%ED%85%90%EC%84%9C%ED%94%8C%EB%A1%9C%202%EC%99%80%20%EB%A8%B8%EC%8B%A0%EB%9F%AC%EB%8B%9D%EC%9C%BC%EB%A1%9C%20%EC%8B%9C%EC%9E%91%ED%95%98%EB%8A%94%20%EC%9E%90%EC%97%B0%EC%96%B4%20%EC%B2%98%EB%A6%AC%2C%20%EC%9C%84%ED%82%A4%EB%B6%81%EC%8A%A4/chat_bot_sequence2sequence.ipynb\" target=\"_parent\"><img src=\"https://colab.research.google.com/assets/colab-badge.svg\" alt=\"Open In Colab\"/></a>"
      ]
    },
    {
      "cell_type": "markdown",
      "source": [
        "#**RUN_ALL_CODES**"
      ],
      "metadata": {
        "id": "yBOl_vD38PZg"
      }
    },
    {
      "cell_type": "markdown",
      "source": [
        "##**I. Download Data and Visualize**"
      ],
      "metadata": {
        "id": "o1KsaBvbJOLN"
      }
    },
    {
      "cell_type": "markdown",
      "source": [
        "###**&nbsp;1. Downloading Data**"
      ],
      "metadata": {
        "id": "P73gbp9bNP5R"
      }
    },
    {
      "cell_type": "code",
      "source": [
        "!pip install transformers\n",
        "!pip install KoNLPy"
      ],
      "metadata": {
        "colab": {
          "base_uri": "https://localhost:8080/"
        },
        "id": "O7DLSDFL_Tfw",
        "outputId": "357dd442-8a20-42cf-e0a9-c000b4f4443c"
      },
      "execution_count": 1,
      "outputs": [
        {
          "output_type": "stream",
          "name": "stdout",
          "text": [
            "Looking in indexes: https://pypi.org/simple, https://us-python.pkg.dev/colab-wheels/public/simple/\n",
            "Collecting transformers\n",
            "  Downloading transformers-4.26.0-py3-none-any.whl (6.3 MB)\n",
            "\u001b[2K     \u001b[90m━━━━━━━━━━━━━━━━━━━━━━━━━━━━━━━━━━━━━━━━\u001b[0m \u001b[32m6.3/6.3 MB\u001b[0m \u001b[31m49.5 MB/s\u001b[0m eta \u001b[36m0:00:00\u001b[0m\n",
            "\u001b[?25hRequirement already satisfied: requests in /usr/local/lib/python3.8/dist-packages (from transformers) (2.25.1)\n",
            "Collecting tokenizers!=0.11.3,<0.14,>=0.11.1\n",
            "  Downloading tokenizers-0.13.2-cp38-cp38-manylinux_2_17_x86_64.manylinux2014_x86_64.whl (7.6 MB)\n",
            "\u001b[2K     \u001b[90m━━━━━━━━━━━━━━━━━━━━━━━━━━━━━━━━━━━━━━━━\u001b[0m \u001b[32m7.6/7.6 MB\u001b[0m \u001b[31m54.0 MB/s\u001b[0m eta \u001b[36m0:00:00\u001b[0m\n",
            "\u001b[?25hRequirement already satisfied: regex!=2019.12.17 in /usr/local/lib/python3.8/dist-packages (from transformers) (2022.6.2)\n",
            "Requirement already satisfied: pyyaml>=5.1 in /usr/local/lib/python3.8/dist-packages (from transformers) (6.0)\n",
            "Requirement already satisfied: tqdm>=4.27 in /usr/local/lib/python3.8/dist-packages (from transformers) (4.64.1)\n",
            "Requirement already satisfied: numpy>=1.17 in /usr/local/lib/python3.8/dist-packages (from transformers) (1.21.6)\n",
            "Requirement already satisfied: packaging>=20.0 in /usr/local/lib/python3.8/dist-packages (from transformers) (21.3)\n",
            "Collecting huggingface-hub<1.0,>=0.11.0\n",
            "  Downloading huggingface_hub-0.12.0-py3-none-any.whl (190 kB)\n",
            "\u001b[2K     \u001b[90m━━━━━━━━━━━━━━━━━━━━━━━━━━━━━━━━━━━━━━\u001b[0m \u001b[32m190.3/190.3 KB\u001b[0m \u001b[31m13.4 MB/s\u001b[0m eta \u001b[36m0:00:00\u001b[0m\n",
            "\u001b[?25hRequirement already satisfied: filelock in /usr/local/lib/python3.8/dist-packages (from transformers) (3.9.0)\n",
            "Requirement already satisfied: typing-extensions>=3.7.4.3 in /usr/local/lib/python3.8/dist-packages (from huggingface-hub<1.0,>=0.11.0->transformers) (4.4.0)\n",
            "Requirement already satisfied: pyparsing!=3.0.5,>=2.0.2 in /usr/local/lib/python3.8/dist-packages (from packaging>=20.0->transformers) (3.0.9)\n",
            "Requirement already satisfied: certifi>=2017.4.17 in /usr/local/lib/python3.8/dist-packages (from requests->transformers) (2022.12.7)\n",
            "Requirement already satisfied: chardet<5,>=3.0.2 in /usr/local/lib/python3.8/dist-packages (from requests->transformers) (4.0.0)\n",
            "Requirement already satisfied: urllib3<1.27,>=1.21.1 in /usr/local/lib/python3.8/dist-packages (from requests->transformers) (1.24.3)\n",
            "Requirement already satisfied: idna<3,>=2.5 in /usr/local/lib/python3.8/dist-packages (from requests->transformers) (2.10)\n",
            "Installing collected packages: tokenizers, huggingface-hub, transformers\n",
            "Successfully installed huggingface-hub-0.12.0 tokenizers-0.13.2 transformers-4.26.0\n",
            "Looking in indexes: https://pypi.org/simple, https://us-python.pkg.dev/colab-wheels/public/simple/\n",
            "Collecting KoNLPy\n",
            "  Downloading konlpy-0.6.0-py2.py3-none-any.whl (19.4 MB)\n",
            "\u001b[2K     \u001b[90m━━━━━━━━━━━━━━━━━━━━━━━━━━━━━━━━━━━━━━━━\u001b[0m \u001b[32m19.4/19.4 MB\u001b[0m \u001b[31m73.2 MB/s\u001b[0m eta \u001b[36m0:00:00\u001b[0m\n",
            "\u001b[?25hCollecting JPype1>=0.7.0\n",
            "  Downloading JPype1-1.4.1-cp38-cp38-manylinux_2_12_x86_64.manylinux2010_x86_64.whl (465 kB)\n",
            "\u001b[2K     \u001b[90m━━━━━━━━━━━━━━━━━━━━━━━━━━━━━━━━━━━━━━\u001b[0m \u001b[32m465.6/465.6 KB\u001b[0m \u001b[31m48.2 MB/s\u001b[0m eta \u001b[36m0:00:00\u001b[0m\n",
            "\u001b[?25hRequirement already satisfied: lxml>=4.1.0 in /usr/local/lib/python3.8/dist-packages (from KoNLPy) (4.9.2)\n",
            "Requirement already satisfied: numpy>=1.6 in /usr/local/lib/python3.8/dist-packages (from KoNLPy) (1.21.6)\n",
            "Requirement already satisfied: packaging in /usr/local/lib/python3.8/dist-packages (from JPype1>=0.7.0->KoNLPy) (21.3)\n",
            "Requirement already satisfied: pyparsing!=3.0.5,>=2.0.2 in /usr/local/lib/python3.8/dist-packages (from packaging->JPype1>=0.7.0->KoNLPy) (3.0.9)\n",
            "Installing collected packages: JPype1, KoNLPy\n",
            "Successfully installed JPype1-1.4.1 KoNLPy-0.6.0\n"
          ]
        }
      ]
    },
    {
      "cell_type": "code",
      "execution_count": 2,
      "metadata": {
        "id": "dYxPJTfY2ua-"
      },
      "outputs": [],
      "source": [
        "import numpy as np\n",
        "import transformers\n",
        "import torch\n",
        "import torch.nn as nn\n",
        "import torch.nn.functional as F\n",
        "import pandas as pd\n",
        "import re\n",
        "import os\n",
        "from konlpy.tag import Okt\n",
        "from konlpy.tag import Twitter\n",
        "import matplotlib.pyplot as plt\n",
        "from tqdm import tqdm\n",
        "import json"
      ]
    },
    {
      "cell_type": "code",
      "source": [
        "import tensorflow as tf\n",
        "from tensorflow.keras.preprocessing.sequence import pad_sequences\n",
        "from tensorflow.keras.preprocessing.text import Tokenizer"
      ],
      "metadata": {
        "id": "RAIsv5Rz3To4"
      },
      "execution_count": 3,
      "outputs": []
    },
    {
      "cell_type": "code",
      "source": [
        "DATA_IN_PATH = './data_in/'\n",
        "data = pd.read_csv('https://raw.githubusercontent.com/songys/Chatbot_data/master/ChatbotData.csv')"
      ],
      "metadata": {
        "id": "7WEOY5i_8Awv"
      },
      "execution_count": 4,
      "outputs": []
    },
    {
      "cell_type": "code",
      "source": [
        "os.makedirs('./data_in', exist_ok = True)\n",
        "data.to_csv('./data_in/ChatBotData.csv')"
      ],
      "metadata": {
        "id": "5cUCiEhP8NmI"
      },
      "execution_count": 5,
      "outputs": []
    },
    {
      "cell_type": "code",
      "source": [
        "print(data.head())"
      ],
      "metadata": {
        "colab": {
          "base_uri": "https://localhost:8080/"
        },
        "id": "3H5ptUwX821N",
        "outputId": "0cee2d33-df12-4019-a662-cb6848210f54"
      },
      "execution_count": 6,
      "outputs": [
        {
          "output_type": "stream",
          "name": "stdout",
          "text": [
            "                 Q            A  label\n",
            "0           12시 땡!   하루가 또 가네요.      0\n",
            "1      1지망 학교 떨어졌어    위로해 드립니다.      0\n",
            "2     3박4일 놀러가고 싶다  여행은 언제나 좋죠.      0\n",
            "3  3박4일 정도 놀러가고 싶다  여행은 언제나 좋죠.      0\n",
            "4          PPL 심하네   눈살이 찌푸려지죠.      0\n"
          ]
        }
      ]
    },
    {
      "cell_type": "code",
      "source": [
        "questions = list(data['Q'])\n",
        "answers = list(data['A'])\n",
        "sentences = questions + answers"
      ],
      "metadata": {
        "id": "JV-6-P079uWn"
      },
      "execution_count": 7,
      "outputs": []
    },
    {
      "cell_type": "markdown",
      "source": [
        "###**&nbsp;2. Visualization of All Sentences**"
      ],
      "metadata": {
        "id": "g1ZSy6v_LCBJ"
      }
    },
    {
      "cell_type": "code",
      "source": [
        "tokenized_sentences = [s.split() for s in sentences]\n",
        "len_token_unit_sentences = [len(i) for i in tokenized_sentences]\n",
        "len_syllable_unit_sentences = [len(re.sub(' ', '',i)) for i in sentences]\n",
        "\n",
        "okt = Okt()\n",
        "morph_tokenized_sentences = [okt.morphs(re.sub(' ', '', i)) for i in sentences]\n",
        "len_morph_unit_sentences = [len(i) for i in morph_tokenized_sentences]"
      ],
      "metadata": {
        "id": "Ggn3Gmvj-ABf"
      },
      "execution_count": null,
      "outputs": []
    },
    {
      "cell_type": "code",
      "source": [
        "plt.figure(figsize = (12,5))\n",
        "plt.hist(len_token_unit_sentences, bins = 50 , range = [0,50], alpha = 0.5, color = 'r', label = 'word_phrase')\n",
        "plt.hist(len_syllable_unit_sentences, bins = 50, range = [0,50], alpha = 0.5, color = 'b', label = 'syllable')\n",
        "plt.hist(len_morph_unit_sentences, bins = 50, range = [0,50], alpha = 0.5, color = 'g', label = 'morpheme')\n",
        "plt.title('sentences_length_histogram_analyzed_from_various_morphological_units')\n",
        "plt.xlabel('sentences_length')\n",
        "plt.ylabel('numbers_of_sentences')\n",
        "plt.legend(loc = 'best')"
      ],
      "metadata": {
        "colab": {
          "base_uri": "https://localhost:8080/",
          "height": 370
        },
        "id": "weR38z81_Gj4",
        "outputId": "559ebde9-510d-4ca4-d9cd-5cb8a22c1d9e"
      },
      "execution_count": null,
      "outputs": [
        {
          "output_type": "execute_result",
          "data": {
            "text/plain": [
              "<matplotlib.legend.Legend at 0x7fed346b7820>"
            ]
          },
          "metadata": {},
          "execution_count": 47
        },
        {
          "output_type": "display_data",
          "data": {
            "text/plain": [
              "<Figure size 864x360 with 1 Axes>"
            ],
            "image/png": "[encoded data removed]"
          },
          "metadata": {
            "needs_background": "light"
          }
        }
      ]
    },
    {
      "cell_type": "code",
      "source": [
        "plt.figure(figsize = (12,5))\n",
        "plt.hist(len_token_unit_sentences, bins = 50 , range = [0,50], alpha = 0.5, color = 'r', label = 'word_phrase')\n",
        "plt.hist(len_syllable_unit_sentences, bins = 50, range = [0,50], alpha = 0.5, color = 'b', label = 'syllable')\n",
        "plt.hist(len_morph_unit_sentences, bins = 50, range = [0,50], alpha = 0.5, color = 'g', label = 'morpheme')\n",
        "plt.title('sentences_length_histogram_analyzed_from_various_morphological_units')\n",
        "plt.xlabel('sentences_length')\n",
        "plt.ylabel('numbers_of_sentences')\n",
        "plt.yscale('log') #y축 스케일 값을 log로 변경\n",
        "plt.legend(loc = 'best')"
      ],
      "metadata": {
        "colab": {
          "base_uri": "https://localhost:8080/",
          "height": 370
        },
        "id": "wweycbctC9b5",
        "outputId": "373961fd-a50d-4a76-bd8c-7d5524d93945"
      },
      "execution_count": null,
      "outputs": [
        {
          "output_type": "execute_result",
          "data": {
            "text/plain": [
              "<matplotlib.legend.Legend at 0x7fed345acca0>"
            ]
          },
          "metadata": {},
          "execution_count": 48
        },
        {
          "output_type": "display_data",
          "data": {
            "text/plain": [
              "<Figure size 864x360 with 1 Axes>"
            ],
            "image/png": "[encoded data removed]"
          },
          "metadata": {
            "needs_background": "light"
          }
        }
      ]
    },
    {
      "cell_type": "code",
      "source": [
        "lens = [len_token_unit_sentences, len_syllable_unit_sentences, len_morph_unit_sentences]\n",
        "lens_max, lens_min, lens_mean, lens_std, lens_median = {},{},{},{},{}\n",
        "names = ['token', 'syllable', 'morpheme']\n",
        "for i in range(len(lens)):\n",
        "  name = names[i]\n",
        "  lens_max[name] = np.max(lens[i])\n",
        "  lens_min[name] = np.min(lens[i])\n",
        "  lens_mean[name] = np.mean(lens[i])\n",
        "  lens_std[name] = np.std(lens[i])\n",
        "  lens_median[name] = np.median(lens[i])"
      ],
      "metadata": {
        "id": "0okxK8ziDtz9"
      },
      "execution_count": null,
      "outputs": []
    },
    {
      "cell_type": "code",
      "source": [
        "pd.DataFrame([lens_max, lens_min, lens_mean, lens_std, lens_median], index = ['max', 'min', 'mean', 'standard', 'median']).transpose()"
      ],
      "metadata": {
        "colab": {
          "base_uri": "https://localhost:8080/",
          "height": 142
        },
        "id": "qRHETeYOEH8z",
        "outputId": "865acf11-97de-4f3e-86b0-9ea22251c0bf"
      },
      "execution_count": null,
      "outputs": [
        {
          "output_type": "execute_result",
          "data": {
            "text/plain": [
              "           max  min       mean  standard  median\n",
              "token     21.0  1.0   3.640531  1.742913     3.0\n",
              "syllable  57.0  1.0  11.306563  4.978838    10.0\n",
              "morpheme  31.0  1.0   5.412543  2.560910     5.0"
            ],
            "text/html": [
              "\n",
              "  <div id=\"df-8bd384dc-d3f4-4d5a-acb9-fa54cf5be698\">\n",
              "    <div class=\"colab-df-container\">\n",
              "      <div>\n",
              "<style scoped>\n",
              "    .dataframe tbody tr th:only-of-type {\n",
              "        vertical-align: middle;\n",
              "    }\n",
              "\n",
              "    .dataframe tbody tr th {\n",
              "        vertical-align: top;\n",
              "    }\n",
              "\n",
              "    .dataframe thead th {\n",
              "        text-align: right;\n",
              "    }\n",
              "</style>\n",
              "<table border=\"1\" class=\"dataframe\">\n",
              "  <thead>\n",
              "    <tr style=\"text-align: right;\">\n",
              "      <th></th>\n",
              "      <th>max</th>\n",
              "      <th>min</th>\n",
              "      <th>mean</th>\n",
              "      <th>standard</th>\n",
              "      <th>median</th>\n",
              "    </tr>\n",
              "  </thead>\n",
              "  <tbody>\n",
              "    <tr>\n",
              "      <th>token</th>\n",
              "      <td>21.0</td>\n",
              "      <td>1.0</td>\n",
              "      <td>3.640531</td>\n",
              "      <td>1.742913</td>\n",
              "      <td>3.0</td>\n",
              "    </tr>\n",
              "    <tr>\n",
              "      <th>syllable</th>\n",
              "      <td>57.0</td>\n",
              "      <td>1.0</td>\n",
              "      <td>11.306563</td>\n",
              "      <td>4.978838</td>\n",
              "      <td>10.0</td>\n",
              "    </tr>\n",
              "    <tr>\n",
              "      <th>morpheme</th>\n",
              "      <td>31.0</td>\n",
              "      <td>1.0</td>\n",
              "      <td>5.412543</td>\n",
              "      <td>2.560910</td>\n",
              "      <td>5.0</td>\n",
              "    </tr>\n",
              "  </tbody>\n",
              "</table>\n",
              "</div>\n",
              "      <button class=\"colab-df-convert\" onclick=\"convertToInteractive('df-8bd384dc-d3f4-4d5a-acb9-fa54cf5be698')\"\n",
              "              title=\"Convert this dataframe to an interactive table.\"\n",
              "              style=\"display:none;\">\n",
              "        \n",
              "  <svg xmlns=\"http://www.w3.org/2000/svg\" height=\"24px\"viewBox=\"0 0 24 24\"\n",
              "       width=\"24px\">\n",
              "    <path d=\"M0 0h24v24H0V0z\" fill=\"none\"/>\n",
              "    <path d=\"M18.56 5.44l.94 2.06.94-2.06 2.06-.94-2.06-.94-.94-2.06-.94 2.06-2.06.94zm-11 1L8.5 8.5l.94-2.06 2.06-.94-2.06-.94L8.5 2.5l-.94 2.06-2.06.94zm10 10l.94 2.06.94-2.06 2.06-.94-2.06-.94-.94-2.06-.94 2.06-2.06.94z\"/><path d=\"M17.41 7.96l-1.37-1.37c-.4-.4-.92-.59-1.43-.59-.52 0-1.04.2-1.43.59L10.3 9.45l-7.72 7.72c-.78.78-.78 2.05 0 2.83L4 21.41c.39.39.9.59 1.41.59.51 0 1.02-.2 1.41-.59l7.78-7.78 2.81-2.81c.8-.78.8-2.07 0-2.86zM5.41 20L4 18.59l7.72-7.72 1.47 1.35L5.41 20z\"/>\n",
              "  </svg>\n",
              "      </button>\n",
              "      \n",
              "  <style>\n",
              "    .colab-df-container {\n",
              "      display:flex;\n",
              "      flex-wrap:wrap;\n",
              "      gap: 12px;\n",
              "    }\n",
              "\n",
              "    .colab-df-convert {\n",
              "      background-color: #E8F0FE;\n",
              "      border: none;\n",
              "      border-radius: 50%;\n",
              "      cursor: pointer;\n",
              "      display: none;\n",
              "      fill: #1967D2;\n",
              "      height: 32px;\n",
              "      padding: 0 0 0 0;\n",
              "      width: 32px;\n",
              "    }\n",
              "\n",
              "    .colab-df-convert:hover {\n",
              "      background-color: #E2EBFA;\n",
              "      box-shadow: 0px 1px 2px rgba(60, 64, 67, 0.3), 0px 1px 3px 1px rgba(60, 64, 67, 0.15);\n",
              "      fill: #174EA6;\n",
              "    }\n",
              "\n",
              "    [theme=dark] .colab-df-convert {\n",
              "      background-color: #3B4455;\n",
              "      fill: #D2E3FC;\n",
              "    }\n",
              "\n",
              "    [theme=dark] .colab-df-convert:hover {\n",
              "      background-color: #434B5C;\n",
              "      box-shadow: 0px 1px 3px 1px rgba(0, 0, 0, 0.15);\n",
              "      filter: drop-shadow(0px 1px 2px rgba(0, 0, 0, 0.3));\n",
              "      fill: #FFFFFF;\n",
              "    }\n",
              "  </style>\n",
              "\n",
              "      <script>\n",
              "        const buttonEl =\n",
              "          document.querySelector('#df-8bd384dc-d3f4-4d5a-acb9-fa54cf5be698 button.colab-df-convert');\n",
              "        buttonEl.style.display =\n",
              "          google.colab.kernel.accessAllowed ? 'block' : 'none';\n",
              "\n",
              "        async function convertToInteractive(key) {\n",
              "          const element = document.querySelector('#df-8bd384dc-d3f4-4d5a-acb9-fa54cf5be698');\n",
              "          const dataTable =\n",
              "            await google.colab.kernel.invokeFunction('convertToInteractive',\n",
              "                                                     [key], {});\n",
              "          if (!dataTable) return;\n",
              "\n",
              "          const docLinkHtml = 'Like what you see? Visit the ' +\n",
              "            '<a target=\"_blank\" href=https://colab.research.google.com/notebooks/data_table.ipynb>data table notebook</a>'\n",
              "            + ' to learn more about interactive tables.';\n",
              "          element.innerHTML = '';\n",
              "          dataTable['output_type'] = 'display_data';\n",
              "          await google.colab.output.renderOutput(dataTable, element);\n",
              "          const docLink = document.createElement('div');\n",
              "          docLink.innerHTML = docLinkHtml;\n",
              "          element.appendChild(docLink);\n",
              "        }\n",
              "      </script>\n",
              "    </div>\n",
              "  </div>\n",
              "  "
            ]
          },
          "metadata": {},
          "execution_count": 75
        }
      ]
    },
    {
      "cell_type": "code",
      "source": [
        "plt.figure(figsize =(12,5))\n",
        "plt.boxplot(lens, labels = names, showmeans = True)"
      ],
      "metadata": {
        "colab": {
          "base_uri": "https://localhost:8080/",
          "height": 776
        },
        "id": "Pe7XioXYFkjW",
        "outputId": "6be221cc-1516-44ac-d6f9-0a87bb21964b"
      },
      "execution_count": null,
      "outputs": [
        {
          "output_type": "execute_result",
          "data": {
            "text/plain": [
              "{'whiskers': [<matplotlib.lines.Line2D at 0x7fed34cf5310>,\n",
              "  <matplotlib.lines.Line2D at 0x7fed352e91c0>,\n",
              "  <matplotlib.lines.Line2D at 0x7fed3533c6d0>,\n",
              "  <matplotlib.lines.Line2D at 0x7fed34c3ea60>,\n",
              "  <matplotlib.lines.Line2D at 0x7fed352a26d0>,\n",
              "  <matplotlib.lines.Line2D at 0x7fed352a2fd0>],\n",
              " 'caps': [<matplotlib.lines.Line2D at 0x7fed34ba55e0>,\n",
              "  <matplotlib.lines.Line2D at 0x7fed34bc1520>,\n",
              "  <matplotlib.lines.Line2D at 0x7fed35320df0>,\n",
              "  <matplotlib.lines.Line2D at 0x7fed35215f40>,\n",
              "  <matplotlib.lines.Line2D at 0x7fed352f6700>,\n",
              "  <matplotlib.lines.Line2D at 0x7fed352bfee0>],\n",
              " 'boxes': [<matplotlib.lines.Line2D at 0x7fed345f5e20>,\n",
              "  <matplotlib.lines.Line2D at 0x7fed34ca2610>,\n",
              "  <matplotlib.lines.Line2D at 0x7fed34d0f790>],\n",
              " 'medians': [<matplotlib.lines.Line2D at 0x7fed34c24df0>,\n",
              "  <matplotlib.lines.Line2D at 0x7fed34bf8c10>,\n",
              "  <matplotlib.lines.Line2D at 0x7fed353aa2e0>],\n",
              " 'fliers': [<matplotlib.lines.Line2D at 0x7fed34ce71f0>,\n",
              "  <matplotlib.lines.Line2D at 0x7fed34b69b80>,\n",
              "  <matplotlib.lines.Line2D at 0x7fed3526a880>],\n",
              " 'means': [<matplotlib.lines.Line2D at 0x7fed352b0280>,\n",
              "  <matplotlib.lines.Line2D at 0x7fed34d74dc0>,\n",
              "  <matplotlib.lines.Line2D at 0x7fed353aa970>]}"
            ]
          },
          "metadata": {},
          "execution_count": 76
        },
        {
          "output_type": "display_data",
          "data": {
            "text/plain": [
              "<Figure size 864x360 with 1 Axes>"
            ],
            "image/png": "[encoded data removed]"
          },
          "metadata": {
            "needs_background": "light"
          }
        }
      ]
    },
    {
      "cell_type": "code",
      "source": [
        "plt.figure(figsize = (12,5))\n",
        "plt.hist(len_morph_unit_questions, bins = 50, range = [0,50], alpha = 0.5, color = 'r', label = 'questions')\n",
        "plt.hist(len_morph_unit_answers, bins = 50, range = [0,50], alpha = 0.5,  color = 'g', label = 'answers')\n",
        "plt.xlabel('length of sentence')\n",
        "plt.ylabel('numbers of sentence')\n",
        "plt.legend(loc = 'best')\n",
        "plt.yscale('log')\n",
        "plt.title('length of questions & answers')"
      ],
      "metadata": {
        "colab": {
          "base_uri": "https://localhost:8080/",
          "height": 369
        },
        "id": "Na4haqVPL61R",
        "outputId": "17099bd1-cc47-466d-ece6-2cc362234e5b"
      },
      "execution_count": null,
      "outputs": [
        {
          "output_type": "execute_result",
          "data": {
            "text/plain": [
              "Text(0.5, 1.0, 'length of questions & answers')"
            ]
          },
          "metadata": {},
          "execution_count": 88
        },
        {
          "output_type": "display_data",
          "data": {
            "text/plain": [
              "<Figure size 864x360 with 1 Axes>"
            ],
            "image/png": "[encoded data removed]"
          },
          "metadata": {
            "needs_background": "light"
          }
        }
      ]
    },
    {
      "cell_type": "code",
      "source": [
        "plt.figure(figsize = (12,5))\n",
        "plt.boxplot([len_morph_unit_questions, len_morph_unit_sentences], labels = ['questions', 'answers'])"
      ],
      "metadata": {
        "colab": {
          "base_uri": "https://localhost:8080/",
          "height": 663
        },
        "id": "w0AdN2ItMyXd",
        "outputId": "c3320ca3-a3f9-47f5-d667-cf0d3180e7b9"
      },
      "execution_count": null,
      "outputs": [
        {
          "output_type": "stream",
          "name": "stderr",
          "text": [
            "/usr/local/lib/python3.8/dist-packages/matplotlib/cbook/__init__.py:1376: VisibleDeprecationWarning: Creating an ndarray from ragged nested sequences (which is a list-or-tuple of lists-or-tuples-or ndarrays with different lengths or shapes) is deprecated. If you meant to do this, you must specify 'dtype=object' when creating the ndarray.\n",
            "  X = np.atleast_1d(X.T if isinstance(X, np.ndarray) else np.asarray(X))\n"
          ]
        },
        {
          "output_type": "execute_result",
          "data": {
            "text/plain": [
              "{'whiskers': [<matplotlib.lines.Line2D at 0x7fed319acb80>,\n",
              "  <matplotlib.lines.Line2D at 0x7fed319acee0>,\n",
              "  <matplotlib.lines.Line2D at 0x7fed319a8430>,\n",
              "  <matplotlib.lines.Line2D at 0x7fed319a80a0>],\n",
              " 'caps': [<matplotlib.lines.Line2D at 0x7fed319a9280>,\n",
              "  <matplotlib.lines.Line2D at 0x7fed319a9610>,\n",
              "  <matplotlib.lines.Line2D at 0x7fed319a8ac0>,\n",
              "  <matplotlib.lines.Line2D at 0x7fed319a8e80>],\n",
              " 'boxes': [<matplotlib.lines.Line2D at 0x7fed319ac820>,\n",
              "  <matplotlib.lines.Line2D at 0x7fed319a8040>],\n",
              " 'medians': [<matplotlib.lines.Line2D at 0x7fed319a99a0>,\n",
              "  <matplotlib.lines.Line2D at 0x7fed3193b0d0>],\n",
              " 'fliers': [<matplotlib.lines.Line2D at 0x7fed319a9ca0>,\n",
              "  <matplotlib.lines.Line2D at 0x7fed3193b3a0>],\n",
              " 'means': []}"
            ]
          },
          "metadata": {},
          "execution_count": 90
        },
        {
          "output_type": "display_data",
          "data": {
            "text/plain": [
              "<Figure size 864x360 with 1 Axes>"
            ],
            "image/png": "[encoded data removed]"
          },
          "metadata": {
            "needs_background": "light"
          }
        }
      ]
    },
    {
      "cell_type": "markdown",
      "source": [
        "###**&nbsp;3. Visualization of Questions**"
      ],
      "metadata": {
        "id": "6RiBzOpcK14e"
      }
    },
    {
      "cell_type": "code",
      "source": [
        "tokenized_questions = [s.split() for s in questions]\n",
        "len_token_unit_questions = [len(i) for i in tokenized_questions]\n",
        "len_syllable_unit_questions = [len(re.sub(' ', '',i)) for i in questions]\n",
        "\n",
        "okt = Okt()\n",
        "morph_tokenized_questions = [okt.morphs(re.sub(' ', '', i)) for i in questions]\n",
        "len_morph_unit_questions = [len(i) for i in morph_tokenized_questions]\n",
        "\n",
        "\n",
        "\n",
        "plt.figure(figsize = (12,5))\n",
        "plt.hist(len_token_unit_questions, bins = 50 , range = [0,50], alpha = 0.5, color = 'r', label = 'word_phrase')\n",
        "plt.hist(len_syllable_unit_questions, bins = 50, range = [0,50], alpha = 0.5, color = 'b', label = 'syllable')\n",
        "plt.hist(len_morph_unit_questions, bins = 50, range = [0,50], alpha = 0.5, color = 'g', label = 'morpheme')\n",
        "plt.title('questions_length_histogram_analyzed_from_various_morphological_units')\n",
        "plt.xlabel('questions_length')\n",
        "plt.ylabel('numbers_of_questions')\n",
        "plt.yscale('log')\n",
        "plt.legend(loc = 'best')"
      ],
      "metadata": {
        "colab": {
          "base_uri": "https://localhost:8080/",
          "height": 370
        },
        "id": "gAB8kF8gI3Y2",
        "outputId": "516844cc-4293-4842-9f9c-1c0a4aaf21c3"
      },
      "execution_count": null,
      "outputs": [
        {
          "output_type": "execute_result",
          "data": {
            "text/plain": [
              "<matplotlib.legend.Legend at 0x7fed34ccba90>"
            ]
          },
          "metadata": {},
          "execution_count": 79
        },
        {
          "output_type": "display_data",
          "data": {
            "text/plain": [
              "<Figure size 864x360 with 1 Axes>"
            ],
            "image/png": "[encoded data removed]"
          },
          "metadata": {
            "needs_background": "light"
          }
        }
      ]
    },
    {
      "cell_type": "code",
      "source": [
        "lens = [len_token_unit_questions, len_syllable_unit_questions, len_morph_unit_questions]\n",
        "lens_max, lens_min, lens_mean, lens_std, lens_median = {},{},{},{},{}\n",
        "names = ['token', 'syllable', 'morpheme']\n",
        "for i in range(len(lens)):\n",
        "  name = names[i]\n",
        "  lens_max[name] = np.max(lens[i])\n",
        "  lens_min[name] = np.min(lens[i])\n",
        "  lens_mean[name] = np.mean(lens[i])\n",
        "  lens_std[name] = np.std(lens[i])\n",
        "  lens_median[name] = np.median(lens[i])\n",
        "pd.DataFrame([lens_max, lens_min, lens_mean, lens_std, lens_median], index = ['max', 'min', 'mean', 'standard', 'median']).transpose()"
      ],
      "metadata": {
        "colab": {
          "base_uri": "https://localhost:8080/",
          "height": 142
        },
        "id": "BHXy6w1WKGQC",
        "outputId": "c2040282-8280-4245-d2ab-ebf5f3e2bf33"
      },
      "execution_count": null,
      "outputs": [
        {
          "output_type": "execute_result",
          "data": {
            "text/plain": [
              "           max  min       mean  standard  median\n",
              "token     15.0  1.0   3.587414  1.618828     3.0\n",
              "syllable  42.0  1.0  10.291635  4.739911     9.0\n",
              "morpheme  20.0  1.0   4.950436  2.482297     4.0"
            ],
            "text/html": [
              "\n",
              "  <div id=\"df-ae640ea4-f086-4700-b1d8-d78c5d9f2a91\">\n",
              "    <div class=\"colab-df-container\">\n",
              "      <div>\n",
              "<style scoped>\n",
              "    .dataframe tbody tr th:only-of-type {\n",
              "        vertical-align: middle;\n",
              "    }\n",
              "\n",
              "    .dataframe tbody tr th {\n",
              "        vertical-align: top;\n",
              "    }\n",
              "\n",
              "    .dataframe thead th {\n",
              "        text-align: right;\n",
              "    }\n",
              "</style>\n",
              "<table border=\"1\" class=\"dataframe\">\n",
              "  <thead>\n",
              "    <tr style=\"text-align: right;\">\n",
              "      <th></th>\n",
              "      <th>max</th>\n",
              "      <th>min</th>\n",
              "      <th>mean</th>\n",
              "      <th>standard</th>\n",
              "      <th>median</th>\n",
              "    </tr>\n",
              "  </thead>\n",
              "  <tbody>\n",
              "    <tr>\n",
              "      <th>token</th>\n",
              "      <td>15.0</td>\n",
              "      <td>1.0</td>\n",
              "      <td>3.587414</td>\n",
              "      <td>1.618828</td>\n",
              "      <td>3.0</td>\n",
              "    </tr>\n",
              "    <tr>\n",
              "      <th>syllable</th>\n",
              "      <td>42.0</td>\n",
              "      <td>1.0</td>\n",
              "      <td>10.291635</td>\n",
              "      <td>4.739911</td>\n",
              "      <td>9.0</td>\n",
              "    </tr>\n",
              "    <tr>\n",
              "      <th>morpheme</th>\n",
              "      <td>20.0</td>\n",
              "      <td>1.0</td>\n",
              "      <td>4.950436</td>\n",
              "      <td>2.482297</td>\n",
              "      <td>4.0</td>\n",
              "    </tr>\n",
              "  </tbody>\n",
              "</table>\n",
              "</div>\n",
              "      <button class=\"colab-df-convert\" onclick=\"convertToInteractive('df-ae640ea4-f086-4700-b1d8-d78c5d9f2a91')\"\n",
              "              title=\"Convert this dataframe to an interactive table.\"\n",
              "              style=\"display:none;\">\n",
              "        \n",
              "  <svg xmlns=\"http://www.w3.org/2000/svg\" height=\"24px\"viewBox=\"0 0 24 24\"\n",
              "       width=\"24px\">\n",
              "    <path d=\"M0 0h24v24H0V0z\" fill=\"none\"/>\n",
              "    <path d=\"M18.56 5.44l.94 2.06.94-2.06 2.06-.94-2.06-.94-.94-2.06-.94 2.06-2.06.94zm-11 1L8.5 8.5l.94-2.06 2.06-.94-2.06-.94L8.5 2.5l-.94 2.06-2.06.94zm10 10l.94 2.06.94-2.06 2.06-.94-2.06-.94-.94-2.06-.94 2.06-2.06.94z\"/><path d=\"M17.41 7.96l-1.37-1.37c-.4-.4-.92-.59-1.43-.59-.52 0-1.04.2-1.43.59L10.3 9.45l-7.72 7.72c-.78.78-.78 2.05 0 2.83L4 21.41c.39.39.9.59 1.41.59.51 0 1.02-.2 1.41-.59l7.78-7.78 2.81-2.81c.8-.78.8-2.07 0-2.86zM5.41 20L4 18.59l7.72-7.72 1.47 1.35L5.41 20z\"/>\n",
              "  </svg>\n",
              "      </button>\n",
              "      \n",
              "  <style>\n",
              "    .colab-df-container {\n",
              "      display:flex;\n",
              "      flex-wrap:wrap;\n",
              "      gap: 12px;\n",
              "    }\n",
              "\n",
              "    .colab-df-convert {\n",
              "      background-color: #E8F0FE;\n",
              "      border: none;\n",
              "      border-radius: 50%;\n",
              "      cursor: pointer;\n",
              "      display: none;\n",
              "      fill: #1967D2;\n",
              "      height: 32px;\n",
              "      padding: 0 0 0 0;\n",
              "      width: 32px;\n",
              "    }\n",
              "\n",
              "    .colab-df-convert:hover {\n",
              "      background-color: #E2EBFA;\n",
              "      box-shadow: 0px 1px 2px rgba(60, 64, 67, 0.3), 0px 1px 3px 1px rgba(60, 64, 67, 0.15);\n",
              "      fill: #174EA6;\n",
              "    }\n",
              "\n",
              "    [theme=dark] .colab-df-convert {\n",
              "      background-color: #3B4455;\n",
              "      fill: #D2E3FC;\n",
              "    }\n",
              "\n",
              "    [theme=dark] .colab-df-convert:hover {\n",
              "      background-color: #434B5C;\n",
              "      box-shadow: 0px 1px 3px 1px rgba(0, 0, 0, 0.15);\n",
              "      filter: drop-shadow(0px 1px 2px rgba(0, 0, 0, 0.3));\n",
              "      fill: #FFFFFF;\n",
              "    }\n",
              "  </style>\n",
              "\n",
              "      <script>\n",
              "        const buttonEl =\n",
              "          document.querySelector('#df-ae640ea4-f086-4700-b1d8-d78c5d9f2a91 button.colab-df-convert');\n",
              "        buttonEl.style.display =\n",
              "          google.colab.kernel.accessAllowed ? 'block' : 'none';\n",
              "\n",
              "        async function convertToInteractive(key) {\n",
              "          const element = document.querySelector('#df-ae640ea4-f086-4700-b1d8-d78c5d9f2a91');\n",
              "          const dataTable =\n",
              "            await google.colab.kernel.invokeFunction('convertToInteractive',\n",
              "                                                     [key], {});\n",
              "          if (!dataTable) return;\n",
              "\n",
              "          const docLinkHtml = 'Like what you see? Visit the ' +\n",
              "            '<a target=\"_blank\" href=https://colab.research.google.com/notebooks/data_table.ipynb>data table notebook</a>'\n",
              "            + ' to learn more about interactive tables.';\n",
              "          element.innerHTML = '';\n",
              "          dataTable['output_type'] = 'display_data';\n",
              "          await google.colab.output.renderOutput(dataTable, element);\n",
              "          const docLink = document.createElement('div');\n",
              "          docLink.innerHTML = docLinkHtml;\n",
              "          element.appendChild(docLink);\n",
              "        }\n",
              "      </script>\n",
              "    </div>\n",
              "  </div>\n",
              "  "
            ]
          },
          "metadata": {},
          "execution_count": 80
        }
      ]
    },
    {
      "cell_type": "code",
      "source": [
        "plt.figure(figsize =(12,5))\n",
        "plt.boxplot(lens, labels = names, showmeans = True)"
      ],
      "metadata": {
        "colab": {
          "base_uri": "https://localhost:8080/",
          "height": 776
        },
        "id": "06KYfBjiKOQH",
        "outputId": "7b3ca020-a6e4-4887-9c23-14285d8e7241"
      },
      "execution_count": null,
      "outputs": [
        {
          "output_type": "execute_result",
          "data": {
            "text/plain": [
              "{'whiskers': [<matplotlib.lines.Line2D at 0x7fed32d9bfa0>,\n",
              "  <matplotlib.lines.Line2D at 0x7fed32d92340>,\n",
              "  <matplotlib.lines.Line2D at 0x7fed32da7b20>,\n",
              "  <matplotlib.lines.Line2D at 0x7fed32da7e80>,\n",
              "  <matplotlib.lines.Line2D at 0x7fed32d366a0>,\n",
              "  <matplotlib.lines.Line2D at 0x7fed32d36a00>],\n",
              " 'caps': [<matplotlib.lines.Line2D at 0x7fed32d926a0>,\n",
              "  <matplotlib.lines.Line2D at 0x7fed32d92a00>,\n",
              "  <matplotlib.lines.Line2D at 0x7fed32daf220>,\n",
              "  <matplotlib.lines.Line2D at 0x7fed32daf580>,\n",
              "  <matplotlib.lines.Line2D at 0x7fed32d36d60>,\n",
              "  <matplotlib.lines.Line2D at 0x7fed32d40100>],\n",
              " 'boxes': [<matplotlib.lines.Line2D at 0x7fed32d9bc40>,\n",
              "  <matplotlib.lines.Line2D at 0x7fed32da77c0>,\n",
              "  <matplotlib.lines.Line2D at 0x7fed32d36340>],\n",
              " 'medians': [<matplotlib.lines.Line2D at 0x7fed32d92d60>,\n",
              "  <matplotlib.lines.Line2D at 0x7fed32daf8e0>,\n",
              "  <matplotlib.lines.Line2D at 0x7fed32d40460>],\n",
              " 'fliers': [<matplotlib.lines.Line2D at 0x7fed32da7400>,\n",
              "  <matplotlib.lines.Line2D at 0x7fed32daff40>,\n",
              "  <matplotlib.lines.Line2D at 0x7fed32d40ac0>],\n",
              " 'means': [<matplotlib.lines.Line2D at 0x7fed32da70a0>,\n",
              "  <matplotlib.lines.Line2D at 0x7fed32dafbe0>,\n",
              "  <matplotlib.lines.Line2D at 0x7fed32d40760>]}"
            ]
          },
          "metadata": {},
          "execution_count": 81
        },
        {
          "output_type": "display_data",
          "data": {
            "text/plain": [
              "<Figure size 864x360 with 1 Axes>"
            ],
            "image/png": "[encoded data removed]"
          },
          "metadata": {
            "needs_background": "light"
          }
        }
      ]
    },
    {
      "cell_type": "markdown",
      "source": [
        "###**&nbsp;4. Visualization of Answers**"
      ],
      "metadata": {
        "id": "D6gAT2vwLIvU"
      }
    },
    {
      "cell_type": "code",
      "source": [
        "tokenized_answers = [s.split() for s in answers]\n",
        "len_token_unit_answers = [len(i) for i in tokenized_answers]\n",
        "len_syllable_unit_answers = [len(re.sub(' ', '',i)) for i in answers]\n",
        "\n",
        "okt = Okt()\n",
        "morph_tokenized_answers = [okt.morphs(re.sub(' ', '', i)) for i in answers]\n",
        "len_morph_unit_answers = [len(i) for i in morph_tokenized_answers]\n",
        "\n",
        "\n",
        "\n",
        "plt.figure(figsize = (12,5))\n",
        "plt.hist(len_token_unit_answers, bins = 50 , range = [0,50], alpha = 0.5, color = 'r', label = 'word_phrase')\n",
        "plt.hist(len_syllable_unit_answers, bins = 50, range = [0,50], alpha = 0.5, color = 'b', label = 'syllable')\n",
        "plt.hist(len_morph_unit_answers, bins = 50, range = [0,50], alpha = 0.5, color = 'g', label = 'morpheme')\n",
        "plt.title('answers_length_histogram_analyzed_from_various_morphological_units')\n",
        "plt.xlabel('answers_length')\n",
        "plt.ylabel('numbers_of_answers')\n",
        "plt.yscale('log')\n",
        "plt.legend(loc = 'best')"
      ],
      "metadata": {
        "colab": {
          "base_uri": "https://localhost:8080/",
          "height": 370
        },
        "id": "igtmpPSdLN36",
        "outputId": "6131fc89-9ee8-4a73-df64-85041c97e35c"
      },
      "execution_count": null,
      "outputs": [
        {
          "output_type": "execute_result",
          "data": {
            "text/plain": [
              "<matplotlib.legend.Legend at 0x7fed352086a0>"
            ]
          },
          "metadata": {},
          "execution_count": 82
        },
        {
          "output_type": "display_data",
          "data": {
            "text/plain": [
              "<Figure size 864x360 with 1 Axes>"
            ],
            "image/png": "[encoded data removed]"
          },
          "metadata": {
            "needs_background": "light"
          }
        }
      ]
    },
    {
      "cell_type": "code",
      "source": [
        "lens = [len_token_unit_answers, len_syllable_unit_answers, len_morph_unit_answers]\n",
        "lens_max, lens_min, lens_mean, lens_std, lens_median = {},{},{},{},{}\n",
        "names = ['token', 'syllable', 'morpheme']\n",
        "for i in range(len(lens)):\n",
        "  name = names[i]\n",
        "  lens_max[name] = np.max(lens[i])\n",
        "  lens_min[name] = np.min(lens[i])\n",
        "  lens_mean[name] = np.mean(lens[i])\n",
        "  lens_std[name] = np.std(lens[i])\n",
        "  lens_median[name] = np.median(lens[i])\n",
        "pd.DataFrame([lens_max, lens_min, lens_mean, lens_std, lens_median], index = ['max', 'min', 'mean', 'standard', 'median']).transpose()"
      ],
      "metadata": {
        "colab": {
          "base_uri": "https://localhost:8080/",
          "height": 142
        },
        "id": "HoReTaHbLlEQ",
        "outputId": "c8f3ebf1-7f84-477a-d767-2823c5b464b5"
      },
      "execution_count": null,
      "outputs": [
        {
          "output_type": "execute_result",
          "data": {
            "text/plain": [
              "           max  min       mean  standard  median\n",
              "token     21.0  1.0   3.693648  1.857214     3.0\n",
              "syllable  57.0  1.0  12.321492  5.005072    11.0\n",
              "morpheme  31.0  1.0   5.874651  2.554924     5.0"
            ],
            "text/html": [
              "\n",
              "  <div id=\"df-67be313f-1c74-4f5a-ac24-37248b75d768\">\n",
              "    <div class=\"colab-df-container\">\n",
              "      <div>\n",
              "<style scoped>\n",
              "    .dataframe tbody tr th:only-of-type {\n",
              "        vertical-align: middle;\n",
              "    }\n",
              "\n",
              "    .dataframe tbody tr th {\n",
              "        vertical-align: top;\n",
              "    }\n",
              "\n",
              "    .dataframe thead th {\n",
              "        text-align: right;\n",
              "    }\n",
              "</style>\n",
              "<table border=\"1\" class=\"dataframe\">\n",
              "  <thead>\n",
              "    <tr style=\"text-align: right;\">\n",
              "      <th></th>\n",
              "      <th>max</th>\n",
              "      <th>min</th>\n",
              "      <th>mean</th>\n",
              "      <th>standard</th>\n",
              "      <th>median</th>\n",
              "    </tr>\n",
              "  </thead>\n",
              "  <tbody>\n",
              "    <tr>\n",
              "      <th>token</th>\n",
              "      <td>21.0</td>\n",
              "      <td>1.0</td>\n",
              "      <td>3.693648</td>\n",
              "      <td>1.857214</td>\n",
              "      <td>3.0</td>\n",
              "    </tr>\n",
              "    <tr>\n",
              "      <th>syllable</th>\n",
              "      <td>57.0</td>\n",
              "      <td>1.0</td>\n",
              "      <td>12.321492</td>\n",
              "      <td>5.005072</td>\n",
              "      <td>11.0</td>\n",
              "    </tr>\n",
              "    <tr>\n",
              "      <th>morpheme</th>\n",
              "      <td>31.0</td>\n",
              "      <td>1.0</td>\n",
              "      <td>5.874651</td>\n",
              "      <td>2.554924</td>\n",
              "      <td>5.0</td>\n",
              "    </tr>\n",
              "  </tbody>\n",
              "</table>\n",
              "</div>\n",
              "      <button class=\"colab-df-convert\" onclick=\"convertToInteractive('df-67be313f-1c74-4f5a-ac24-37248b75d768')\"\n",
              "              title=\"Convert this dataframe to an interactive table.\"\n",
              "              style=\"display:none;\">\n",
              "        \n",
              "  <svg xmlns=\"http://www.w3.org/2000/svg\" height=\"24px\"viewBox=\"0 0 24 24\"\n",
              "       width=\"24px\">\n",
              "    <path d=\"M0 0h24v24H0V0z\" fill=\"none\"/>\n",
              "    <path d=\"M18.56 5.44l.94 2.06.94-2.06 2.06-.94-2.06-.94-.94-2.06-.94 2.06-2.06.94zm-11 1L8.5 8.5l.94-2.06 2.06-.94-2.06-.94L8.5 2.5l-.94 2.06-2.06.94zm10 10l.94 2.06.94-2.06 2.06-.94-2.06-.94-.94-2.06-.94 2.06-2.06.94z\"/><path d=\"M17.41 7.96l-1.37-1.37c-.4-.4-.92-.59-1.43-.59-.52 0-1.04.2-1.43.59L10.3 9.45l-7.72 7.72c-.78.78-.78 2.05 0 2.83L4 21.41c.39.39.9.59 1.41.59.51 0 1.02-.2 1.41-.59l7.78-7.78 2.81-2.81c.8-.78.8-2.07 0-2.86zM5.41 20L4 18.59l7.72-7.72 1.47 1.35L5.41 20z\"/>\n",
              "  </svg>\n",
              "      </button>\n",
              "      \n",
              "  <style>\n",
              "    .colab-df-container {\n",
              "      display:flex;\n",
              "      flex-wrap:wrap;\n",
              "      gap: 12px;\n",
              "    }\n",
              "\n",
              "    .colab-df-convert {\n",
              "      background-color: #E8F0FE;\n",
              "      border: none;\n",
              "      border-radius: 50%;\n",
              "      cursor: pointer;\n",
              "      display: none;\n",
              "      fill: #1967D2;\n",
              "      height: 32px;\n",
              "      padding: 0 0 0 0;\n",
              "      width: 32px;\n",
              "    }\n",
              "\n",
              "    .colab-df-convert:hover {\n",
              "      background-color: #E2EBFA;\n",
              "      box-shadow: 0px 1px 2px rgba(60, 64, 67, 0.3), 0px 1px 3px 1px rgba(60, 64, 67, 0.15);\n",
              "      fill: #174EA6;\n",
              "    }\n",
              "\n",
              "    [theme=dark] .colab-df-convert {\n",
              "      background-color: #3B4455;\n",
              "      fill: #D2E3FC;\n",
              "    }\n",
              "\n",
              "    [theme=dark] .colab-df-convert:hover {\n",
              "      background-color: #434B5C;\n",
              "      box-shadow: 0px 1px 3px 1px rgba(0, 0, 0, 0.15);\n",
              "      filter: drop-shadow(0px 1px 2px rgba(0, 0, 0, 0.3));\n",
              "      fill: #FFFFFF;\n",
              "    }\n",
              "  </style>\n",
              "\n",
              "      <script>\n",
              "        const buttonEl =\n",
              "          document.querySelector('#df-67be313f-1c74-4f5a-ac24-37248b75d768 button.colab-df-convert');\n",
              "        buttonEl.style.display =\n",
              "          google.colab.kernel.accessAllowed ? 'block' : 'none';\n",
              "\n",
              "        async function convertToInteractive(key) {\n",
              "          const element = document.querySelector('#df-67be313f-1c74-4f5a-ac24-37248b75d768');\n",
              "          const dataTable =\n",
              "            await google.colab.kernel.invokeFunction('convertToInteractive',\n",
              "                                                     [key], {});\n",
              "          if (!dataTable) return;\n",
              "\n",
              "          const docLinkHtml = 'Like what you see? Visit the ' +\n",
              "            '<a target=\"_blank\" href=https://colab.research.google.com/notebooks/data_table.ipynb>data table notebook</a>'\n",
              "            + ' to learn more about interactive tables.';\n",
              "          element.innerHTML = '';\n",
              "          dataTable['output_type'] = 'display_data';\n",
              "          await google.colab.output.renderOutput(dataTable, element);\n",
              "          const docLink = document.createElement('div');\n",
              "          docLink.innerHTML = docLinkHtml;\n",
              "          element.appendChild(docLink);\n",
              "        }\n",
              "      </script>\n",
              "    </div>\n",
              "  </div>\n",
              "  "
            ]
          },
          "metadata": {},
          "execution_count": 83
        }
      ]
    },
    {
      "cell_type": "code",
      "source": [
        "plt.figure(figsize =(12,5))\n",
        "plt.boxplot(lens, labels = names, showmeans = True)"
      ],
      "metadata": {
        "colab": {
          "base_uri": "https://localhost:8080/",
          "height": 776
        },
        "id": "iUzLeLB5LoaG",
        "outputId": "242ac3da-30c0-4c09-d79c-c58a03500c54"
      },
      "execution_count": null,
      "outputs": [
        {
          "output_type": "execute_result",
          "data": {
            "text/plain": [
              "{'whiskers': [<matplotlib.lines.Line2D at 0x7fed31f0e4f0>,\n",
              "  <matplotlib.lines.Line2D at 0x7fed31f0e850>,\n",
              "  <matplotlib.lines.Line2D at 0x7fed31f15070>,\n",
              "  <matplotlib.lines.Line2D at 0x7fed31f153d0>,\n",
              "  <matplotlib.lines.Line2D at 0x7fed31f1fbb0>,\n",
              "  <matplotlib.lines.Line2D at 0x7fed31f1ff10>],\n",
              " 'caps': [<matplotlib.lines.Line2D at 0x7fed31f0ebb0>,\n",
              "  <matplotlib.lines.Line2D at 0x7fed31f0ef10>,\n",
              "  <matplotlib.lines.Line2D at 0x7fed31f15730>,\n",
              "  <matplotlib.lines.Line2D at 0x7fed31f15a90>,\n",
              "  <matplotlib.lines.Line2D at 0x7fed31f262b0>,\n",
              "  <matplotlib.lines.Line2D at 0x7fed31f26610>],\n",
              " 'boxes': [<matplotlib.lines.Line2D at 0x7fed31f0e190>,\n",
              "  <matplotlib.lines.Line2D at 0x7fed31f04cd0>,\n",
              "  <matplotlib.lines.Line2D at 0x7fed31f1f850>],\n",
              " 'medians': [<matplotlib.lines.Line2D at 0x7fed31f042b0>,\n",
              "  <matplotlib.lines.Line2D at 0x7fed31f15df0>,\n",
              "  <matplotlib.lines.Line2D at 0x7fed31f26970>],\n",
              " 'fliers': [<matplotlib.lines.Line2D at 0x7fed31f04910>,\n",
              "  <matplotlib.lines.Line2D at 0x7fed31f1f490>,\n",
              "  <matplotlib.lines.Line2D at 0x7fed31f26fd0>],\n",
              " 'means': [<matplotlib.lines.Line2D at 0x7fed31f045b0>,\n",
              "  <matplotlib.lines.Line2D at 0x7fed31f1f130>,\n",
              "  <matplotlib.lines.Line2D at 0x7fed31f26c70>]}"
            ]
          },
          "metadata": {},
          "execution_count": 84
        },
        {
          "output_type": "display_data",
          "data": {
            "text/plain": [
              "<Figure size 864x360 with 1 Axes>"
            ],
            "image/png": "[encoded data removed]"
          },
          "metadata": {
            "needs_background": "light"
          }
        }
      ]
    },
    {
      "cell_type": "markdown",
      "source": [
        "##**II. Seq_to_Seq Model**"
      ],
      "metadata": {
        "id": "5RLi-DJsNdg-"
      }
    },
    {
      "cell_type": "markdown",
      "source": [
        "###**&nbsp;1. Modeling Preprocessing Steps**"
      ],
      "metadata": {
        "id": "KKOEuyrYQUys"
      }
    },
    {
      "cell_type": "code",
      "source": [
        "#NAMESPACE\n",
        "FILTERS = \"([~.,!?\\\"':;)(])\"\n",
        "\n",
        "#tokens\n",
        "PAD = \"<PAD>\"\n",
        "STD = \"<SOS>\" #Start of Sequence\n",
        "END = \"<END>\" #End of Sequence\n",
        "UNK = \"<UNK>\" #Unknown\n",
        "\n",
        "#indexes\n",
        "PAD_INDEX = 0\n",
        "STD_INDEX = 1\n",
        "END_INDEX = 2\n",
        "UNK_INDEX = 3\n",
        "\n",
        "MARKER = [PAD, STD, END, UNK]\n",
        "CHANGE_FILTER = re.compile(FILTERS)\n",
        "\n",
        "MAX_SEQUENCE = 25"
      ],
      "metadata": {
        "id": "oCIjnvDiNlMZ"
      },
      "execution_count": 8,
      "outputs": []
    },
    {
      "cell_type": "code",
      "source": [
        "def load_data(path):\n",
        "  data_df = pd.read_csv(path, header = 0)\n",
        "  question, answer = list(data_df['Q']), list(data_df['A'])\n",
        "\n",
        "  return question, answer"
      ],
      "metadata": {
        "id": "GdQaBCAoQ0g5"
      },
      "execution_count": 9,
      "outputs": []
    },
    {
      "cell_type": "code",
      "source": [
        "def data_tokenizer(data):\n",
        "  words = [] #word_dictionary\n",
        "  for sentence in data:\n",
        "    sentence = re.sub(CHANGE_FILTER, '', sentence) #Removing Special Symbols\n",
        "    for word in sentence.split():\n",
        "      words.append(word)\n",
        "  return [word for word in words if word] #exclude empty element"
      ],
      "metadata": {
        "id": "P9c__kM7SIXO"
      },
      "execution_count": 10,
      "outputs": []
    },
    {
      "cell_type": "code",
      "source": [
        "def morpheme_tokenizer(data):\n",
        "  morph_analyzer = Okt()\n",
        "  result_data = []\n",
        "  for seq in tqdm(data):\n",
        "    morpheme_seq = ' '.join(morph_analyzer.morphs(re.sub(' ', '', seq)))\n",
        "    result_data.append(morpheme_seq)\n",
        "\n",
        "  return result_data"
      ],
      "metadata": {
        "id": "juMm-i81S1t3"
      },
      "execution_count": 11,
      "outputs": []
    },
    {
      "cell_type": "code",
      "source": [
        "def load_word_dictionary(path, vocab_path, tokenize_into_morphemes = False):\n",
        "  word_dictionary = []\n",
        "  if not os.path.exists(vocab_path):\n",
        "    if os.path.exists(path):\n",
        "      data_df = pd.read_csv(path, encoding = 'utf-8')\n",
        "      question, answer = list(data_df['Q']), list(data_df[\"A\"])\n",
        "      if tokenize_into_morphemes:\n",
        "        question = morpheme_tokenizer(question)\n",
        "        answer = morpheme_tokenizer(answer)\n",
        "      \n",
        "      data = []\n",
        "      data.extend(question)\n",
        "      data.extend(answer)\n",
        "      words= data_tokenizer(data)\n",
        "      words = list(set(words)) #excluding overlapped words\n",
        "      words[:0] = MARKER\n",
        "    \n",
        "    with open(vocab_path, 'w', encoding = 'utf-8') as vocabulary_file:\n",
        "      for word in words:\n",
        "        vocabulary_file.write(word + '\\n')\n",
        "    \n",
        "  with open(vocab_path, 'r', encoding = 'utf-8') as vocabulary_file:\n",
        "    for line in vocabulary_file:\n",
        "      word_dictionary.append(line.strip())\n",
        "  \n",
        "  word2idx, idx2word = make_vocabulary(word_dictionary)\n",
        "\n",
        "  return word2idx, idx2word, len(word2idx)"
      ],
      "metadata": {
        "id": "Uu9LYSe6UTUF"
      },
      "execution_count": 12,
      "outputs": []
    },
    {
      "cell_type": "code",
      "source": [
        "def make_vocabulary(word_dictionary):\n",
        "  word2idx = {word: idx for idx, word in enumerate(word_dictionary)}\n",
        "  idx2word = {idx: word for idx, word in enumerate(word_dictionary)}\n",
        "  \n",
        "  return word2idx, idx2word"
      ],
      "metadata": {
        "id": "0PG5-2rwaTB8"
      },
      "execution_count": 13,
      "outputs": []
    },
    {
      "cell_type": "code",
      "source": [
        "def enc_preprocessing(value, dictionary, tokenize_into_morphemes = False):\n",
        "  sequences_input_index = []\n",
        "  sequences_length = []\n",
        "\n",
        "  if tokenize_into_morphemes:\n",
        "    value = morpheme_tokenizer(value)\n",
        "  \n",
        "  for sequence in value:\n",
        "    sequence = re.sub(CHANGE_FILTER, \"\", sequence)\n",
        "    sequence_index = []\n",
        "    for word in sequence.split():\n",
        "      if dictionary.get(word) is not None:\n",
        "        sequence_index.extend([dictionary[word]])\n",
        "      else:\n",
        "        sequence_index.extend([dictionary[UNK]])\n",
        "    \n",
        "    if len(sequence_index) > MAX_SEQUENCE:\n",
        "      sequence_index = sequence_index[:MAX_SEQUENCE]\n",
        "  \n",
        "    sequences_length.append(len(sequence_index))\n",
        "    sequence_index += (MAX_SEQUENCE - len(sequence_index)) * [dictionary[PAD]]\n",
        "\n",
        "    sequences_input_index.append(sequence_index)\n",
        "  \n",
        "  return np.asarray(sequences_input_index), sequences_length"
      ],
      "metadata": {
        "id": "b3YrRAHZa5ig"
      },
      "execution_count": 14,
      "outputs": []
    },
    {
      "cell_type": "code",
      "source": [
        "def dec_output_preprocessing(value, dictionary, tokenize_into_morphemes = False):\n",
        "  sequences_output_index = []\n",
        "  sequences_length = []\n",
        "\n",
        "  if tokenize_into_morphemes:\n",
        "    value = morpheme_tokenizer(value)\n",
        "  \n",
        "  for sequence in value:\n",
        "    sequence = re.sub(CHANGE_FILTER, \"\", sequence)\n",
        "    sequence_index = []\n",
        "    sequence_index = [dictionary[STD]] + [dictionary[word] if word in dictionary else dictionary[UNK] for word in sequence.split()]\n",
        "\n",
        "    if len(sequence_index) > MAX_SEQUENCE:\n",
        "      sequence_index = sequence_index[:MAX_SEQUENCE]\n",
        "\n",
        "    sequences_length.append(len(sequence_index))\n",
        "    sequence_index += (MAX_SEQUENCE - len(sequence_index)) * [dictionary[PAD]]\n",
        "\n",
        "    sequences_output_index.append(sequence_index)\n",
        "  \n",
        "  return np.asarray(sequences_output_index), sequences_length"
      ],
      "metadata": {
        "id": "YOUcdHjfE4xq"
      },
      "execution_count": 15,
      "outputs": []
    },
    {
      "cell_type": "code",
      "source": [
        "def dec_target_preprocessing(value, dictionary, tokenize_into_morphemes = False):\n",
        "  sequences_target_index = []\n",
        "\n",
        "  if tokenize_into_morphemes:\n",
        "    value = morpheme_tokenizer(value)\n",
        "  \n",
        "  for sequence in value:\n",
        "    sequence = re.sub(CHANGE_FILTER, \"\", sequence)\n",
        "    sequence_index = [dictionary[word] if word in dictionary else dictionary[UNK] for word in sequence.split()]\n",
        "\n",
        "    if len(sequence_index) >= MAX_SEQUENCE:\n",
        "      sequence_index = sequence_index[:MAX_SEQUENCE -1] +[dictionary[END]]\n",
        "    else:\n",
        "      sequence_index += [dictionary[END]]\n",
        "\n",
        "    sequence_index += (MAX_SEQUENCE - len(sequence_index)) * [dictionary[PAD]]\n",
        "    sequences_target_index.append(sequence_index)\n",
        "  \n",
        "  return np.asarray(sequences_target_index)"
      ],
      "metadata": {
        "id": "qJLSI6YXMhdq"
      },
      "execution_count": 16,
      "outputs": []
    },
    {
      "cell_type": "markdown",
      "source": [
        "###**&nbsp;2. Preprocessing**"
      ],
      "metadata": {
        "id": "hkeo6QYhQ3Y1"
      }
    },
    {
      "cell_type": "code",
      "source": [
        "PATH = 'data_in/ChatBotData.csv'\n",
        "VOCAB_PATH = 'data_in/vocabulary.txt'\n",
        "\n",
        "inputs, outputs = load_data(PATH)\n",
        "char2idx, idx2char, vocab_size = load_word_dictionary(PATH, VOCAB_PATH, tokenize_into_morphemes = False)"
      ],
      "metadata": {
        "id": "MUqScTxZOBb9"
      },
      "execution_count": 17,
      "outputs": []
    },
    {
      "cell_type": "code",
      "source": [
        "index_inputs, input_seq_len = enc_preprocessing(inputs, char2idx, tokenize_into_morphemes = False)\n",
        "index_outputs, output_seq_len = dec_output_preprocessing(outputs, char2idx, tokenize_into_morphemes = False)\n",
        "index_targets = dec_target_preprocessing(outputs, char2idx, tokenize_into_morphemes = False)"
      ],
      "metadata": {
        "id": "nrZQ5h-KRP1y"
      },
      "execution_count": 18,
      "outputs": []
    },
    {
      "cell_type": "code",
      "source": [
        "data_configs = {}\n",
        "data_configs['char2idx'] = char2idx\n",
        "data_configs['idx2char'] = idx2char\n",
        "data_configs['vocab_size'] = vocab_size\n",
        "data_configs['pad_symbol'] = PAD\n",
        "data_configs['std_symbol'] = STD\n",
        "data_configs['end_symbol'] = END\n",
        "data_configs['unk_symbol'] = UNK"
      ],
      "metadata": {
        "id": "nW7UGcqPSvRc"
      },
      "execution_count": 19,
      "outputs": []
    },
    {
      "cell_type": "code",
      "source": [
        "DATA_IN_PATH = './data_in/'\n",
        "TRAIN_INPUTS  = 'train_inputs.npy'\n",
        "TRAIN_OUTPUTS = 'train_outputs.npy'\n",
        "TRAIN_TARGETS = 'train_targets.npy'\n",
        "DATA_CONFIGS = 'data_configs.json'\n",
        "\n",
        "np.save(open(DATA_IN_PATH + TRAIN_INPUTS, 'wb'), index_inputs)\n",
        "np.save(open(DATA_IN_PATH + TRAIN_OUTPUTS, 'wb'), index_outputs)\n",
        "np.save(open(DATA_IN_PATH + TRAIN_TARGETS, 'wb'), index_targets)\n",
        "\n",
        "json.dump(data_configs, open(DATA_IN_PATH + DATA_CONFIGS, 'w'))"
      ],
      "metadata": {
        "id": "ix-AXFqwTokV"
      },
      "execution_count": 20,
      "outputs": []
    },
    {
      "cell_type": "markdown",
      "source": [
        "###**&nbsp;3. Modeling**"
      ],
      "metadata": {
        "id": "2RYHuEgLV35I"
      }
    },
    {
      "cell_type": "code",
      "source": [
        "import tensorflow as tf\n",
        "import numpy as np\n",
        "import os\n",
        "\n",
        "from tensorflow.keras.callbacks import EarlyStopping, ModelCheckpoint\n",
        "import matplotlib.pyplot as plt\n",
        "\n",
        "#from preprocess import *"
      ],
      "metadata": {
        "id": "oFOGXF7vYJwa"
      },
      "execution_count": 21,
      "outputs": []
    },
    {
      "cell_type": "code",
      "source": [
        "def plot_graphs(history, string):\n",
        "  plt.plot(history.history[string])\n",
        "  plt.plot(history.history['val_'+string], '')\n",
        "  plt.xlabel('Epochs')\n",
        "  plt.ylabel(string)\n",
        "  plt.legend([string, 'val_'+string])\n",
        "  plt.show()"
      ],
      "metadata": {
        "id": "A_X_hUlDVzzc"
      },
      "execution_count": 22,
      "outputs": []
    },
    {
      "cell_type": "code",
      "source": [
        "DATA_IN_PATH = './data_in/'\n",
        "DATA_OUT_PATH = './data_out/'\n",
        "TRAIN_INPUTS  = 'train_inputs.npy'\n",
        "TRAIN_OUTPUTS = 'train_outputs.npy'\n",
        "TRAIN_TARGETS = 'train_targets.npy'\n",
        "DATA_CONFIGS = 'data_configs.json'"
      ],
      "metadata": {
        "id": "mcv-re4SYBpE"
      },
      "execution_count": 23,
      "outputs": []
    },
    {
      "cell_type": "code",
      "source": [
        "index_inputs = np.load(open(DATA_IN_PATH + TRAIN_INPUTS, 'rb'))\n",
        "index_outputs = np.load(open(DATA_IN_PATH + TRAIN_OUTPUTS, 'rb'))\n",
        "index_targets = np.load(open(DATA_IN_PATH + TRAIN_TARGETS, 'rb'))\n",
        "prepro_configs = json.load(open(DATA_IN_PATH + DATA_CONFIGS, 'r'))"
      ],
      "metadata": {
        "id": "5OfBKNQPYECF"
      },
      "execution_count": 24,
      "outputs": []
    },
    {
      "cell_type": "code",
      "source": [
        "print(len(index_inputs), len(index_outputs), len(index_targets))"
      ],
      "metadata": {
        "colab": {
          "base_uri": "https://localhost:8080/"
        },
        "id": "C-PuqgUdaEYk",
        "outputId": "b60d61cc-373a-4c66-ff14-123971aadfe7"
      },
      "execution_count": 25,
      "outputs": [
        {
          "output_type": "stream",
          "name": "stdout",
          "text": [
            "11823 11823 11823\n"
          ]
        }
      ]
    },
    {
      "cell_type": "code",
      "source": [
        "#Hyper Parameters\n",
        "MODEL_NAME = 'seq2seq_kor'\n",
        "BATCH_SIZE = 2\n",
        "MAX_SEQUENCE = 25\n",
        "EPOCH = 50\n",
        "UNITS = 1024\n",
        "EMBEDDING_DIM = 256\n",
        "VALIDATION_SPLIT = 0.1\n",
        "\n",
        "char2idx = prepro_configs['char2idx']\n",
        "idx2char = prepro_configs['idx2char']\n",
        "std_index = prepro_configs['std_symbol']\n",
        "end_index = prepro_configs['end_symbol']\n",
        "vocab_size = prepro_configs['vocab_size']"
      ],
      "metadata": {
        "id": "jgkms8YoaXa_"
      },
      "execution_count": 26,
      "outputs": []
    },
    {
      "cell_type": "code",
      "source": [
        "#Encoder\n",
        "class Encoder(tf.keras.layers.Layer):\n",
        "  def __init__(self, vocab_size, embedding_dim, enc_units, batch_sz):\n",
        "    super(Encoder, self).__init__()\n",
        "    self.batch_sz = batch_sz\n",
        "    self.enc_units = enc_units\n",
        "    self.vocab_size = vocab_size\n",
        "    self.embedding_dim = embedding_dim\n",
        "\n",
        "    self.embedding = tf.keras.layers.Embedding(self.vocab_size, self.embedding_dim)\n",
        "    self.gru = tf.keras.layers.GRU(self.enc_units,\n",
        "                                   return_sequences = True,\n",
        "                                   return_state =True,\n",
        "                                   recurrent_initializer = 'glorot_uniform')\n",
        "    \n",
        "  def call(self, x, hidden):\n",
        "    x = self.embedding(x)\n",
        "    output, state = self.gru(x, initial_state = hidden)\n",
        "    return output, state\n",
        "  \n",
        "  def initialize_hidden_state(self, inp):\n",
        "    return tf.zeros((tf.shape(inp)[0], self.enc_units))"
      ],
      "metadata": {
        "id": "zNIS8lUNa-wk"
      },
      "execution_count": 27,
      "outputs": []
    },
    {
      "cell_type": "code",
      "source": [
        "#Attention\n",
        "class Attention(tf.keras.layers.Layer):\n",
        "  def __init__(self, units):\n",
        "    super(Attention, self).__init__()\n",
        "    self.W1 = tf.keras.layers.Dense(units)\n",
        "    self.W2 = tf.keras.layers.Dense(units)\n",
        "    self.V = tf.keras.layers.Dense(1)\n",
        "\n",
        "  def call(self, query, values):\n",
        "    hidden_with_time_axis = tf.expand_dims(query,1)\n",
        "    score = self.V(tf.nn.tanh(\n",
        "        self.W1(values) + self.W2(hidden_with_time_axis)))\n",
        "    \n",
        "    attention_weights = tf.nn.softmax(score, axis = 1)\n",
        "\n",
        "    context_vector = attention_weights * values\n",
        "    context_vector = tf.reduce_sum(context_vector, axis=1)\n",
        "\n",
        "    return context_vector, attention_weights"
      ],
      "metadata": {
        "id": "f4HAHEA3d8xy"
      },
      "execution_count": 28,
      "outputs": []
    },
    {
      "cell_type": "code",
      "source": [
        "#Decoder\n",
        "class Decoder(tf.keras.layers.Layer):\n",
        "  def __init__(self, vocab_size, embedding_dim, dec_units, batch_sz):\n",
        "    super(Decoder,self).__init__()\n",
        "\n",
        "    self.batch_sz = batch_sz\n",
        "    self.dec_units = dec_units\n",
        "    self.vocab_size = vocab_size\n",
        "    self.embedding_dim = embedding_dim\n",
        "\n",
        "    self.embedding = tf.keras.layers.Embedding(self.vocab_size, self.embedding_dim)\n",
        "    self.gru = tf.keras.layers.GRU(self.dec_units,\n",
        "                                   return_sequences = True,\n",
        "                                   return_state = True,\n",
        "                                   recurrent_initializer = 'glorot_uniform')\n",
        "    self.fc = tf.keras.layers.Dense(self.vocab_size)\n",
        "\n",
        "    self.attention = Attention(self.dec_units)\n",
        "  \n",
        "  def call(self, x, hidden, enc_output):\n",
        "    context_vector, attention_weights = self.attention(hidden, enc_output)\n",
        "\n",
        "    x = self.embedding(x)\n",
        "    x = tf.concat([tf.expand_dims(context_vector,1), x], axis = -1)\n",
        "\n",
        "    output, state = self.gru(x)\n",
        "    output = tf.reshape(output, (-1, output.shape[2]))\n",
        "\n",
        "    x= self.fc(output)\n",
        "\n",
        "    return x, state, attention_weights"
      ],
      "metadata": {
        "id": "MUv5ZsRre6-w"
      },
      "execution_count": 29,
      "outputs": []
    },
    {
      "cell_type": "code",
      "source": [
        "optimizer = tf.keras.optimizers.Adam()\n",
        "\n",
        "loss_object = tf.keras.losses.SparseCategoricalCrossentropy(from_logits = True, reduction = 'none')\n",
        "\n",
        "train_accuracy = tf.keras.metrics.SparseCategoricalAccuracy(name='accuracy')\n",
        "\n",
        "def loss(real, pred):\n",
        "  mask = tf.math.logical_not(tf.math.equal(real,0))\n",
        "  loss_ = loss_object(real, pred)\n",
        "  mask = tf.cast(mask, dtype = loss_.dtype)\n",
        "  return tf.reduce_mean(loss_)\n",
        "\n",
        "def accuracy(real, pred):\n",
        "  mask = tf.math.logical_not(tf.math.equal(real,0))\n",
        "  mask = tf.expand_dims(tf.cast(mask, dtype = pred.dtype), axis = -1)\n",
        "  pred *= mask\n",
        "  acc =train_accuracy(real, pred)\n",
        "\n",
        "  return tf.reduce_mean(acc)"
      ],
      "metadata": {
        "id": "rUsS4qz0gYnQ"
      },
      "execution_count": 30,
      "outputs": []
    },
    {
      "cell_type": "code",
      "source": [
        "class seq2seq(tf.keras.Model):\n",
        "  def __init__(self, vocab_size, embedding_dim, enc_units, dec_units, batch_sz, end_token_idx= 2):\n",
        "    super(seq2seq, self).__init__()\n",
        "    self.end_token_idx = end_token_idx\n",
        "    self.encoder = Encoder(vocab_size, embedding_dim, enc_units, batch_sz)\n",
        "    self.decoder = Decoder(vocab_size, embedding_dim, dec_units, batch_sz)\n",
        "\n",
        "  def call(self, x):\n",
        "    inp, tar =x\n",
        "\n",
        "    enc_hidden = self.encoder.initialize_hidden_state(inp)\n",
        "    enc_output, enc_hidden = self.encoder(inp, enc_hidden)\n",
        "\n",
        "    dec_hidden = enc_hidden\n",
        "\n",
        "    predict_tokens = []\n",
        "    for t in range(0, tar.shape[1]):\n",
        "      dec_input = tf.dtypes.cast(tf.expand_dims(tar[:,t],1), tf.float32)\n",
        "      predictions, dec_hidden, _ = self.decoder(dec_input, dec_hidden, enc_output)\n",
        "      predict_tokens.append(tf.dtypes.cast(predictions, tf.float32))\n",
        "    \n",
        "    return tf.stack(predict_tokens, axis=1)\n",
        "  \n",
        "  def inference(self, x):\n",
        "    inp = x\n",
        "\n",
        "    enc_hidden = self.encoder.initialize_hidden_state(inp)\n",
        "    enc_output, enc_hidden = self.encoder(inp, enc_hidden)\n",
        "\n",
        "    dec_hidden = enc_hidden\n",
        "\n",
        "    dec_input = tf.expand_dims([char2idx[std_index]],1)\n",
        "\n",
        "    predict_tokens = []\n",
        "    for t in range(0, MAX_SEQUENCE):\n",
        "      predictions, dec_hidden, _= self.decoder(dec_input, dec_hidden, enc_output)\n",
        "      predict_token = tf.argmax(predictions[0])\n",
        "\n",
        "      if predict_token == self.end_token_idx:\n",
        "        break\n",
        "      \n",
        "      predict_tokens.append(predict_token)\n",
        "      dec_input = tf.dtypes.cast(tf.expand_dims([predict_token], 0), tf.float32)\n",
        "\n",
        "    return tf.stack(predict_tokens, axis = 0).numpy()"
      ],
      "metadata": {
        "id": "Ev78On_RhRmU"
      },
      "execution_count": 52,
      "outputs": []
    },
    {
      "cell_type": "code",
      "source": [
        "model = seq2seq(vocab_size, EMBEDDING_DIM, UNITS, UNITS, BATCH_SIZE, char2idx[end_index])\n",
        "model.compile(loss= loss, optimizer = tf.keras.optimizers.Adam(1e-3), metrics = [accuracy])"
      ],
      "metadata": {
        "id": "q9pC6UQxj3p_"
      },
      "execution_count": 53,
      "outputs": []
    },
    {
      "cell_type": "code",
      "source": [
        "PATH = DATA_OUT_PATH + MODEL_NAME\n",
        "os.makedirs(os.path.join(PATH), exist_ok = True)\n",
        "\n",
        "checkpoint_path = DATA_OUT_PATH + MODEL_NAME +'/weights.h5'\n",
        "\n",
        "cp_callback = ModelCheckpoint(\n",
        "    checkpoint_path, monitor = 'val_accuracy', verbose =1, save_best_only =True, save_weights_only = True)\n",
        "\n",
        "earlystop_callback = EarlyStopping(monitor='val_accuracy', min_delta = 0.0001, patience = 10)"
      ],
      "metadata": {
        "id": "IyWeczUYkHOt"
      },
      "execution_count": 33,
      "outputs": []
    },
    {
      "cell_type": "code",
      "source": [
        "history = model.fit([index_inputs, index_outputs], index_targets, batch_size = BATCH_SIZE, epochs = 10, validation_split = VALIDATION_SPLIT, callbacks = [earlystop_callback, cp_callback])"
      ],
      "metadata": {
        "colab": {
          "base_uri": "https://localhost:8080/"
        },
        "id": "eKKI-CSEkWpV",
        "outputId": "25fe90c4-7824-4255-c56d-1a8beddfbf04"
      },
      "execution_count": 34,
      "outputs": [
        {
          "output_type": "stream",
          "name": "stdout",
          "text": [
            "Epoch 1/10\n",
            "5320/5320 [==============================] - ETA: 0s - loss: 1.2905 - accuracy: 0.8492\n",
            "Epoch 1: val_accuracy improved from -inf to 0.85265, saving model to ./data_out/seq2seq_kor/weights.h5\n",
            "5320/5320 [==============================] - 849s 153ms/step - loss: 1.2905 - accuracy: 0.8492 - val_loss: 1.4841 - val_accuracy: 0.8526\n",
            "Epoch 2/10\n",
            "5320/5320 [==============================] - ETA: 0s - loss: 1.1066 - accuracy: 0.8538\n",
            "Epoch 2: val_accuracy improved from 0.85265 to 0.85483, saving model to ./data_out/seq2seq_kor/weights.h5\n",
            "5320/5320 [==============================] - 809s 152ms/step - loss: 1.1066 - accuracy: 0.8538 - val_loss: 1.5067 - val_accuracy: 0.8548\n",
            "Epoch 3/10\n",
            "5320/5320 [==============================] - ETA: 0s - loss: 1.0085 - accuracy: 0.8560\n",
            "Epoch 3: val_accuracy improved from 0.85483 to 0.85682, saving model to ./data_out/seq2seq_kor/weights.h5\n",
            "5320/5320 [==============================] - 809s 152ms/step - loss: 1.0085 - accuracy: 0.8560 - val_loss: 1.5956 - val_accuracy: 0.8568\n",
            "Epoch 4/10\n",
            "5320/5320 [==============================] - ETA: 0s - loss: 0.8638 - accuracy: 0.8581\n",
            "Epoch 4: val_accuracy improved from 0.85682 to 0.85945, saving model to ./data_out/seq2seq_kor/weights.h5\n",
            "5320/5320 [==============================] - 809s 152ms/step - loss: 0.8638 - accuracy: 0.8581 - val_loss: 1.6337 - val_accuracy: 0.8594\n",
            "Epoch 5/10\n",
            "5320/5320 [==============================] - ETA: 0s - loss: 0.6478 - accuracy: 0.8619\n",
            "Epoch 5: val_accuracy improved from 0.85945 to 0.86425, saving model to ./data_out/seq2seq_kor/weights.h5\n",
            "5320/5320 [==============================] - 810s 152ms/step - loss: 0.6478 - accuracy: 0.8619 - val_loss: 1.8244 - val_accuracy: 0.8642\n",
            "Epoch 6/10\n",
            "5320/5320 [==============================] - ETA: 0s - loss: 0.3957 - accuracy: 0.8686\n",
            "Epoch 6: val_accuracy improved from 0.86425 to 0.87243, saving model to ./data_out/seq2seq_kor/weights.h5\n",
            "5320/5320 [==============================] - 810s 152ms/step - loss: 0.3957 - accuracy: 0.8686 - val_loss: 2.0033 - val_accuracy: 0.8724\n",
            "Epoch 7/10\n",
            "5320/5320 [==============================] - ETA: 0s - loss: 0.2126 - accuracy: 0.8777\n",
            "Epoch 7: val_accuracy improved from 0.87243 to 0.88235, saving model to ./data_out/seq2seq_kor/weights.h5\n",
            "5320/5320 [==============================] - 809s 152ms/step - loss: 0.2126 - accuracy: 0.8777 - val_loss: 2.2587 - val_accuracy: 0.8823\n",
            "Epoch 8/10\n",
            "5320/5320 [==============================] - ETA: 0s - loss: 0.1138 - accuracy: 0.8875\n",
            "Epoch 8: val_accuracy improved from 0.88235 to 0.89201, saving model to ./data_out/seq2seq_kor/weights.h5\n",
            "5320/5320 [==============================] - 809s 152ms/step - loss: 0.1138 - accuracy: 0.8875 - val_loss: 2.3760 - val_accuracy: 0.8920\n",
            "Epoch 9/10\n",
            "5320/5320 [==============================] - ETA: 0s - loss: 0.0645 - accuracy: 0.8966\n",
            "Epoch 9: val_accuracy improved from 0.89201 to 0.90063, saving model to ./data_out/seq2seq_kor/weights.h5\n",
            "5320/5320 [==============================] - 808s 152ms/step - loss: 0.0645 - accuracy: 0.8966 - val_loss: 2.5253 - val_accuracy: 0.9006\n",
            "Epoch 10/10\n",
            "5320/5320 [==============================] - ETA: 0s - loss: 0.0410 - accuracy: 0.9045\n",
            "Epoch 10: val_accuracy improved from 0.90063 to 0.90801, saving model to ./data_out/seq2seq_kor/weights.h5\n",
            "5320/5320 [==============================] - 822s 154ms/step - loss: 0.0410 - accuracy: 0.9045 - val_loss: 2.5600 - val_accuracy: 0.9080\n"
          ]
        }
      ]
    },
    {
      "cell_type": "code",
      "source": [
        "#load_weights\n",
        "model.built = vocab_size\n",
        "SAVE_FILE_NM = 'weights.h5'\n",
        "model.load_weights(os.path.join(DATA_OUT_PATH, MODEL_NAME, SAVE_FILE_NM))"
      ],
      "metadata": {
        "id": "7fq3cTYurAcx"
      },
      "execution_count": 78,
      "outputs": []
    },
    {
      "cell_type": "code",
      "source": [
        "question_ex = '여자친구 선물 추천해줘'\n",
        "\n",
        "test_index_inputs, _ = enc_preprocessing([question_ex], char2idx)\n",
        "predict_tokens = model.inference(test_index_inputs)\n",
        "\n",
        "print(' '.join([idx2char[str(t)] for t in predict_tokens]))"
      ],
      "metadata": {
        "colab": {
          "base_uri": "https://localhost:8080/"
        },
        "id": "tqjchGUErUVb",
        "outputId": "beb842a7-610e-4d3f-f6be-7a48ac842bd8"
      },
      "execution_count": 83,
      "outputs": [
        {
          "output_type": "stream",
          "name": "stdout",
          "text": [
            "같이 여행을 떠나보세요\n"
          ]
        }
      ]
    },
    {
      "cell_type": "code",
      "source": [
        "predict_tokens"
      ],
      "metadata": {
        "colab": {
          "base_uri": "https://localhost:8080/"
        },
        "id": "E4as74isu3xE",
        "outputId": "94748855-b476-4d0e-acd2-593978a4a8c0"
      },
      "execution_count": 84,
      "outputs": [
        {
          "output_type": "execute_result",
          "data": {
            "text/plain": [
              "array([16845, 19402, 14143])"
            ]
          },
          "metadata": {},
          "execution_count": 84
        }
      ]
    },
    {
      "cell_type": "code",
      "source": [
        "def chat_bot(input_str):\n",
        "  index_input_, _ = enc_preprocessing([input_str], char2idx)\n",
        "  predict_tokens = model.inference(index_input_)\n",
        "\n",
        "  return(' '.join([idx2char[str(t)] for t in predict_tokens]))"
      ],
      "metadata": {
        "id": "konsjekirw6M"
      },
      "execution_count": 90,
      "outputs": []
    },
    {
      "cell_type": "code",
      "source": [
        "chat_bot('여자친구 선물 추천해줘')"
      ],
      "metadata": {
        "colab": {
          "base_uri": "https://localhost:8080/",
          "height": 36
        },
        "id": "rQfGGHjFwmD3",
        "outputId": "ee17f5a6-f8c1-4284-e177-9fee95c93707"
      },
      "execution_count": 91,
      "outputs": [
        {
          "output_type": "execute_result",
          "data": {
            "text/plain": [
              "'같이 여행을 떠나보세요'"
            ],
            "application/vnd.google.colaboratory.intrinsic+json": {
              "type": "string"
            }
          },
          "metadata": {},
          "execution_count": 91
        }
      ]
    },
    {
      "cell_type": "code",
      "source": [
        "!pip install gradio\n",
        "import gradio as gr"
      ],
      "metadata": {
        "id": "oG4bP72ew4QF"
      },
      "execution_count": null,
      "outputs": []
    },
    {
      "cell_type": "code",
      "source": [
        "iface=gr.Interface(\n",
        "    fn=chat_bot,\n",
        "    inputs=gr.inputs.Textbox(lines=2,placeholder=\"문장을 입력하시오.\"),\n",
        "    outputs = 'text'\n",
        ")\n",
        "\n",
        "iface.launch(share = True)"
      ],
      "metadata": {
        "colab": {
          "base_uri": "https://localhost:8080/",
          "height": 1000
        },
        "id": "pvf2_8Z-sLNU",
        "outputId": "d3810138-750d-48f7-b0e0-7da4b489c228"
      },
      "execution_count": 93,
      "outputs": [
        {
          "output_type": "stream",
          "name": "stdout",
          "text": [
            "Looking in indexes: https://pypi.org/simple, https://us-python.pkg.dev/colab-wheels/public/simple/\n",
            "Requirement already satisfied: gradio in /usr/local/lib/python3.8/dist-packages (3.16.2)\n",
            "Requirement already satisfied: matplotlib in /usr/local/lib/python3.8/dist-packages (from gradio) (3.2.2)\n",
            "Requirement already satisfied: websockets>=10.0 in /usr/local/lib/python3.8/dist-packages (from gradio) (10.4)\n",
            "Requirement already satisfied: numpy in /usr/local/lib/python3.8/dist-packages (from gradio) (1.21.6)\n",
            "Requirement already satisfied: pycryptodome in /usr/local/lib/python3.8/dist-packages (from gradio) (3.16.0)\n",
            "Requirement already satisfied: orjson in /usr/local/lib/python3.8/dist-packages (from gradio) (3.8.5)\n",
            "Requirement already satisfied: fsspec in /usr/local/lib/python3.8/dist-packages (from gradio) (2022.11.0)\n",
            "Requirement already satisfied: uvicorn in /usr/local/lib/python3.8/dist-packages (from gradio) (0.20.0)\n",
            "Requirement already satisfied: pillow in /usr/local/lib/python3.8/dist-packages (from gradio) (7.1.2)\n",
            "Requirement already satisfied: httpx in /usr/local/lib/python3.8/dist-packages (from gradio) (0.23.3)\n",
            "Requirement already satisfied: ffmpy in /usr/local/lib/python3.8/dist-packages (from gradio) (0.3.0)\n",
            "Requirement already satisfied: typing-extensions in /usr/local/lib/python3.8/dist-packages (from gradio) (4.4.0)\n",
            "Requirement already satisfied: aiohttp in /usr/local/lib/python3.8/dist-packages (from gradio) (3.8.3)\n",
            "Requirement already satisfied: pydub in /usr/local/lib/python3.8/dist-packages (from gradio) (0.25.1)\n",
            "Requirement already satisfied: aiofiles in /usr/local/lib/python3.8/dist-packages (from gradio) (22.1.0)\n",
            "Requirement already satisfied: pydantic in /usr/local/lib/python3.8/dist-packages (from gradio) (1.10.4)\n",
            "Requirement already satisfied: python-multipart in /usr/local/lib/python3.8/dist-packages (from gradio) (0.0.5)\n",
            "Requirement already satisfied: jinja2 in /usr/local/lib/python3.8/dist-packages (from gradio) (2.11.3)\n",
            "Requirement already satisfied: altair>=4.2.0 in /usr/local/lib/python3.8/dist-packages (from gradio) (4.2.0)\n",
            "Requirement already satisfied: pyyaml in /usr/local/lib/python3.8/dist-packages (from gradio) (6.0)\n",
            "Requirement already satisfied: markdown-it-py[linkify,plugins] in /usr/local/lib/python3.8/dist-packages (from gradio) (2.1.0)\n",
            "Requirement already satisfied: pandas in /usr/local/lib/python3.8/dist-packages (from gradio) (1.3.5)\n",
            "Requirement already satisfied: requests in /usr/local/lib/python3.8/dist-packages (from gradio) (2.25.1)\n",
            "Requirement already satisfied: fastapi in /usr/local/lib/python3.8/dist-packages (from gradio) (0.89.1)\n",
            "Requirement already satisfied: markupsafe in /usr/local/lib/python3.8/dist-packages (from gradio) (2.0.1)\n",
            "Requirement already satisfied: jsonschema>=3.0 in /usr/local/lib/python3.8/dist-packages (from altair>=4.2.0->gradio) (4.3.3)\n",
            "Requirement already satisfied: toolz in /usr/local/lib/python3.8/dist-packages (from altair>=4.2.0->gradio) (0.12.0)\n",
            "Requirement already satisfied: entrypoints in /usr/local/lib/python3.8/dist-packages (from altair>=4.2.0->gradio) (0.4)\n",
            "Requirement already satisfied: pytz>=2017.3 in /usr/local/lib/python3.8/dist-packages (from pandas->gradio) (2022.7)\n",
            "Requirement already satisfied: python-dateutil>=2.7.3 in /usr/local/lib/python3.8/dist-packages (from pandas->gradio) (2.8.2)\n",
            "Requirement already satisfied: frozenlist>=1.1.1 in /usr/local/lib/python3.8/dist-packages (from aiohttp->gradio) (1.3.3)\n",
            "Requirement already satisfied: multidict<7.0,>=4.5 in /usr/local/lib/python3.8/dist-packages (from aiohttp->gradio) (6.0.4)\n",
            "Requirement already satisfied: charset-normalizer<3.0,>=2.0 in /usr/local/lib/python3.8/dist-packages (from aiohttp->gradio) (2.1.1)\n",
            "Requirement already satisfied: aiosignal>=1.1.2 in /usr/local/lib/python3.8/dist-packages (from aiohttp->gradio) (1.3.1)\n",
            "Requirement already satisfied: yarl<2.0,>=1.0 in /usr/local/lib/python3.8/dist-packages (from aiohttp->gradio) (1.8.2)\n",
            "Requirement already satisfied: attrs>=17.3.0 in /usr/local/lib/python3.8/dist-packages (from aiohttp->gradio) (22.2.0)\n",
            "Requirement already satisfied: async-timeout<5.0,>=4.0.0a3 in /usr/local/lib/python3.8/dist-packages (from aiohttp->gradio) (4.0.2)\n",
            "Requirement already satisfied: starlette==0.22.0 in /usr/local/lib/python3.8/dist-packages (from fastapi->gradio) (0.22.0)\n",
            "Requirement already satisfied: anyio<5,>=3.4.0 in /usr/local/lib/python3.8/dist-packages (from starlette==0.22.0->fastapi->gradio) (3.6.2)\n",
            "Requirement already satisfied: certifi in /usr/local/lib/python3.8/dist-packages (from httpx->gradio) (2022.12.7)\n",
            "Requirement already satisfied: sniffio in /usr/local/lib/python3.8/dist-packages (from httpx->gradio) (1.3.0)\n",
            "Requirement already satisfied: httpcore<0.17.0,>=0.15.0 in /usr/local/lib/python3.8/dist-packages (from httpx->gradio) (0.16.3)\n",
            "Requirement already satisfied: rfc3986[idna2008]<2,>=1.3 in /usr/local/lib/python3.8/dist-packages (from httpx->gradio) (1.5.0)\n",
            "Requirement already satisfied: mdurl~=0.1 in /usr/local/lib/python3.8/dist-packages (from markdown-it-py[linkify,plugins]->gradio) (0.1.2)\n",
            "Requirement already satisfied: linkify-it-py~=1.0 in /usr/local/lib/python3.8/dist-packages (from markdown-it-py[linkify,plugins]->gradio) (1.0.3)\n",
            "Requirement already satisfied: mdit-py-plugins in /usr/local/lib/python3.8/dist-packages (from markdown-it-py[linkify,plugins]->gradio) (0.3.3)\n",
            "Requirement already satisfied: kiwisolver>=1.0.1 in /usr/local/lib/python3.8/dist-packages (from matplotlib->gradio) (1.4.4)\n",
            "Requirement already satisfied: pyparsing!=2.0.4,!=2.1.2,!=2.1.6,>=2.0.1 in /usr/local/lib/python3.8/dist-packages (from matplotlib->gradio) (3.0.9)\n",
            "Requirement already satisfied: cycler>=0.10 in /usr/local/lib/python3.8/dist-packages (from matplotlib->gradio) (0.11.0)\n",
            "Requirement already satisfied: six>=1.4.0 in /usr/local/lib/python3.8/dist-packages (from python-multipart->gradio) (1.15.0)\n",
            "Requirement already satisfied: urllib3<1.27,>=1.21.1 in /usr/local/lib/python3.8/dist-packages (from requests->gradio) (1.24.3)\n",
            "Requirement already satisfied: chardet<5,>=3.0.2 in /usr/local/lib/python3.8/dist-packages (from requests->gradio) (4.0.0)\n",
            "Requirement already satisfied: idna<3,>=2.5 in /usr/local/lib/python3.8/dist-packages (from requests->gradio) (2.10)\n",
            "Requirement already satisfied: click>=7.0 in /usr/local/lib/python3.8/dist-packages (from uvicorn->gradio) (7.1.2)\n",
            "Requirement already satisfied: h11>=0.8 in /usr/local/lib/python3.8/dist-packages (from uvicorn->gradio) (0.14.0)\n",
            "Requirement already satisfied: importlib-resources>=1.4.0 in /usr/local/lib/python3.8/dist-packages (from jsonschema>=3.0->altair>=4.2.0->gradio) (5.10.2)\n",
            "Requirement already satisfied: pyrsistent!=0.17.0,!=0.17.1,!=0.17.2,>=0.14.0 in /usr/local/lib/python3.8/dist-packages (from jsonschema>=3.0->altair>=4.2.0->gradio) (0.19.3)\n",
            "Requirement already satisfied: uc-micro-py in /usr/local/lib/python3.8/dist-packages (from linkify-it-py~=1.0->markdown-it-py[linkify,plugins]->gradio) (1.0.1)\n",
            "Requirement already satisfied: zipp>=3.1.0 in /usr/local/lib/python3.8/dist-packages (from importlib-resources>=1.4.0->jsonschema>=3.0->altair>=4.2.0->gradio) (3.11.0)\n"
          ]
        },
        {
          "output_type": "stream",
          "name": "stderr",
          "text": [
            "/usr/local/lib/python3.8/dist-packages/gradio/inputs.py:27: UserWarning: Usage of gradio.inputs is deprecated, and will not be supported in the future, please import your component from gradio.components\n",
            "  warnings.warn(\n",
            "/usr/local/lib/python3.8/dist-packages/gradio/deprecation.py:40: UserWarning: `optional` parameter is deprecated, and it has no effect\n",
            "  warnings.warn(value)\n",
            "/usr/local/lib/python3.8/dist-packages/gradio/deprecation.py:40: UserWarning: `numeric` parameter is deprecated, and it has no effect\n",
            "  warnings.warn(value)\n"
          ]
        },
        {
          "output_type": "stream",
          "name": "stdout",
          "text": [
            "Colab notebook detected. To show errors in colab notebook, set debug=True in launch()\n",
            "Running on public URL: https://ab96a3b9-2609-47cc.gradio.live\n",
            "\n",
            "This share link expires in 72 hours. For free permanent hosting and GPU upgrades (NEW!), check out Spaces: https://huggingface.co/spaces\n"
          ]
        },
        {
          "output_type": "display_data",
          "data": {
            "text/plain": [
              "<IPython.core.display.HTML object>"
            ],
            "text/html": [
              "<div><iframe src=\"https://ab96a3b9-2609-47cc.gradio.live\" width=\"100%\" height=\"500\" allow=\"autoplay; camera; microphone; clipboard-read; clipboard-write;\" frameborder=\"0\" allowfullscreen></iframe></div>"
            ]
          },
          "metadata": {}
        },
        {
          "output_type": "execute_result",
          "data": {
            "text/plain": []
          },
          "metadata": {},
          "execution_count": 93
        }
      ]
    }
  ]
}
