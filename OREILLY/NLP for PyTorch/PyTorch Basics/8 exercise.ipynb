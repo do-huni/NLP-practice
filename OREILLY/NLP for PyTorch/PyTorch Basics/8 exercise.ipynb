{
  "nbformat": 4,
  "nbformat_minor": 0,
  "metadata": {
    "colab": {
      "provenance": [],
      "authorship_tag": "ABX9TyNBxtO4FxUSPA7gACqdpOyQ",
      "include_colab_link": true
    },
    "kernelspec": {
      "name": "python3",
      "display_name": "Python 3"
    },
    "language_info": {
      "name": "python"
    }
  },
  "cells": [
    {
      "cell_type": "markdown",
      "metadata": {
        "id": "view-in-github",
        "colab_type": "text"
      },
      "source": [
        "<a href=\"https://colab.research.google.com/github/do-huni/NLP_practice/blob/main/OREILLY/NLP%20for%20PyTorch/PyTorch%20Basics/8%20exercise.ipynb\" target=\"_parent\"><img src=\"https://colab.research.google.com/assets/colab-badge.svg\" alt=\"Open In Colab\"/></a>"
      ]
    },
    {
      "cell_type": "markdown",
      "source": [
        "#### 1. 2D 텐서를 만들고 차원 0 위치에 크기가 1인 차원을 추가하세요.\n",
        "\n"
      ],
      "metadata": {
        "id": "J8-xUdlN0pZA"
      }
    },
    {
      "cell_type": "code",
      "execution_count": 24,
      "metadata": {
        "colab": {
          "base_uri": "https://localhost:8080/"
        },
        "id": "Hkkao1vS0k53",
        "outputId": "c6fcd2e9-5481-4186-909f-ae7563f45304"
      },
      "outputs": [
        {
          "output_type": "stream",
          "name": "stdout",
          "text": [
            "tensor([[[1., 1., 1.],\n",
            "         [1., 1., 1.],\n",
            "         [1., 1., 1.]]], dtype=torch.float64) torch.Size([1, 3, 3])\n"
          ]
        }
      ],
      "source": [
        "import torch\n",
        "x = torch.ones(3,3,dtype=float)\n",
        "x = x.unsqueeze(0)\n",
        "print(x, x.shape, sep= '\\n')"
      ]
    },
    {
      "cell_type": "markdown",
      "source": [
        "####2. 이전 텐서에 추가한 차원을 삭제하세요."
      ],
      "metadata": {
        "id": "Uh_j7DVG28g5"
      }
    },
    {
      "cell_type": "code",
      "source": [
        "x = x.squeeze(0)\n",
        "print(x, x.shape, sep= '\\n')"
      ],
      "metadata": {
        "colab": {
          "base_uri": "https://localhost:8080/"
        },
        "id": "ZgvBdhQP3CDn",
        "outputId": "bb4e9036-1868-4ca1-9638-f586c0e79762"
      },
      "execution_count": 25,
      "outputs": [
        {
          "output_type": "stream",
          "name": "stdout",
          "text": [
            "tensor([[1., 1., 1.],\n",
            "        [1., 1., 1.],\n",
            "        [1., 1., 1.]], dtype=torch.float64)\n",
            "torch.Size([3, 3])\n"
          ]
        }
      ]
    },
    {
      "cell_type": "markdown",
      "source": [
        "####3. 범위가 [3,7)이고 크기가 5x3인 랜덤한 텐서를 만드세요."
      ],
      "metadata": {
        "id": "Jqk6qkk33SO2"
      }
    },
    {
      "cell_type": "code",
      "source": [
        "x = torch.randint(3,7 ,size=(5,3))\n",
        "x"
      ],
      "metadata": {
        "colab": {
          "base_uri": "https://localhost:8080/"
        },
        "id": "GHPZ4u473YEz",
        "outputId": "22f9c58e-82e9-45dc-b832-10d020f8d138"
      },
      "execution_count": 34,
      "outputs": [
        {
          "output_type": "execute_result",
          "data": {
            "text/plain": [
              "tensor([[6, 4, 5],\n",
              "        [6, 6, 5],\n",
              "        [5, 4, 4],\n",
              "        [6, 5, 3],\n",
              "        [3, 3, 5]])"
            ]
          },
          "metadata": {},
          "execution_count": 34
        }
      ]
    },
    {
      "cell_type": "markdown",
      "source": [
        "####4. 정규 분포(평균 = 0, 표준편차 = 1)를 사용해 텐서를 만드세요."
      ],
      "metadata": {
        "id": "S6FNwRxU5qMY"
      }
    },
    {
      "cell_type": "code",
      "source": [
        "x = torch.randn(3,3)\n",
        "x"
      ],
      "metadata": {
        "colab": {
          "base_uri": "https://localhost:8080/"
        },
        "id": "_4c9sE4z5u_v",
        "outputId": "8913afb9-54ed-4215-dd41-ca74879b322a"
      },
      "execution_count": 35,
      "outputs": [
        {
          "output_type": "execute_result",
          "data": {
            "text/plain": [
              "tensor([[-0.3713, -0.2407,  0.8265],\n",
              "        [-0.5598, -0.3760, -0.7871],\n",
              "        [ 0.9566,  0.9230,  1.6625]])"
            ]
          },
          "metadata": {},
          "execution_count": 35
        }
      ]
    },
    {
      "cell_type": "markdown",
      "source": [
        "####5. 텐서 torch.Tensor([1, 1, 1, 0, 1])에서 0이 아닌 원소의 인덱스를 추출하세요."
      ],
      "metadata": {
        "id": "TbUTeHoT54Hw"
      }
    },
    {
      "cell_type": "code",
      "source": [
        "x = torch.Tensor([1,1,1,0,1])\n",
        "[i for i in range(len(x)) if x[i] != 0]"
      ],
      "metadata": {
        "colab": {
          "base_uri": "https://localhost:8080/"
        },
        "id": "9ZD2FfQq6DDa",
        "outputId": "d38b4e49-be0a-4d37-c33f-a86e292ec57c"
      },
      "execution_count": 46,
      "outputs": [
        {
          "output_type": "execute_result",
          "data": {
            "text/plain": [
              "[0, 1, 2, 4]"
            ]
          },
          "metadata": {},
          "execution_count": 46
        }
      ]
    },
    {
      "cell_type": "markdown",
      "source": [
        "####6. 크기가 (3,1)인 랜덤한 텐서를 만들고 네 벌을 복사해서 쌓으세요."
      ],
      "metadata": {
        "id": "_EoPlURf7GZI"
      }
    },
    {
      "cell_type": "code",
      "source": [
        "x = torch.Tensor(3,1)\n",
        "print(f'1) concat\\n shape = {torch.concat([x,x,x,x]).shape}, \\n', torch.concat([x,x,x,x]))\n",
        "print(f'2) stack\\n shape = {torch.stack([x,x,x,x]).shape} \\n', torch.stack([x,x,x,x]))"
      ],
      "metadata": {
        "colab": {
          "base_uri": "https://localhost:8080/"
        },
        "id": "h3dCeS-D7Ffd",
        "outputId": "802b195a-05a3-4ced-f364-27e24b90ec8f"
      },
      "execution_count": 55,
      "outputs": [
        {
          "output_type": "stream",
          "name": "stdout",
          "text": [
            "1) concat\n",
            " shape = torch.Size([12, 1]), \n",
            " tensor([[2.6612e-34],\n",
            "        [0.0000e+00],\n",
            "        [1.5975e-43],\n",
            "        [2.6612e-34],\n",
            "        [0.0000e+00],\n",
            "        [1.5975e-43],\n",
            "        [2.6612e-34],\n",
            "        [0.0000e+00],\n",
            "        [1.5975e-43],\n",
            "        [2.6612e-34],\n",
            "        [0.0000e+00],\n",
            "        [1.5975e-43]])\n",
            "2) stack\n",
            " shape = torch.Size([4, 3, 1]) \n",
            " tensor([[[2.6612e-34],\n",
            "         [0.0000e+00],\n",
            "         [1.5975e-43]],\n",
            "\n",
            "        [[2.6612e-34],\n",
            "         [0.0000e+00],\n",
            "         [1.5975e-43]],\n",
            "\n",
            "        [[2.6612e-34],\n",
            "         [0.0000e+00],\n",
            "         [1.5975e-43]],\n",
            "\n",
            "        [[2.6612e-34],\n",
            "         [0.0000e+00],\n",
            "         [1.5975e-43]]])\n"
          ]
        }
      ]
    },
    {
      "cell_type": "markdown",
      "source": [
        "####7. 2차원 행렬 두개(a=torch.rand(4,5), b=torch.rand(5,4))의 배치 행렬 곱셈을 계산하세요."
      ],
      "metadata": {
        "id": "vGl19lhr7_z2"
      }
    },
    {
      "cell_type": "code",
      "source": [
        "a=torch.rand(4,5)\n",
        "b=torch.rand(5,4)\n",
        "torch.bmm(a.unsqueeze(0), b.unsqueeze(0))"
      ],
      "metadata": {
        "colab": {
          "base_uri": "https://localhost:8080/"
        },
        "id": "jW_gIBYR8H11",
        "outputId": "193dfd32-4a4c-48b0-afb1-732b8b6e99ae"
      },
      "execution_count": 59,
      "outputs": [
        {
          "output_type": "execute_result",
          "data": {
            "text/plain": [
              "tensor([[[1.3116, 1.8257, 1.5781, 1.1614],\n",
              "         [0.5208, 0.8826, 0.8767, 0.7941],\n",
              "         [0.4365, 1.3839, 0.8346, 0.8573],\n",
              "         [0.4568, 1.0517, 0.9882, 0.8953]]])"
            ]
          },
          "metadata": {},
          "execution_count": 59
        }
      ]
    },
    {
      "cell_type": "markdown",
      "source": [
        "####8. 3차원 행렬(a=torch.rand(3,4,5))과 2차원 행렬(b=torch.rand(5,4))의 배치 행렬 곱셈을 계산하세요."
      ],
      "metadata": {
        "id": "W_SiTl4A9w5G"
      }
    },
    {
      "cell_type": "code",
      "source": [
        "a=torch.rand(3,4,5)\n",
        "b=torch.rand(5,4)\n",
        "torch.bmm(a, torch.stack((b,b,b)))"
      ],
      "metadata": {
        "colab": {
          "base_uri": "https://localhost:8080/"
        },
        "id": "RG4E9bPX9wD-",
        "outputId": "c5f7d61c-df77-4784-8a92-3866b55257b0"
      },
      "execution_count": 61,
      "outputs": [
        {
          "output_type": "execute_result",
          "data": {
            "text/plain": [
              "tensor([[[0.9056, 0.3024, 0.9570, 1.3551],\n",
              "         [1.6697, 1.3101, 1.0434, 1.5324],\n",
              "         [1.6793, 1.3651, 0.9479, 2.2392],\n",
              "         [1.9483, 1.4645, 0.9538, 2.1205]],\n",
              "\n",
              "        [[1.7722, 1.0391, 1.4213, 2.4737],\n",
              "         [1.7020, 1.1598, 1.0665, 2.3051],\n",
              "         [0.8185, 0.4089, 0.6969, 1.1161],\n",
              "         [0.9289, 0.7093, 0.7615, 1.1356]],\n",
              "\n",
              "        [[1.1827, 1.1152, 0.6207, 1.5988],\n",
              "         [1.8095, 1.0956, 1.1760, 1.7993],\n",
              "         [1.2649, 1.1985, 0.7081, 1.1723],\n",
              "         [1.1790, 0.8969, 0.6635, 1.5711]]])"
            ]
          },
          "metadata": {},
          "execution_count": 61
        }
      ]
    }
  ]
}