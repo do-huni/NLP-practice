{
  "nbformat": 4,
  "nbformat_minor": 0,
  "metadata": {
    "colab": {
      "provenance": [],
      "authorship_tag": "ABX9TyPweghY0UKyq8WrePfJlOX5",
      "include_colab_link": true
    },
    "kernelspec": {
      "name": "python3",
      "display_name": "Python 3"
    },
    "language_info": {
      "name": "python"
    }
  },
  "cells": [
    {
      "cell_type": "markdown",
      "metadata": {
        "id": "view-in-github",
        "colab_type": "text"
      },
      "source": [
        "<a href=\"https://colab.research.google.com/github/do-huni/NLP_practice/blob/main/OREILLY/NLP%20with%20PyTorch/PyTorch%20Basics/Making_Tensor.ipynb\" target=\"_parent\"><img src=\"https://colab.research.google.com/assets/colab-badge.svg\" alt=\"Open In Colab\"/></a>"
      ]
    },
    {
      "cell_type": "code",
      "execution_count": 1,
      "metadata": {
        "id": "xNWnBz28q_f0"
      },
      "outputs": [],
      "source": [
        "import torch"
      ]
    },
    {
      "cell_type": "code",
      "source": [
        "#tensor\n",
        "def describe(x):\n",
        "  print('타입: {}'.format(type(x)))\n",
        "  print('크기: {}'.format(x.shape))\n",
        "  print('값: \\n{}'.format(x))\n",
        "  print('\\n\\n')\n",
        "\n",
        "print('#  torch.Tensor(2,3)')\n",
        "describe(torch.Tensor(2,3)) #랜덤값으로 텐서 초기화\n",
        "\n",
        "print('#  torch.rand(2,3)')\n",
        "describe(torch.rand(2,3)) #[0,1) 균등 분포\n",
        "\n",
        "print('#  torch.randn(2,3)')\n",
        "describe(torch.randn(2,3)) #표준 정규 분포"
      ],
      "metadata": {
        "colab": {
          "base_uri": "https://localhost:8080/"
        },
        "id": "b2FIMWpK2rCO",
        "outputId": "e8e21f90-fce8-457d-d465-b5aa774cbcca"
      },
      "execution_count": 25,
      "outputs": [
        {
          "output_type": "stream",
          "name": "stdout",
          "text": [
            "#  torch.Tensor(2,3)\n",
            "타입: <class 'torch.Tensor'>\n",
            "크기: torch.Size([2, 3])\n",
            "값: \n",
            "tensor([[7.1204e-35, 0.0000e+00, 1.5554e-43],\n",
            "        [1.5975e-43, 1.3873e-43, 1.4574e-43]])\n",
            "\n",
            "\n",
            "\n",
            "#  torch.rand(2,3)\n",
            "타입: <class 'torch.Tensor'>\n",
            "크기: torch.Size([2, 3])\n",
            "값: \n",
            "tensor([[0.4039, 0.4781, 0.9857],\n",
            "        [0.3492, 0.2211, 0.8943]])\n",
            "\n",
            "\n",
            "\n",
            "#  torch.randn(2,3)\n",
            "타입: <class 'torch.Tensor'>\n",
            "크기: torch.Size([2, 3])\n",
            "값: \n",
            "tensor([[ 0.1675,  1.7533, -0.3279],\n",
            "        [-0.5150,  0.1360,  0.4148]])\n",
            "\n",
            "\n",
            "\n"
          ]
        }
      ]
    },
    {
      "cell_type": "code",
      "source": [],
      "metadata": {
        "id": "XpCuhumo9bA6"
      },
      "execution_count": null,
      "outputs": []
    },
    {
      "cell_type": "code",
      "source": [
        "#fill_메서드: 텐서를 특정 값으로 채우는 데 사용\n",
        "#언더 바(_)가 있는 파이토치 인-플레이스 메서드는 텐서값을 바꾸는 연산을 의미함\n",
        "\n",
        "print('#  torch.zeros(2,3)')\n",
        "x = torch.zeros(2,3)\n",
        "describe(x)\n",
        "\n",
        "print('#  torch.ones(2,3)')\n",
        "x = torch.ones(2,3)\n",
        "describe(x)\n",
        "\n",
        "print('#  x.fill_(5)')\n",
        "x.fill_(5)\n",
        "describe(x)"
      ],
      "metadata": {
        "colab": {
          "base_uri": "https://localhost:8080/"
        },
        "id": "M7_8Z8Pt283j",
        "outputId": "aab61254-46d9-4a26-bf2c-55e4288d5997"
      },
      "execution_count": 24,
      "outputs": [
        {
          "output_type": "stream",
          "name": "stdout",
          "text": [
            "#  torch.zeros(2,3)\n",
            "타입: <class 'torch.Tensor'>\n",
            "크기: torch.Size([2, 3])\n",
            "값: \n",
            "tensor([[0., 0., 0.],\n",
            "        [0., 0., 0.]])\n",
            "\n",
            "\n",
            "\n",
            "#  torch.ones(2,3)\n",
            "타입: <class 'torch.Tensor'>\n",
            "크기: torch.Size([2, 3])\n",
            "값: \n",
            "tensor([[1., 1., 1.],\n",
            "        [1., 1., 1.]])\n",
            "\n",
            "\n",
            "\n",
            "#  x.fill_(5)\n",
            "타입: <class 'torch.Tensor'>\n",
            "크기: torch.Size([2, 3])\n",
            "값: \n",
            "tensor([[5., 5., 5.],\n",
            "        [5., 5., 5.]])\n",
            "\n",
            "\n",
            "\n"
          ]
        }
      ]
    }
  ]
}