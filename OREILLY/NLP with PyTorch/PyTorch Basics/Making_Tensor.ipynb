{
  "nbformat": 4,
  "nbformat_minor": 0,
  "metadata": {
    "colab": {
      "provenance": [],
      "authorship_tag": "ABX9TyNWWFILo3MDUBJJTOFLEhHL",
      "include_colab_link": true
    },
    "kernelspec": {
      "name": "python3",
      "display_name": "Python 3"
    },
    "language_info": {
      "name": "python"
    }
  },
  "cells": [
    {
      "cell_type": "markdown",
      "metadata": {
        "id": "view-in-github",
        "colab_type": "text"
      },
      "source": [
        "<a href=\"https://colab.research.google.com/github/do-huni/NLP_practice/blob/main/OREILLY/NLP%20with%20PyTorch/PyTorch%20Basics/Making_Tensor.ipynb\" target=\"_parent\"><img src=\"https://colab.research.google.com/assets/colab-badge.svg\" alt=\"Open In Colab\"/></a>"
      ]
    },
    {
      "cell_type": "code",
      "execution_count": null,
      "metadata": {
        "id": "xNWnBz28q_f0"
      },
      "outputs": [],
      "source": [
        "import torch"
      ]
    },
    {
      "cell_type": "code",
      "source": [
        "#tensor\n",
        "def describe(x):\n",
        "  print('타입: {}'.format(type(x)))\n",
        "  print('크기: {}'.format(x.shape))\n",
        "  print('값: \\n{}'.format(x))\n",
        "  print('\\n\\n')\n",
        "\n",
        "print('#  torch.Tensor(2,3)')\n",
        "describe(torch.Tensor(2,3)) #랜덤값으로 텐서 초기화\n",
        "\n",
        "print('#  torch.rand(2,3)')\n",
        "describe(torch.rand(2,3)) #[0,1) 균등 분포\n",
        "\n",
        "print('#  torch.randn(2,3)')\n",
        "describe(torch.randn(2,3)) #표준 정규 분포"
      ],
      "metadata": {
        "colab": {
          "base_uri": "https://localhost:8080/"
        },
        "id": "b2FIMWpK2rCO",
        "outputId": "d52a462c-1a36-4fd9-966c-1ee137ce7bb7"
      },
      "execution_count": null,
      "outputs": [
        {
          "output_type": "stream",
          "name": "stdout",
          "text": [
            "#  torch.Tensor(2,3)\n",
            "타입: <class 'torch.Tensor'>\n",
            "크기: torch.Size([2, 3])\n",
            "값: \n",
            "tensor([[4.5225e-34, 0.0000e+00, 3.7835e-44],\n",
            "        [0.0000e+00,        nan, 0.0000e+00]])\n",
            "\n",
            "\n",
            "\n",
            "#  torch.rand(2,3)\n",
            "타입: <class 'torch.Tensor'>\n",
            "크기: torch.Size([2, 3])\n",
            "값: \n",
            "tensor([[0.9037, 0.8461, 0.1016],\n",
            "        [0.8311, 0.0226, 0.1869]])\n",
            "\n",
            "\n",
            "\n",
            "#  torch.randn(2,3)\n",
            "타입: <class 'torch.Tensor'>\n",
            "크기: torch.Size([2, 3])\n",
            "값: \n",
            "tensor([[ 0.0285,  0.6910,  0.8192],\n",
            "        [-1.9130, -2.2884, -0.2897]])\n",
            "\n",
            "\n",
            "\n"
          ]
        }
      ]
    },
    {
      "cell_type": "code",
      "source": [
        "#fill_메서드: 텐서를 특정 값으로 채우는 데 사용\n",
        "#언더 바(_)가 있는 파이토치 인-플레이스 메서드는 텐서값을 바꾸는 연산을 의미함\n",
        "\n",
        "print('#  torch.zeros(2,3)')\n",
        "x = torch.zeros(2,3)\n",
        "describe(x)\n",
        "\n",
        "print('#  torch.ones(2,3)')\n",
        "x = torch.ones(2,3)\n",
        "describe(x)\n",
        "\n",
        "print('#  x.fill_(5)')\n",
        "x.fill_(5)\n",
        "describe(x)"
      ],
      "metadata": {
        "colab": {
          "base_uri": "https://localhost:8080/"
        },
        "id": "M7_8Z8Pt283j",
        "outputId": "c140bfb5-7a6f-4dbb-afb1-06bfbb373683"
      },
      "execution_count": null,
      "outputs": [
        {
          "output_type": "stream",
          "name": "stdout",
          "text": [
            "#  torch.zeros(2,3)\n",
            "타입: <class 'torch.Tensor'>\n",
            "크기: torch.Size([2, 3])\n",
            "값: \n",
            "tensor([[0., 0., 0.],\n",
            "        [0., 0., 0.]])\n",
            "\n",
            "\n",
            "\n",
            "#  torch.ones(2,3)\n",
            "타입: <class 'torch.Tensor'>\n",
            "크기: torch.Size([2, 3])\n",
            "값: \n",
            "tensor([[1., 1., 1.],\n",
            "        [1., 1., 1.]])\n",
            "\n",
            "\n",
            "\n",
            "#  x.fill_(5)\n",
            "타입: <class 'torch.Tensor'>\n",
            "크기: torch.Size([2, 3])\n",
            "값: \n",
            "tensor([[5., 5., 5.],\n",
            "        [5., 5., 5.]])\n",
            "\n",
            "\n",
            "\n"
          ]
        }
      ]
    },
    {
      "cell_type": "code",
      "source": [
        "#입력값으로 파이썬 리스트를 전달할 수 있음\n",
        "x = torch.Tensor([[1,2,3],\n",
        "                 [4,5,6]])\n",
        "\n",
        "describe(x)"
      ],
      "metadata": {
        "colab": {
          "base_uri": "https://localhost:8080/"
        },
        "id": "7Rtf2_1yccvw",
        "outputId": "abc57567-85cc-4070-cf28-280a27c6a920"
      },
      "execution_count": null,
      "outputs": [
        {
          "output_type": "stream",
          "name": "stdout",
          "text": [
            "타입: <class 'torch.Tensor'>\n",
            "크기: torch.Size([2, 3])\n",
            "값: \n",
            "tensor([[1., 2., 3.],\n",
            "        [4., 5., 6.]])\n",
            "\n",
            "\n",
            "\n"
          ]
        }
      ]
    },
    {
      "cell_type": "code",
      "source": [
        "import numpy as np"
      ],
      "metadata": {
        "id": "u-w8X0LwdEJK"
      },
      "execution_count": null,
      "outputs": []
    },
    {
      "cell_type": "code",
      "source": [
        "#torch.from_numpy()를 통해 넘파이 텐서를 파이토치 텐서 자료형으로 변경할 수 있음\n",
        "\n",
        "numpy_tensor = np.random.rand(2,3)\n",
        "describe(numpy_tensor)\n",
        "\n",
        "x = torch.from_numpy(numpy_tensor)\n",
        "describe(x)"
      ],
      "metadata": {
        "colab": {
          "base_uri": "https://localhost:8080/"
        },
        "id": "vuQV-iB2dNqB",
        "outputId": "089f6986-1e2f-404e-cb8f-94e565a5d537"
      },
      "execution_count": null,
      "outputs": [
        {
          "output_type": "stream",
          "name": "stdout",
          "text": [
            "타입: <class 'numpy.ndarray'>\n",
            "크기: (2, 3)\n",
            "값: \n",
            "[[0.47839097 0.18268031 0.11682407]\n",
            " [0.19667136 0.94933177 0.47867993]]\n",
            "\n",
            "\n",
            "\n",
            "타입: <class 'torch.Tensor'>\n",
            "크기: torch.Size([2, 3])\n",
            "값: \n",
            "tensor([[0.4784, 0.1827, 0.1168],\n",
            "        [0.1967, 0.9493, 0.4787]], dtype=torch.float64)\n",
            "\n",
            "\n",
            "\n"
          ]
        }
      ]
    }
  ]
}