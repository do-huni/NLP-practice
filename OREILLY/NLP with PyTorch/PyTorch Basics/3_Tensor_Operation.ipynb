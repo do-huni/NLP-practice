{
  "nbformat": 4,
  "nbformat_minor": 0,
  "metadata": {
    "colab": {
      "provenance": [],
      "authorship_tag": "ABX9TyOdUpII6xRrtrp3n+XVZJlU",
      "include_colab_link": true
    },
    "kernelspec": {
      "name": "python3",
      "display_name": "Python 3"
    },
    "language_info": {
      "name": "python"
    }
  },
  "cells": [
    {
      "cell_type": "markdown",
      "metadata": {
        "id": "view-in-github",
        "colab_type": "text"
      },
      "source": [
        "<a href=\"https://colab.research.google.com/github/do-huni/NLP_practice/blob/main/OREILLY/NLP%20with%20PyTorch/PyTorch%20Basics/Tensor_Operation.ipynb\" target=\"_parent\"><img src=\"https://colab.research.google.com/assets/colab-badge.svg\" alt=\"Open In Colab\"/></a>"
      ]
    },
    {
      "cell_type": "code",
      "execution_count": 1,
      "metadata": {
        "id": "bQQFhJFsg9Vd"
      },
      "outputs": [],
      "source": [
        "import torch\n",
        "def describe(x):\n",
        "  print('타입: {}'.format(x.type()))\n",
        "  print('크기: {}'.format(x.shape))\n",
        "  print('값: \\n{}'.format(x))\n",
        "  print('\\n\\n')"
      ]
    },
    {
      "cell_type": "code",
      "source": [
        "x  = torch.randn(2,3)\n",
        "print('#  torch.randn(2,3)')\n",
        "describe(x)\n",
        "\n",
        "print('#  torch.add(x,x)')\n",
        "describe(torch.add(x,x))\n",
        "\n",
        "print('#  x + x')\n",
        "describe(x + x)"
      ],
      "metadata": {
        "colab": {
          "base_uri": "https://localhost:8080/"
        },
        "id": "RfMJpZJMhWur",
        "outputId": "611ad930-58a6-4066-9d52-d2cae3ecb6a6"
      },
      "execution_count": 15,
      "outputs": [
        {
          "output_type": "stream",
          "name": "stdout",
          "text": [
            "#  torch.randn(2,3)\n",
            "타입: torch.FloatTensor\n",
            "크기: torch.Size([2, 3])\n",
            "값: \n",
            "tensor([[ 0.3337,  0.7917,  1.9776],\n",
            "        [-0.2179, -0.4516, -0.8093]])\n",
            "\n",
            "\n",
            "\n",
            "#  torch.add(x,x)\n",
            "타입: torch.FloatTensor\n",
            "크기: torch.Size([2, 3])\n",
            "값: \n",
            "tensor([[ 0.6673,  1.5833,  3.9553],\n",
            "        [-0.4357, -0.9032, -1.6185]])\n",
            "\n",
            "\n",
            "\n",
            "#  x + x\n",
            "타입: torch.FloatTensor\n",
            "크기: torch.Size([2, 3])\n",
            "값: \n",
            "tensor([[ 0.6673,  1.5833,  3.9553],\n",
            "        [-0.4357, -0.9032, -1.6185]])\n",
            "\n",
            "\n",
            "\n"
          ]
        }
      ]
    },
    {
      "cell_type": "code",
      "source": [
        "#torch.arange(): [기본값 0,parameter) 범위를 기본값 1 단위로 증가하는 1차원 텐서를 만듦\n",
        "x = torch.arange(6)\n",
        "describe(x)\n",
        "\n",
        "x = torch.arange(1,13,2)\n",
        "describe(x)"
      ],
      "metadata": {
        "colab": {
          "base_uri": "https://localhost:8080/"
        },
        "id": "LhhNij3CiK5F",
        "outputId": "b96d1906-3489-444c-a709-08035cd98c1f"
      },
      "execution_count": 26,
      "outputs": [
        {
          "output_type": "stream",
          "name": "stdout",
          "text": [
            "타입: torch.LongTensor\n",
            "크기: torch.Size([6])\n",
            "값: \n",
            "tensor([0, 1, 2, 3, 4, 5])\n",
            "\n",
            "\n",
            "\n",
            "타입: torch.LongTensor\n",
            "크기: torch.Size([6])\n",
            "값: \n",
            "tensor([ 1,  3,  5,  7,  9, 11])\n",
            "\n",
            "\n",
            "\n"
          ]
        }
      ]
    },
    {
      "cell_type": "code",
      "source": [
        "#.view(): 텐서와 동일한 값을 공유하는 새로운 텐서를 만드는 메서드\n",
        "x = x.view(2,3)\n",
        "describe(x)"
      ],
      "metadata": {
        "colab": {
          "base_uri": "https://localhost:8080/"
        },
        "id": "v9YWeJ3zieU_",
        "outputId": "46ddf2d2-a64c-4616-e3ad-8b9b7115e791"
      },
      "execution_count": 28,
      "outputs": [
        {
          "output_type": "stream",
          "name": "stdout",
          "text": [
            "타입: torch.LongTensor\n",
            "크기: torch.Size([2, 3])\n",
            "값: \n",
            "tensor([[ 1,  3,  5],\n",
            "        [ 7,  9, 11]])\n",
            "\n",
            "\n",
            "\n"
          ]
        }
      ]
    },
    {
      "cell_type": "code",
      "source": [
        "#2차원 텐서에서는 행의 인덱스 = 0 열의 인덱스 = 1\n",
        "print('#  x')\n",
        "describe(x)\n",
        "\n",
        "print('#  torch.sum(x, dim=0)')\n",
        "describe(torch.sum(x, dim=0))\n",
        "\n",
        "print('#  torch.sum(x, dim=-1)')\n",
        "describe(torch.sum(x, dim=-1))\n",
        "\n",
        "print('#  torch.transpose(x, 0, 1)')\n",
        "describe(torch.transpose(x, 0, 1))"
      ],
      "metadata": {
        "colab": {
          "base_uri": "https://localhost:8080/"
        },
        "id": "jGQ1cnC4jNC5",
        "outputId": "8d9be23b-3caa-4b04-c29b-56d4d84f7403"
      },
      "execution_count": 35,
      "outputs": [
        {
          "output_type": "stream",
          "name": "stdout",
          "text": [
            "#  x\n",
            "타입: torch.LongTensor\n",
            "크기: torch.Size([2, 3])\n",
            "값: \n",
            "tensor([[ 1,  3,  5],\n",
            "        [ 7,  9, 11]])\n",
            "\n",
            "\n",
            "\n",
            "#  torch.sum(x, dim=0)\n",
            "타입: torch.LongTensor\n",
            "크기: torch.Size([3])\n",
            "값: \n",
            "tensor([ 8, 12, 16])\n",
            "\n",
            "\n",
            "\n",
            "#  torch.sum(x, dim=-1)\n",
            "타입: torch.LongTensor\n",
            "크기: torch.Size([2])\n",
            "값: \n",
            "tensor([ 9, 27])\n",
            "\n",
            "\n",
            "\n",
            "#  torch.transpose(x, 0, 1)\n",
            "타입: torch.LongTensor\n",
            "크기: torch.Size([3, 2])\n",
            "값: \n",
            "tensor([[ 1,  7],\n",
            "        [ 3,  9],\n",
            "        [ 5, 11]])\n",
            "\n",
            "\n",
            "\n"
          ]
        }
      ]
    }
  ]
}
