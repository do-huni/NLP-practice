{
  "nbformat": 4,
  "nbformat_minor": 0,
  "metadata": {
    "colab": {
      "provenance": [],
      "authorship_tag": "ABX9TyNtAFKf/gxcaH3+/gwRQ2ug",
      "include_colab_link": true
    },
    "kernelspec": {
      "name": "python3",
      "display_name": "Python 3"
    },
    "language_info": {
      "name": "python"
    }
  },
  "cells": [
    {
      "cell_type": "markdown",
      "metadata": {
        "id": "view-in-github",
        "colab_type": "text"
      },
      "source": [
        "<a href=\"https://colab.research.google.com/github/do-huni/NLP_practice/blob/main/OREILLY/NLP%20with%20PyTorch/PyTorch%20Basics/Tensor_and_Computational_Graph.ipynb\" target=\"_parent\"><img src=\"https://colab.research.google.com/assets/colab-badge.svg\" alt=\"Open In Colab\"/></a>"
      ]
    },
    {
      "cell_type": "code",
      "execution_count": 12,
      "metadata": {
        "id": "QChjI_U3uiL4"
      },
      "outputs": [],
      "source": [
        "import torch\n",
        "def describe(x):\n",
        "  print('타입: {}'.format(x.type()))\n",
        "  print('크기: {}'.format(x.shape))\n",
        "  print('값: \\n{}'.format(x))\n",
        "    "
      ]
    },
    {
      "cell_type": "code",
      "source": [
        "x = torch.ones(2,2, requires_grad =True)\n",
        "describe(x)\n",
        "print(f'{x.grad is None = }')\n",
        "print('\\n\\n')\n",
        "\n",
        "y = (x+2) * (x+5) + 3\n",
        "describe(y)\n",
        "print(f'{x.grad is None = }')\n",
        "print('\\n\\n')\n",
        "\n",
        "z = y.max()\n",
        "describe(z)\n",
        "print(f'{x.grad is None = }')\n",
        "print('\\n\\n')\n",
        "\n",
        "print('z.backward()')\n",
        "z.backward()\n",
        "print(f'{x.grad is None = }')"
      ],
      "metadata": {
        "colab": {
          "base_uri": "https://localhost:8080/"
        },
        "id": "SzhEBznBuncw",
        "outputId": "698cdd4c-8d84-445f-f3a9-246e89945793"
      },
      "execution_count": 33,
      "outputs": [
        {
          "output_type": "stream",
          "name": "stdout",
          "text": [
            "타입: torch.FloatTensor\n",
            "크기: torch.Size([2, 2])\n",
            "값: \n",
            "tensor([[1., 1.],\n",
            "        [1., 1.]], requires_grad=True)\n",
            "x.grad is None = True\n",
            "\n",
            "\n",
            "\n",
            "타입: torch.FloatTensor\n",
            "크기: torch.Size([2, 2])\n",
            "값: \n",
            "tensor([[21., 21.],\n",
            "        [21., 21.]], grad_fn=<AddBackward0>)\n",
            "x.grad is None = True\n",
            "\n",
            "\n",
            "\n",
            "타입: torch.FloatTensor\n",
            "크기: torch.Size([])\n",
            "값: \n",
            "21.0\n",
            "x.grad is None = True\n",
            "\n",
            "\n",
            "\n",
            "z.backward()\n",
            "x.grad is None = False\n"
          ]
        }
      ]
    },
    {
      "cell_type": "code",
      "source": [
        "print(x.grad)"
      ],
      "metadata": {
        "colab": {
          "base_uri": "https://localhost:8080/"
        },
        "id": "c-jaCmC1u1Ex",
        "outputId": "ceea90be-df56-49f2-c9b2-b12335d40834"
      },
      "execution_count": 36,
      "outputs": [
        {
          "output_type": "stream",
          "name": "stdout",
          "text": [
            "tensor([[2.2500, 2.2500],\n",
            "        [2.2500, 2.2500]])\n"
          ]
        }
      ]
    }
  ]
}