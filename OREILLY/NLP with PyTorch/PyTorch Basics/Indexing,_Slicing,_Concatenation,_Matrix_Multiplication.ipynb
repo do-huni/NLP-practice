{
  "nbformat": 4,
  "nbformat_minor": 0,
  "metadata": {
    "colab": {
      "provenance": [],
      "authorship_tag": "ABX9TyP0+Ik4RqxXvMXzBeywFZ0x",
      "include_colab_link": true
    },
    "kernelspec": {
      "name": "python3",
      "display_name": "Python 3"
    },
    "language_info": {
      "name": "python"
    }
  },
  "cells": [
    {
      "cell_type": "markdown",
      "metadata": {
        "id": "view-in-github",
        "colab_type": "text"
      },
      "source": [
        "<a href=\"https://colab.research.google.com/github/do-huni/NLP_practice/blob/main/OREILLY/NLP%20with%20PyTorch/PyTorch%20Basics/Indexing%2C_Slicing%2C_Concatenation%2C_Matrix_Multiplication.ipynb\" target=\"_parent\"><img src=\"https://colab.research.google.com/assets/colab-badge.svg\" alt=\"Open In Colab\"/></a>"
      ]
    },
    {
      "cell_type": "code",
      "execution_count": 1,
      "metadata": {
        "id": "jXPvd8OKmeYy"
      },
      "outputs": [],
      "source": [
        "import torch\n",
        "def describe(x):\n",
        "  print('타입: {}'.format(x.type()))\n",
        "  print('크기: {}'.format(x.shape))\n",
        "  print('값: \\n{}'.format(x))\n",
        "  print('\\n\\n')"
      ]
    },
    {
      "cell_type": "code",
      "source": [
        "x = torch.arange(6).view(2,3)\n",
        "describe(x)\n",
        "\n",
        "describe(x[:1,:2])\n",
        "\n",
        "describe(x[:2,1])\n",
        "\n",
        "describe(x[0,1])"
      ],
      "metadata": {
        "colab": {
          "base_uri": "https://localhost:8080/"
        },
        "id": "bi_C1BPFpTqC",
        "outputId": "a4921dae-3b09-4cb6-a22a-6f385c72cf81"
      },
      "execution_count": 39,
      "outputs": [
        {
          "output_type": "stream",
          "name": "stdout",
          "text": [
            "타입: torch.LongTensor\n",
            "크기: torch.Size([2, 3])\n",
            "값: \n",
            "tensor([[0, 1, 2],\n",
            "        [3, 4, 5]])\n",
            "\n",
            "\n",
            "\n",
            "타입: torch.LongTensor\n",
            "크기: torch.Size([1, 2])\n",
            "값: \n",
            "tensor([[0, 1]])\n",
            "\n",
            "\n",
            "\n",
            "타입: torch.LongTensor\n",
            "크기: torch.Size([2])\n",
            "값: \n",
            "tensor([1, 4])\n",
            "\n",
            "\n",
            "\n",
            "타입: torch.LongTensor\n",
            "크기: torch.Size([])\n",
            "값: \n",
            "1\n",
            "\n",
            "\n",
            "\n"
          ]
        }
      ]
    },
    {
      "cell_type": "code",
      "source": [
        "describe(x)\n",
        "\n",
        "indices = torch.LongTensor([0,2]) #토치 함수를 사용할 때 LongTensor를 필수로 사용해야함\n",
        "describe(torch.index_select(x, dim=1, index=indices))#dim=1(열)에서 index = 0, index = 2인 값을 출력\n",
        "\n",
        "indices = torch.LongTensor([0,0,1])\n",
        "describe(torch.index_select(x, dim=0, index=indices))#dim=0(행)에서 index = 0, index = 0, index = 1인 값을 출력"
      ],
      "metadata": {
        "colab": {
          "base_uri": "https://localhost:8080/"
        },
        "id": "acZHCoLxpiUY",
        "outputId": "2e4a52dc-2f23-428a-a6bc-5c7e8eaa9b94"
      },
      "execution_count": 22,
      "outputs": [
        {
          "output_type": "stream",
          "name": "stdout",
          "text": [
            "타입: torch.LongTensor\n",
            "크기: torch.Size([2, 3])\n",
            "값: \n",
            "tensor([[0, 1, 2],\n",
            "        [3, 4, 5]])\n",
            "\n",
            "\n",
            "\n",
            "타입: torch.LongTensor\n",
            "크기: torch.Size([2, 2])\n",
            "값: \n",
            "tensor([[0, 2],\n",
            "        [3, 5]])\n",
            "\n",
            "\n",
            "\n",
            "타입: torch.LongTensor\n",
            "크기: torch.Size([3, 3])\n",
            "값: \n",
            "tensor([[0, 1, 2],\n",
            "        [0, 1, 2],\n",
            "        [3, 4, 5]])\n",
            "\n",
            "\n",
            "\n"
          ]
        }
      ]
    },
    {
      "cell_type": "code",
      "source": [
        "x = torch.arange(6).view(2,3)\n",
        "describe(x)\n",
        "\n",
        "describe(torch.cat((x,x), dim=0))\n",
        "\n",
        "describe(torch.cat([x,x], dim=1))\n",
        "\n",
        "describe(torch.stack([x,x,torch.add(x,1)]))"
      ],
      "metadata": {
        "colab": {
          "base_uri": "https://localhost:8080/"
        },
        "id": "DUiYOzbXp8OG",
        "outputId": "37342bdd-b103-45f4-cc71-2bca34d04f87"
      },
      "execution_count": 30,
      "outputs": [
        {
          "output_type": "stream",
          "name": "stdout",
          "text": [
            "타입: torch.LongTensor\n",
            "크기: torch.Size([2, 3])\n",
            "값: \n",
            "tensor([[0, 1, 2],\n",
            "        [3, 4, 5]])\n",
            "\n",
            "\n",
            "\n",
            "타입: torch.LongTensor\n",
            "크기: torch.Size([4, 3])\n",
            "값: \n",
            "tensor([[0, 1, 2],\n",
            "        [3, 4, 5],\n",
            "        [0, 1, 2],\n",
            "        [3, 4, 5]])\n",
            "\n",
            "\n",
            "\n",
            "타입: torch.LongTensor\n",
            "크기: torch.Size([2, 6])\n",
            "값: \n",
            "tensor([[0, 1, 2, 0, 1, 2],\n",
            "        [3, 4, 5, 3, 4, 5]])\n",
            "\n",
            "\n",
            "\n",
            "타입: torch.LongTensor\n",
            "크기: torch.Size([3, 2, 3])\n",
            "값: \n",
            "tensor([[[0, 1, 2],\n",
            "         [3, 4, 5]],\n",
            "\n",
            "        [[0, 1, 2],\n",
            "         [3, 4, 5]],\n",
            "\n",
            "        [[1, 2, 3],\n",
            "         [4, 5, 6]]])\n",
            "\n",
            "\n",
            "\n"
          ]
        }
      ]
    },
    {
      "cell_type": "code",
      "source": [
        "x1 = torch.arange(6).view(2,3).float()\n",
        "describe(x1)\n",
        "\n",
        "x2 = torch.ones(3,2)\n",
        "x2[:, 1] += 1\n",
        "describe(x2)\n",
        "\n",
        "describe(torch.matmul(x1,x2)) #==torch.mm(x1,x2)"
      ],
      "metadata": {
        "colab": {
          "base_uri": "https://localhost:8080/"
        },
        "id": "ChgunRWHss5L",
        "outputId": "9da25662-9175-4800-8f8b-eb14a69a0c1b"
      },
      "execution_count": 38,
      "outputs": [
        {
          "output_type": "stream",
          "name": "stdout",
          "text": [
            "타입: torch.FloatTensor\n",
            "크기: torch.Size([2, 3])\n",
            "값: \n",
            "tensor([[0., 1., 2.],\n",
            "        [3., 4., 5.]])\n",
            "\n",
            "\n",
            "\n",
            "타입: torch.FloatTensor\n",
            "크기: torch.Size([3, 2])\n",
            "값: \n",
            "tensor([[1., 2.],\n",
            "        [1., 2.],\n",
            "        [1., 2.]])\n",
            "\n",
            "\n",
            "\n",
            "타입: torch.FloatTensor\n",
            "크기: torch.Size([2, 2])\n",
            "값: \n",
            "tensor([[ 3.,  6.],\n",
            "        [12., 24.]])\n",
            "\n",
            "\n",
            "\n"
          ]
        }
      ]
    }
  ]
}