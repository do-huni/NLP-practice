{
  "nbformat": 4,
  "nbformat_minor": 0,
  "metadata": {
    "colab": {
      "provenance": [],
      "authorship_tag": "ABX9TyNqFiamThUnFWvlsFYvPGff",
      "include_colab_link": true
    },
    "kernelspec": {
      "name": "python3",
      "display_name": "Python 3"
    },
    "language_info": {
      "name": "python"
    }
  },
  "cells": [
    {
      "cell_type": "markdown",
      "metadata": {
        "id": "view-in-github",
        "colab_type": "text"
      },
      "source": [
        "<a href=\"https://colab.research.google.com/github/do-huni/NLP_practice/blob/main/OREILLY/NLP%20with%20PyTorch/Neural%20Network%20Basics/1_Perceptron_and_OR_gate_Module.ipynb\" target=\"_parent\"><img src=\"https://colab.research.google.com/assets/colab-badge.svg\" alt=\"Open In Colab\"/></a>"
      ]
    },
    {
      "cell_type": "code",
      "execution_count": 1,
      "metadata": {
        "id": "liOTZIYDxG59"
      },
      "outputs": [],
      "source": [
        "import torch\n",
        "import torch.nn as nn"
      ]
    },
    {
      "cell_type": "code",
      "source": [
        "class Perceptron(nn.Module):\n",
        "  def __init__(self, input_dim):\n",
        "    super(Perceptron, self).__init__()\n",
        "    self.fc1 = nn.Linear(input_dim, 1)\n",
        "  \n",
        "  def forward(self, x_in):\n",
        "    x = self.fc1(x_in)\n",
        "    return torch.sigmoid(x).squeeze()\n",
        "\n",
        "perceptron = Perceptron(1)\n",
        "perceptron(torch.FloatTensor(1))"
      ],
      "metadata": {
        "colab": {
          "base_uri": "https://localhost:8080/"
        },
        "id": "LFeSK2zgxKu_",
        "outputId": "77f9890b-3bcc-45c3-f495-a321a888c2b4"
      },
      "execution_count": 15,
      "outputs": [
        {
          "output_type": "execute_result",
          "data": {
            "text/plain": [
              "tensor(0.6659, grad_fn=<SqueezeBackward0>)"
            ]
          },
          "metadata": {},
          "execution_count": 15
        }
      ]
    },
    {
      "cell_type": "code",
      "source": [
        "\n",
        "class OR_gate(nn.Module):\n",
        "  def __init__(self):\n",
        "    super(OR_gate,self).__init__()\n",
        "    self.fc1 = nn.Linear(2,2, bias = True)\n",
        "    self.fc2 = nn.Linear(2,2)\n",
        "    self.fc3 = nn.Linear(2,1, bias = True)\n",
        "\n",
        "\n",
        "  def forward(self, x_in):\n",
        "    x = self.fc1(x_in)\n",
        "    x = torch.sigmoid(x)\n",
        "    x = self.fc2(x)\n",
        "    x = torch.sigmoid(x)\n",
        "    x = self.fc3(x)\n",
        "    return torch.sigmoid(x)\n",
        "\n",
        "\n",
        "  \n",
        "x_train = torch.FloatTensor([\n",
        "    [0,0],\n",
        "    [0,1],\n",
        "    [1,0],\n",
        "    [1,1]\n",
        "])\n",
        "y_train = torch.FloatTensor([\n",
        "    [0],\n",
        "    [1],\n",
        "    [1],\n",
        "    [1]\n",
        "])\n",
        "or_gate = OR_gate()\n",
        "optimizer = torch.optim.SGD(or_gate.parameters(), lr = 1)\n",
        "loss_function = torch.nn.BCELoss()\n",
        "for _ in range(1000):\n",
        "  Hx = or_gate(x_train)\n",
        "#  loss_function = torch.nn.functional.mse_loss(Hx, y_train)\n",
        "  cost = loss_function(Hx, y_train)\n",
        "\n",
        "  optimizer.zero_grad()\n",
        "  cost.backward()\n",
        "  optimizer.step()\n",
        "\n",
        "input_test = torch.FloatTensor(list(map(float,input().split())))\n",
        "answer = or_gate(input_test)\n",
        "print(int(answer + 0.5))"
      ],
      "metadata": {
        "colab": {
          "base_uri": "https://localhost:8080/"
        },
        "id": "9tIi0lXr0CDB",
        "outputId": "695ec32a-c0a1-4ed7-cb53-44bc9fc7bd9d"
      },
      "execution_count": 81,
      "outputs": [
        {
          "output_type": "stream",
          "name": "stdout",
          "text": [
            "1 1\n",
            "1\n"
          ]
        }
      ]
    },
    {
      "cell_type": "code",
      "source": [
        "or_gate(x_train)"
      ],
      "metadata": {
        "colab": {
          "base_uri": "https://localhost:8080/"
        },
        "id": "YuzQdiYi68cl",
        "outputId": "bdd8c19e-477d-4b7b-ceaf-8b3363482045"
      },
      "execution_count": 82,
      "outputs": [
        {
          "output_type": "execute_result",
          "data": {
            "text/plain": [
              "tensor([[0.0085],\n",
              "        [0.9971],\n",
              "        [0.9969],\n",
              "        [0.9985]], grad_fn=<SigmoidBackward0>)"
            ]
          },
          "metadata": {},
          "execution_count": 82
        }
      ]
    }
  ]
}
