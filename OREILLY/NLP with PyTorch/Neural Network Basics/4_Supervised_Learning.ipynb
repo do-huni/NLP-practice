{
  "nbformat": 4,
  "nbformat_minor": 0,
  "metadata": {
    "colab": {
      "provenance": [],
      "authorship_tag": "ABX9TyOcCVy5eg2gc3dhl4uqqEYt",
      "include_colab_link": true
    },
    "kernelspec": {
      "name": "python3",
      "display_name": "Python 3"
    },
    "language_info": {
      "name": "python"
    }
  },
  "cells": [
    {
      "cell_type": "markdown",
      "metadata": {
        "id": "view-in-github",
        "colab_type": "text"
      },
      "source": [
        "<a href=\"https://colab.research.google.com/github/do-huni/NLP_practice/blob/main/OREILLY/NLP%20with%20PyTorch/Neural%20Network%20Basics/4_Supervised_Learning.ipynb\" target=\"_parent\"><img src=\"https://colab.research.google.com/assets/colab-badge.svg\" alt=\"Open In Colab\"/></a>"
      ]
    },
    {
      "cell_type": "code",
      "source": [
        "import matplotlib.pyplot as plt\n",
        "import numpy as np\n",
        "import torch\n",
        "import torch.nn as nn\n",
        "import torch.nn.functional as F\n",
        "import torch.optim as optim"
      ],
      "metadata": {
        "id": "zHhauOGP-iyb"
      },
      "execution_count": 66,
      "outputs": []
    },
    {
      "cell_type": "code",
      "source": [
        "LEFT_CENTER = (3, 3)\n",
        "RIGHT_CENTER = (3, -2)"
      ],
      "metadata": {
        "id": "24KyV_6G_BJi"
      },
      "execution_count": 67,
      "outputs": []
    },
    {
      "cell_type": "code",
      "execution_count": 68,
      "metadata": {
        "id": "GbEnYXkv-e94"
      },
      "outputs": [],
      "source": [
        "def get_toy_data(batch_size, left_center=LEFT_CENTER, right_center=RIGHT_CENTER):\n",
        "    x_data = []\n",
        "    y_targets = np.zeros(batch_size)\n",
        "    for batch_i in range(batch_size):\n",
        "        if np.random.random() > 0.5:\n",
        "            x_data.append(np.random.normal(loc=left_center))\n",
        "        else:\n",
        "            x_data.append(np.random.normal(loc=right_center))\n",
        "            y_targets[batch_i] = 1\n",
        "    return torch.tensor(x_data, dtype=torch.float32), torch.tensor(y_targets, dtype=torch.float32)"
      ]
    },
    {
      "cell_type": "code",
      "source": [
        "batch_size = 1000\n",
        "x_train, y_train = get_toy_data(batch_size=batch_size)"
      ],
      "metadata": {
        "id": "nqWT4nV0_Oz-"
      },
      "execution_count": 69,
      "outputs": []
    },
    {
      "cell_type": "code",
      "source": [
        "print(x_train.shape, x_train, sep='\\n')"
      ],
      "metadata": {
        "colab": {
          "base_uri": "https://localhost:8080/"
        },
        "id": "a4ELVIV8_RRU",
        "outputId": "429939dc-1600-4e54-f8bd-4a6930e14005"
      },
      "execution_count": 70,
      "outputs": [
        {
          "output_type": "stream",
          "name": "stdout",
          "text": [
            "torch.Size([1000, 2])\n",
            "tensor([[ 3.5376, -2.5411],\n",
            "        [ 4.0402,  3.5990],\n",
            "        [ 4.1651, -3.3605],\n",
            "        ...,\n",
            "        [ 3.4009, -2.0605],\n",
            "        [ 2.3600,  3.4377],\n",
            "        [ 3.5942,  2.2312]])\n"
          ]
        }
      ]
    },
    {
      "cell_type": "code",
      "source": [
        "print(y_train.shape, y_train[:10], sep='\\n')"
      ],
      "metadata": {
        "colab": {
          "base_uri": "https://localhost:8080/"
        },
        "id": "hODlHmxgABbL",
        "outputId": "eb767e8c-5b38-4efb-e03f-b8a5f9c84fb4"
      },
      "execution_count": 71,
      "outputs": [
        {
          "output_type": "stream",
          "name": "stdout",
          "text": [
            "torch.Size([1000])\n",
            "tensor([1., 0., 1., 0., 1., 0., 0., 0., 1., 1.])\n"
          ]
        }
      ]
    },
    {
      "cell_type": "code",
      "source": [
        "class linear_regression(nn.Module):\n",
        "  def __init__(self, input_dim):\n",
        "    super(linear_regression,self).__init__()\n",
        "\n",
        "    self.fc1 = nn.Linear(input_dim, 1)\n",
        "  \n",
        "  def forward(self, x_train):\n",
        "    x = self.fc1(x_train)\n",
        "    return torch.sigmoid(x)"
      ],
      "metadata": {
        "id": "ChDA5J5nACoG"
      },
      "execution_count": 72,
      "outputs": []
    },
    {
      "cell_type": "code",
      "source": [
        "model = linear_regression(2)\n",
        "optimizer = optim.Adam(model.parameters(), lr = 0.01)\n",
        "bce_loss = nn.BCELoss()\n",
        "epochs = 1000\n",
        "for _ in range(epochs):\n",
        "  x_train, y_train = get_toy_data(batch_size=batch_size)\n",
        "  Hx = model(x_train).squeeze()\n",
        "  cost = bce_loss(Hx, y_train)\n",
        "\n",
        "  optimizer.zero_grad()\n",
        "  cost.backward()\n",
        "  optimizer.step()"
      ],
      "metadata": {
        "id": "h-vCoHyPBO4K"
      },
      "execution_count": 77,
      "outputs": []
    },
    {
      "cell_type": "code",
      "source": [
        "prediction = (model(x_train)+0.5).int()"
      ],
      "metadata": {
        "id": "9fRj_g9RDWHj"
      },
      "execution_count": 78,
      "outputs": []
    },
    {
      "cell_type": "code",
      "source": [
        "def accuracy(x, y):\n",
        "  correct = 0\n",
        "  for i in range(len(x)):\n",
        "    if x[i] == y[i]:\n",
        "      correct += 1\n",
        "  return (correct / len(x))"
      ],
      "metadata": {
        "id": "39cPZe7jCkMj"
      },
      "execution_count": 79,
      "outputs": []
    },
    {
      "cell_type": "code",
      "source": [
        "accuracy(prediction, y_train)"
      ],
      "metadata": {
        "colab": {
          "base_uri": "https://localhost:8080/"
        },
        "id": "TyVo7vMiHOvj",
        "outputId": "09203873-dcc7-4dc5-b343-679c9891723b"
      },
      "execution_count": 80,
      "outputs": [
        {
          "output_type": "execute_result",
          "data": {
            "text/plain": [
              "0.996"
            ]
          },
          "metadata": {},
          "execution_count": 80
        }
      ]
    }
  ]
}