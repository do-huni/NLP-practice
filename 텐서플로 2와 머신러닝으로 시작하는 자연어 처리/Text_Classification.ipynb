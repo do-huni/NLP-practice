{
  "nbformat": 4,
  "nbformat_minor": 0,
  "metadata": {
    "colab": {
      "provenance": [],
      "collapsed_sections": [
        "Pjgyn7qkrv_j",
        "dBHadUHdrik2",
        "HQq-UJ3ks0CP"
      ],
      "toc_visible": true,
      "authorship_tag": "ABX9TyM4cVD3b1PuQWlpaGXDiD0W",
      "include_colab_link": true
    },
    "kernelspec": {
      "name": "python3",
      "display_name": "Python 3"
    },
    "language_info": {
      "name": "python"
    },
    "gpuClass": "standard",
    "accelerator": "GPU"
  },
  "cells": [
    {
      "cell_type": "markdown",
      "metadata": {
        "id": "view-in-github",
        "colab_type": "text"
      },
      "source": [
        "<a href=\"https://colab.research.google.com/github/orangNLP/NLP_practice-PUB-/blob/main/Text_Classification.ipynb\" target=\"_parent\"><img src=\"https://colab.research.google.com/assets/colab-badge.svg\" alt=\"Open In Colab\"/></a>"
      ]
    },
    {
      "cell_type": "markdown",
      "source": [
        "# 텍스트 분류"
      ],
      "metadata": {
        "id": "IzEkSoRV82jP"
      }
    },
    {
      "cell_type": "markdown",
      "source": [
        "## **□데이터 다운 및 캐글 연동**"
      ],
      "metadata": {
        "id": "Pjgyn7qkrv_j"
      }
    },
    {
      "cell_type": "code",
      "execution_count": 1,
      "metadata": {
        "colab": {
          "base_uri": "https://localhost:8080/",
          "height": 325
        },
        "id": "mwtJ4zMVlnyH",
        "outputId": "c747f40c-ee6c-4a96-ef70-33d9161eca17"
      },
      "outputs": [
        {
          "output_type": "stream",
          "name": "stdout",
          "text": [
            "Looking in indexes: https://pypi.org/simple, https://us-python.pkg.dev/colab-wheels/public/simple/\n",
            "Requirement already satisfied: kaggle in /usr/local/lib/python3.8/dist-packages (1.5.12)\n",
            "Requirement already satisfied: six>=1.10 in /usr/local/lib/python3.8/dist-packages (from kaggle) (1.15.0)\n",
            "Requirement already satisfied: tqdm in /usr/local/lib/python3.8/dist-packages (from kaggle) (4.64.1)\n",
            "Requirement already satisfied: urllib3 in /usr/local/lib/python3.8/dist-packages (from kaggle) (1.24.3)\n",
            "Requirement already satisfied: python-slugify in /usr/local/lib/python3.8/dist-packages (from kaggle) (7.0.0)\n",
            "Requirement already satisfied: certifi in /usr/local/lib/python3.8/dist-packages (from kaggle) (2022.12.7)\n",
            "Requirement already satisfied: python-dateutil in /usr/local/lib/python3.8/dist-packages (from kaggle) (2.8.2)\n",
            "Requirement already satisfied: requests in /usr/local/lib/python3.8/dist-packages (from kaggle) (2.23.0)\n",
            "Requirement already satisfied: text-unidecode>=1.3 in /usr/local/lib/python3.8/dist-packages (from python-slugify->kaggle) (1.3)\n",
            "Requirement already satisfied: chardet<4,>=3.0.2 in /usr/local/lib/python3.8/dist-packages (from requests->kaggle) (3.0.4)\n",
            "Requirement already satisfied: idna<3,>=2.5 in /usr/local/lib/python3.8/dist-packages (from requests->kaggle) (2.10)\n"
          ]
        },
        {
          "output_type": "display_data",
          "data": {
            "text/plain": [
              "<IPython.core.display.HTML object>"
            ],
            "text/html": [
              "\n",
              "     <input type=\"file\" id=\"files-d6506dc0-0001-48c3-97cf-25661c6aaae6\" name=\"files[]\" multiple disabled\n",
              "        style=\"border:none\" />\n",
              "     <output id=\"result-d6506dc0-0001-48c3-97cf-25661c6aaae6\">\n",
              "      Upload widget is only available when the cell has been executed in the\n",
              "      current browser session. Please rerun this cell to enable.\n",
              "      </output>\n",
              "      <script>// Copyright 2017 Google LLC\n",
              "//\n",
              "// Licensed under the Apache License, Version 2.0 (the \"License\");\n",
              "// you may not use this file except in compliance with the License.\n",
              "// You may obtain a copy of the License at\n",
              "//\n",
              "//      http://www.apache.org/licenses/LICENSE-2.0\n",
              "//\n",
              "// Unless required by applicable law or agreed to in writing, software\n",
              "// distributed under the License is distributed on an \"AS IS\" BASIS,\n",
              "// WITHOUT WARRANTIES OR CONDITIONS OF ANY KIND, either express or implied.\n",
              "// See the License for the specific language governing permissions and\n",
              "// limitations under the License.\n",
              "\n",
              "/**\n",
              " * @fileoverview Helpers for google.colab Python module.\n",
              " */\n",
              "(function(scope) {\n",
              "function span(text, styleAttributes = {}) {\n",
              "  const element = document.createElement('span');\n",
              "  element.textContent = text;\n",
              "  for (const key of Object.keys(styleAttributes)) {\n",
              "    element.style[key] = styleAttributes[key];\n",
              "  }\n",
              "  return element;\n",
              "}\n",
              "\n",
              "// Max number of bytes which will be uploaded at a time.\n",
              "const MAX_PAYLOAD_SIZE = 100 * 1024;\n",
              "\n",
              "function _uploadFiles(inputId, outputId) {\n",
              "  const steps = uploadFilesStep(inputId, outputId);\n",
              "  const outputElement = document.getElementById(outputId);\n",
              "  // Cache steps on the outputElement to make it available for the next call\n",
              "  // to uploadFilesContinue from Python.\n",
              "  outputElement.steps = steps;\n",
              "\n",
              "  return _uploadFilesContinue(outputId);\n",
              "}\n",
              "\n",
              "// This is roughly an async generator (not supported in the browser yet),\n",
              "// where there are multiple asynchronous steps and the Python side is going\n",
              "// to poll for completion of each step.\n",
              "// This uses a Promise to block the python side on completion of each step,\n",
              "// then passes the result of the previous step as the input to the next step.\n",
              "function _uploadFilesContinue(outputId) {\n",
              "  const outputElement = document.getElementById(outputId);\n",
              "  const steps = outputElement.steps;\n",
              "\n",
              "  const next = steps.next(outputElement.lastPromiseValue);\n",
              "  return Promise.resolve(next.value.promise).then((value) => {\n",
              "    // Cache the last promise value to make it available to the next\n",
              "    // step of the generator.\n",
              "    outputElement.lastPromiseValue = value;\n",
              "    return next.value.response;\n",
              "  });\n",
              "}\n",
              "\n",
              "/**\n",
              " * Generator function which is called between each async step of the upload\n",
              " * process.\n",
              " * @param {string} inputId Element ID of the input file picker element.\n",
              " * @param {string} outputId Element ID of the output display.\n",
              " * @return {!Iterable<!Object>} Iterable of next steps.\n",
              " */\n",
              "function* uploadFilesStep(inputId, outputId) {\n",
              "  const inputElement = document.getElementById(inputId);\n",
              "  inputElement.disabled = false;\n",
              "\n",
              "  const outputElement = document.getElementById(outputId);\n",
              "  outputElement.innerHTML = '';\n",
              "\n",
              "  const pickedPromise = new Promise((resolve) => {\n",
              "    inputElement.addEventListener('change', (e) => {\n",
              "      resolve(e.target.files);\n",
              "    });\n",
              "  });\n",
              "\n",
              "  const cancel = document.createElement('button');\n",
              "  inputElement.parentElement.appendChild(cancel);\n",
              "  cancel.textContent = 'Cancel upload';\n",
              "  const cancelPromise = new Promise((resolve) => {\n",
              "    cancel.onclick = () => {\n",
              "      resolve(null);\n",
              "    };\n",
              "  });\n",
              "\n",
              "  // Wait for the user to pick the files.\n",
              "  const files = yield {\n",
              "    promise: Promise.race([pickedPromise, cancelPromise]),\n",
              "    response: {\n",
              "      action: 'starting',\n",
              "    }\n",
              "  };\n",
              "\n",
              "  cancel.remove();\n",
              "\n",
              "  // Disable the input element since further picks are not allowed.\n",
              "  inputElement.disabled = true;\n",
              "\n",
              "  if (!files) {\n",
              "    return {\n",
              "      response: {\n",
              "        action: 'complete',\n",
              "      }\n",
              "    };\n",
              "  }\n",
              "\n",
              "  for (const file of files) {\n",
              "    const li = document.createElement('li');\n",
              "    li.append(span(file.name, {fontWeight: 'bold'}));\n",
              "    li.append(span(\n",
              "        `(${file.type || 'n/a'}) - ${file.size} bytes, ` +\n",
              "        `last modified: ${\n",
              "            file.lastModifiedDate ? file.lastModifiedDate.toLocaleDateString() :\n",
              "                                    'n/a'} - `));\n",
              "    const percent = span('0% done');\n",
              "    li.appendChild(percent);\n",
              "\n",
              "    outputElement.appendChild(li);\n",
              "\n",
              "    const fileDataPromise = new Promise((resolve) => {\n",
              "      const reader = new FileReader();\n",
              "      reader.onload = (e) => {\n",
              "        resolve(e.target.result);\n",
              "      };\n",
              "      reader.readAsArrayBuffer(file);\n",
              "    });\n",
              "    // Wait for the data to be ready.\n",
              "    let fileData = yield {\n",
              "      promise: fileDataPromise,\n",
              "      response: {\n",
              "        action: 'continue',\n",
              "      }\n",
              "    };\n",
              "\n",
              "    // Use a chunked sending to avoid message size limits. See b/62115660.\n",
              "    let position = 0;\n",
              "    do {\n",
              "      const length = Math.min(fileData.byteLength - position, MAX_PAYLOAD_SIZE);\n",
              "      const chunk = new Uint8Array(fileData, position, length);\n",
              "      position += length;\n",
              "\n",
              "      const base64 = btoa(String.fromCharCode.apply(null, chunk));\n",
              "      yield {\n",
              "        response: {\n",
              "          action: 'append',\n",
              "          file: file.name,\n",
              "          data: base64,\n",
              "        },\n",
              "      };\n",
              "\n",
              "      let percentDone = fileData.byteLength === 0 ?\n",
              "          100 :\n",
              "          Math.round((position / fileData.byteLength) * 100);\n",
              "      percent.textContent = `${percentDone}% done`;\n",
              "\n",
              "    } while (position < fileData.byteLength);\n",
              "  }\n",
              "\n",
              "  // All done.\n",
              "  yield {\n",
              "    response: {\n",
              "      action: 'complete',\n",
              "    }\n",
              "  };\n",
              "}\n",
              "\n",
              "scope.google = scope.google || {};\n",
              "scope.google.colab = scope.google.colab || {};\n",
              "scope.google.colab._files = {\n",
              "  _uploadFiles,\n",
              "  _uploadFilesContinue,\n",
              "};\n",
              "})(self);\n",
              "</script> "
            ]
          },
          "metadata": {}
        },
        {
          "output_type": "stream",
          "name": "stdout",
          "text": [
            "Saving kaggle.json to kaggle.json\n"
          ]
        },
        {
          "output_type": "execute_result",
          "data": {
            "text/plain": [
              "{'kaggle.json': b'{\"username\":\"orangkim\",\"key\":\"83a095e75a3ad155f345dcb4416820d1\"}'}"
            ]
          },
          "metadata": {},
          "execution_count": 1
        }
      ],
      "source": [
        "!pip install kaggle\n",
        "from google.colab import files\n",
        "files.upload()"
      ]
    },
    {
      "cell_type": "code",
      "source": [
        "# json 파일 ~/.kaggle로 이동시키기\n",
        "!mkdir -p ~/.kaggle\n",
        "!cp kaggle.json ~/.kaggle/\n",
        "# Permission Warning 방지\n",
        "!chmod 600 ~/.kaggle/kaggle.json"
      ],
      "metadata": {
        "id": "pJ2fiNVIoaO8"
      },
      "execution_count": 2,
      "outputs": []
    },
    {
      "cell_type": "code",
      "source": [
        "!kaggle competitions download -c word2vec-nlp-tutorial"
      ],
      "metadata": {
        "colab": {
          "base_uri": "https://localhost:8080/"
        },
        "id": "iz1k8N7moYkF",
        "outputId": "b183eee0-9bd0-4e1b-ac20-41b2156cdb33"
      },
      "execution_count": 3,
      "outputs": [
        {
          "output_type": "stream",
          "name": "stdout",
          "text": [
            "Downloading word2vec-nlp-tutorial.zip to /content\n",
            " 99% 51.0M/51.7M [00:00<00:00, 105MB/s] \n",
            "100% 51.7M/51.7M [00:00<00:00, 93.1MB/s]\n"
          ]
        }
      ]
    },
    {
      "cell_type": "code",
      "source": [
        "from ast import increment_lineno\n",
        "import numpy as np\n",
        "import pandas as pd\n",
        "import os\n",
        "import matplotlib.pyplot as plt\n",
        "import seaborn as sns\n",
        "import re\n",
        "import json\n",
        "from bs4 import BeautifulSoup\n",
        "import nltk\n",
        "import tensorflow as tf\n",
        "from tensorflow.keras.preprocessing.sequence import pad_sequences\n",
        "from tensorflow.keras.preprocessing.text import Tokenizer\n",
        "from nltk.corpus import stopwords\n",
        "nltk.download('stopwords')\n",
        "import tensorflow.keras.layers\n",
        "%matplotlib inline"
      ],
      "metadata": {
        "id": "k1imCCX3oggV",
        "colab": {
          "base_uri": "https://localhost:8080/"
        },
        "outputId": "f46d0caf-d8a3-4d82-dd52-2bc74a6cf143"
      },
      "execution_count": 4,
      "outputs": [
        {
          "output_type": "stream",
          "name": "stderr",
          "text": [
            "[nltk_data] Downloading package stopwords to /root/nltk_data...\n",
            "[nltk_data]   Unzipping corpora/stopwords.zip.\n"
          ]
        }
      ]
    },
    {
      "cell_type": "code",
      "source": [
        "os.listdir()"
      ],
      "metadata": {
        "colab": {
          "base_uri": "https://localhost:8080/"
        },
        "id": "aT4M2l2tqZq5",
        "outputId": "3bdbf916-4642-4e4b-9817-8baef8c7f741"
      },
      "execution_count": 5,
      "outputs": [
        {
          "output_type": "execute_result",
          "data": {
            "text/plain": [
              "['.config', 'kaggle.json', 'word2vec-nlp-tutorial.zip', 'sample_data']"
            ]
          },
          "metadata": {},
          "execution_count": 5
        }
      ]
    },
    {
      "cell_type": "code",
      "source": [
        "os.mkdir('./data_in')"
      ],
      "metadata": {
        "id": "bQgr6okXmiG2"
      },
      "execution_count": 6,
      "outputs": []
    },
    {
      "cell_type": "code",
      "source": [
        "!unzip word2vec-nlp-tutorial.zip"
      ],
      "metadata": {
        "id": "j-szhOHzt1Nr",
        "colab": {
          "base_uri": "https://localhost:8080/"
        },
        "outputId": "1e1d079c-cce1-4d7d-f71c-0074c23a53c7"
      },
      "execution_count": 7,
      "outputs": [
        {
          "output_type": "stream",
          "name": "stdout",
          "text": [
            "Archive:  word2vec-nlp-tutorial.zip\n",
            "  inflating: labeledTrainData.tsv.zip  \n",
            "  inflating: sampleSubmission.csv    \n",
            "  inflating: testData.tsv.zip        \n",
            "  inflating: unlabeledTrainData.tsv.zip  \n"
          ]
        }
      ]
    },
    {
      "cell_type": "code",
      "source": [
        "!unzip labeledTrainData.tsv.zip\n",
        "!unzip unlabeledTrainData.tsv.zip\n",
        "!unzip testData.tsv.zip"
      ],
      "metadata": {
        "id": "jmGLdV8ym0qY",
        "colab": {
          "base_uri": "https://localhost:8080/"
        },
        "outputId": "a63c9bc6-5069-4b29-d3ad-2d930dc1473d"
      },
      "execution_count": 8,
      "outputs": [
        {
          "output_type": "stream",
          "name": "stdout",
          "text": [
            "Archive:  labeledTrainData.tsv.zip\n",
            "  inflating: labeledTrainData.tsv    \n",
            "Archive:  unlabeledTrainData.tsv.zip\n",
            "  inflating: unlabeledTrainData.tsv  \n",
            "Archive:  testData.tsv.zip\n",
            "  inflating: testData.tsv            \n"
          ]
        }
      ]
    },
    {
      "cell_type": "code",
      "source": [
        "import shutil\n",
        "shutil.move('/content/labeledTrainData.tsv','/content/data_in/labeledTrainData.tsv')\n",
        "shutil.move('/content/sampleSubmission.csv','/content/data_in/sampleSubmission.csv')\n",
        "shutil.move('/content/testData.tsv','/content/data_in/testData.tsv')\n",
        "shutil.move('/content/unlabeledTrainData.tsv','/content/data_in/unlabeledTrainData.tsv')"
      ],
      "metadata": {
        "id": "SbcpYtun_IKA",
        "colab": {
          "base_uri": "https://localhost:8080/",
          "height": 36
        },
        "outputId": "0bd6aba3-489b-421a-af4c-09b8ba9512af"
      },
      "execution_count": 9,
      "outputs": [
        {
          "output_type": "execute_result",
          "data": {
            "text/plain": [
              "'/content/data_in/unlabeledTrainData.tsv'"
            ],
            "application/vnd.google.colaboratory.intrinsic+json": {
              "type": "string"
            }
          },
          "metadata": {},
          "execution_count": 9
        }
      ]
    },
    {
      "cell_type": "code",
      "source": [
        "DATA_IN_PATH = './data_in/'\n",
        "train_data = pd.read_csv(DATA_IN_PATH + 'labeledTrainData.tsv', header = 0, delimiter = '\\t', quoting = 3) #delimiter = 구분자, quoting = 3 따옴표 그대로 출력"
      ],
      "metadata": {
        "id": "j5mLr_DDrD1b"
      },
      "execution_count": 10,
      "outputs": []
    },
    {
      "cell_type": "markdown",
      "source": [
        "## **□데이터 이해**"
      ],
      "metadata": {
        "id": "dBHadUHdrik2"
      }
    },
    {
      "cell_type": "code",
      "source": [
        "train_data.head() #.head -> 앞에 5개의 데이터 확인"
      ],
      "metadata": {
        "colab": {
          "base_uri": "https://localhost:8080/",
          "height": 204
        },
        "id": "n6j9LKi1pQR0",
        "outputId": "bf1b3030-6597-4366-859b-19716f712c66"
      },
      "execution_count": 11,
      "outputs": [
        {
          "output_type": "execute_result",
          "data": {
            "text/plain": [
              "         id  sentiment                                             review\n",
              "0  \"5814_8\"          1  \"With all this stuff going down at the moment ...\n",
              "1  \"2381_9\"          1  \"\\\"The Classic War of the Worlds\\\" by Timothy ...\n",
              "2  \"7759_3\"          0  \"The film starts with a manager (Nicholas Bell...\n",
              "3  \"3630_4\"          0  \"It must be assumed that those who praised thi...\n",
              "4  \"9495_8\"          1  \"Superbly trashy and wondrously unpretentious ..."
            ],
            "text/html": [
              "\n",
              "  <div id=\"df-5e10a13e-8f8c-48d4-ad6a-a44777902103\">\n",
              "    <div class=\"colab-df-container\">\n",
              "      <div>\n",
              "<style scoped>\n",
              "    .dataframe tbody tr th:only-of-type {\n",
              "        vertical-align: middle;\n",
              "    }\n",
              "\n",
              "    .dataframe tbody tr th {\n",
              "        vertical-align: top;\n",
              "    }\n",
              "\n",
              "    .dataframe thead th {\n",
              "        text-align: right;\n",
              "    }\n",
              "</style>\n",
              "<table border=\"1\" class=\"dataframe\">\n",
              "  <thead>\n",
              "    <tr style=\"text-align: right;\">\n",
              "      <th></th>\n",
              "      <th>id</th>\n",
              "      <th>sentiment</th>\n",
              "      <th>review</th>\n",
              "    </tr>\n",
              "  </thead>\n",
              "  <tbody>\n",
              "    <tr>\n",
              "      <th>0</th>\n",
              "      <td>\"5814_8\"</td>\n",
              "      <td>1</td>\n",
              "      <td>\"With all this stuff going down at the moment ...</td>\n",
              "    </tr>\n",
              "    <tr>\n",
              "      <th>1</th>\n",
              "      <td>\"2381_9\"</td>\n",
              "      <td>1</td>\n",
              "      <td>\"\\\"The Classic War of the Worlds\\\" by Timothy ...</td>\n",
              "    </tr>\n",
              "    <tr>\n",
              "      <th>2</th>\n",
              "      <td>\"7759_3\"</td>\n",
              "      <td>0</td>\n",
              "      <td>\"The film starts with a manager (Nicholas Bell...</td>\n",
              "    </tr>\n",
              "    <tr>\n",
              "      <th>3</th>\n",
              "      <td>\"3630_4\"</td>\n",
              "      <td>0</td>\n",
              "      <td>\"It must be assumed that those who praised thi...</td>\n",
              "    </tr>\n",
              "    <tr>\n",
              "      <th>4</th>\n",
              "      <td>\"9495_8\"</td>\n",
              "      <td>1</td>\n",
              "      <td>\"Superbly trashy and wondrously unpretentious ...</td>\n",
              "    </tr>\n",
              "  </tbody>\n",
              "</table>\n",
              "</div>\n",
              "      <button class=\"colab-df-convert\" onclick=\"convertToInteractive('df-5e10a13e-8f8c-48d4-ad6a-a44777902103')\"\n",
              "              title=\"Convert this dataframe to an interactive table.\"\n",
              "              style=\"display:none;\">\n",
              "        \n",
              "  <svg xmlns=\"http://www.w3.org/2000/svg\" height=\"24px\"viewBox=\"0 0 24 24\"\n",
              "       width=\"24px\">\n",
              "    <path d=\"M0 0h24v24H0V0z\" fill=\"none\"/>\n",
              "    <path d=\"M18.56 5.44l.94 2.06.94-2.06 2.06-.94-2.06-.94-.94-2.06-.94 2.06-2.06.94zm-11 1L8.5 8.5l.94-2.06 2.06-.94-2.06-.94L8.5 2.5l-.94 2.06-2.06.94zm10 10l.94 2.06.94-2.06 2.06-.94-2.06-.94-.94-2.06-.94 2.06-2.06.94z\"/><path d=\"M17.41 7.96l-1.37-1.37c-.4-.4-.92-.59-1.43-.59-.52 0-1.04.2-1.43.59L10.3 9.45l-7.72 7.72c-.78.78-.78 2.05 0 2.83L4 21.41c.39.39.9.59 1.41.59.51 0 1.02-.2 1.41-.59l7.78-7.78 2.81-2.81c.8-.78.8-2.07 0-2.86zM5.41 20L4 18.59l7.72-7.72 1.47 1.35L5.41 20z\"/>\n",
              "  </svg>\n",
              "      </button>\n",
              "      \n",
              "  <style>\n",
              "    .colab-df-container {\n",
              "      display:flex;\n",
              "      flex-wrap:wrap;\n",
              "      gap: 12px;\n",
              "    }\n",
              "\n",
              "    .colab-df-convert {\n",
              "      background-color: #E8F0FE;\n",
              "      border: none;\n",
              "      border-radius: 50%;\n",
              "      cursor: pointer;\n",
              "      display: none;\n",
              "      fill: #1967D2;\n",
              "      height: 32px;\n",
              "      padding: 0 0 0 0;\n",
              "      width: 32px;\n",
              "    }\n",
              "\n",
              "    .colab-df-convert:hover {\n",
              "      background-color: #E2EBFA;\n",
              "      box-shadow: 0px 1px 2px rgba(60, 64, 67, 0.3), 0px 1px 3px 1px rgba(60, 64, 67, 0.15);\n",
              "      fill: #174EA6;\n",
              "    }\n",
              "\n",
              "    [theme=dark] .colab-df-convert {\n",
              "      background-color: #3B4455;\n",
              "      fill: #D2E3FC;\n",
              "    }\n",
              "\n",
              "    [theme=dark] .colab-df-convert:hover {\n",
              "      background-color: #434B5C;\n",
              "      box-shadow: 0px 1px 3px 1px rgba(0, 0, 0, 0.15);\n",
              "      filter: drop-shadow(0px 1px 2px rgba(0, 0, 0, 0.3));\n",
              "      fill: #FFFFFF;\n",
              "    }\n",
              "  </style>\n",
              "\n",
              "      <script>\n",
              "        const buttonEl =\n",
              "          document.querySelector('#df-5e10a13e-8f8c-48d4-ad6a-a44777902103 button.colab-df-convert');\n",
              "        buttonEl.style.display =\n",
              "          google.colab.kernel.accessAllowed ? 'block' : 'none';\n",
              "\n",
              "        async function convertToInteractive(key) {\n",
              "          const element = document.querySelector('#df-5e10a13e-8f8c-48d4-ad6a-a44777902103');\n",
              "          const dataTable =\n",
              "            await google.colab.kernel.invokeFunction('convertToInteractive',\n",
              "                                                     [key], {});\n",
              "          if (!dataTable) return;\n",
              "\n",
              "          const docLinkHtml = 'Like what you see? Visit the ' +\n",
              "            '<a target=\"_blank\" href=https://colab.research.google.com/notebooks/data_table.ipynb>data table notebook</a>'\n",
              "            + ' to learn more about interactive tables.';\n",
              "          element.innerHTML = '';\n",
              "          dataTable['output_type'] = 'display_data';\n",
              "          await google.colab.output.renderOutput(dataTable, element);\n",
              "          const docLink = document.createElement('div');\n",
              "          docLink.innerHTML = docLinkHtml;\n",
              "          element.appendChild(docLink);\n",
              "        }\n",
              "      </script>\n",
              "    </div>\n",
              "  </div>\n",
              "  "
            ]
          },
          "metadata": {},
          "execution_count": 11
        }
      ]
    },
    {
      "cell_type": "code",
      "source": [
        "# 데이터 크기 확인\n",
        "print(\"파일 크기: \")\n",
        "for file in os.listdir(DATA_IN_PATH):\n",
        "  if 'tsv' in file and 'zip' not in file:\n",
        "    print(file.ljust(30)+str(round(os.path.getsize(DATA_IN_PATH + file) / 1000000, 2)) + 'MB')"
      ],
      "metadata": {
        "colab": {
          "base_uri": "https://localhost:8080/"
        },
        "id": "tRWEUH5IqT4j",
        "outputId": "2f95d2ec-bc8b-44db-ab7b-9e9c7370055f"
      },
      "execution_count": 12,
      "outputs": [
        {
          "output_type": "stream",
          "name": "stdout",
          "text": [
            "파일 크기: \n",
            "labeledTrainData.tsv          33.56MB\n",
            "unlabeledTrainData.tsv        67.28MB\n",
            "testData.tsv                  32.72MB\n"
          ]
        }
      ]
    },
    {
      "cell_type": "code",
      "source": [
        "print('전체 학습 데이터의 개수: {}'.format(len(train_data)))"
      ],
      "metadata": {
        "colab": {
          "base_uri": "https://localhost:8080/"
        },
        "id": "eRkMkk89r_N3",
        "outputId": "fe999548-d078-4e5b-b4d7-39186ec6ab99"
      },
      "execution_count": 13,
      "outputs": [
        {
          "output_type": "stream",
          "name": "stdout",
          "text": [
            "전체 학습 데이터의 개수: 25000\n"
          ]
        }
      ]
    },
    {
      "cell_type": "code",
      "source": [
        "train_length = train_data['review'].apply(len) #.apply DataFrame에 인자에 해당하는 함수를 적용하는 메서드\n",
        "train_length.head()"
      ],
      "metadata": {
        "colab": {
          "base_uri": "https://localhost:8080/"
        },
        "id": "QniDuUTRtB6o",
        "outputId": "a6859556-fb0f-47cf-c43e-02c9f58c3f9f"
      },
      "execution_count": 14,
      "outputs": [
        {
          "output_type": "execute_result",
          "data": {
            "text/plain": [
              "0    2304\n",
              "1     948\n",
              "2    2451\n",
              "3    2247\n",
              "4    2233\n",
              "Name: review, dtype: int64"
            ]
          },
          "metadata": {},
          "execution_count": 14
        }
      ]
    },
    {
      "cell_type": "code",
      "source": [
        "#review 데이터 형태 확인을 위해 히스토그램 그리기\n",
        "plt.figure(figsize = (12,5))\n",
        "plt.hist(train_length, bins = 200, alpha = 0.5, color = 'r', label = 'word')\n",
        "plt.yscale('log', nonposy = 'clip') #nonposy = 유효하지 않은 값을 아주 작은 값으로 잘라냄\n",
        "plt.title('Log-Histogram of length of review')\n",
        "plt.xlabel('Length of review')\n",
        "plt.ylabel('Number of review')"
      ],
      "metadata": {
        "colab": {
          "base_uri": "https://localhost:8080/",
          "height": 369
        },
        "id": "8BfNCxR9tuCo",
        "outputId": "d5e16561-c64d-491b-90de-b660060d7d9d"
      },
      "execution_count": 15,
      "outputs": [
        {
          "output_type": "execute_result",
          "data": {
            "text/plain": [
              "Text(0, 0.5, 'Number of review')"
            ]
          },
          "metadata": {},
          "execution_count": 15
        },
        {
          "output_type": "display_data",
          "data": {
            "text/plain": [
              "<Figure size 864x360 with 1 Axes>"
            ],
            "image/png": "[encoded data removed]"
          },
          "metadata": {
            "needs_background": "light"
          }
        }
      ]
    },
    {
      "cell_type": "code",
      "source": [
        "#review 데이터 형태 확인을 위한 통계값 출력\n",
        "print('리뷰 길이 최댓값: {}'.format(np.max(train_length)))\n",
        "print('리뷰 길이 최솟값: {}'.format(np.min(train_data)))\n",
        "print('리뷰 길이 평균값: {:.2f}'.format(np.mean(train_length)))\n",
        "print('리뷰 길이 표준편차: {:.2f}'.format(np.std(train_length)))\n",
        "print('리뷰 길이 중간값: {}'.format(np.median(train_length)))\n",
        "print('리뷰 길이 제1사분위: {}'.format(np.percentile(train_length,25)))\n",
        "print('리뷰 길이 제3사분위: {}'.format(np.percentile(train_length,75)))"
      ],
      "metadata": {
        "colab": {
          "base_uri": "https://localhost:8080/"
        },
        "id": "mLep5Ep5u97f",
        "outputId": "80e46bb0-7875-4a67-db86-75b51d84809b"
      },
      "execution_count": 16,
      "outputs": [
        {
          "output_type": "stream",
          "name": "stdout",
          "text": [
            "리뷰 길이 최댓값: 13710\n",
            "리뷰 길이 최솟값: id                                                       \"0_3\"\n",
            "sentiment                                                    0\n",
            "review       \"\b\b\b\bA Turkish Bath sequence in a film noir lo...\n",
            "dtype: object\n",
            "리뷰 길이 평균값: 1329.71\n",
            "리뷰 길이 표준편차: 1005.22\n",
            "리뷰 길이 중간값: 983.0\n",
            "리뷰 길이 제1사분위: 705.0\n",
            "리뷰 길이 제3사분위: 1619.0\n"
          ]
        }
      ]
    },
    {
      "cell_type": "code",
      "source": [
        "#review 데이터 형태 확인을 위한 박스플롯 출력\n",
        "plt.figure(figsize=(12,5))\n",
        "plt.boxplot(train_length,\n",
        "            labels = ['counts'],\n",
        "            showmeans=True) #showmeans: 평균값 마크 유무"
      ],
      "metadata": {
        "colab": {
          "base_uri": "https://localhost:8080/",
          "height": 472
        },
        "id": "sfjdrkaQwFZt",
        "outputId": "b9f275da-c880-4352-a0e8-5892fa66e5a3"
      },
      "execution_count": 17,
      "outputs": [
        {
          "output_type": "execute_result",
          "data": {
            "text/plain": [
              "{'whiskers': [<matplotlib.lines.Line2D at 0x7f451850e5e0>,\n",
              "  <matplotlib.lines.Line2D at 0x7f451850e940>],\n",
              " 'caps': [<matplotlib.lines.Line2D at 0x7f451850eca0>,\n",
              "  <matplotlib.lines.Line2D at 0x7f4518525040>],\n",
              " 'boxes': [<matplotlib.lines.Line2D at 0x7f451850e280>],\n",
              " 'medians': [<matplotlib.lines.Line2D at 0x7f45185253a0>],\n",
              " 'fliers': [<matplotlib.lines.Line2D at 0x7f4518525a00>],\n",
              " 'means': [<matplotlib.lines.Line2D at 0x7f45185256a0>]}"
            ]
          },
          "metadata": {},
          "execution_count": 17
        },
        {
          "output_type": "display_data",
          "data": {
            "text/plain": [
              "<Figure size 864x360 with 1 Axes>"
            ],
            "image/png": "[encoded data removed]"
          },
          "metadata": {
            "needs_background": "light"
          }
        }
      ]
    },
    {
      "cell_type": "code",
      "source": [
        "#review 데이터 형태 확인을 위한 워드클라우드 출력\n",
        "from wordcloud import WordCloud\n",
        "cloud = WordCloud(width = 800, height = 600).generate(\" \".join(train_data['review'])) #문자열로 인자 전달을 위해 공백 삽입 후 join\n",
        "plt.figure(figsize=(12,5))\n",
        "plt.imshow(cloud)\n",
        "plt.axis('off')"
      ],
      "metadata": {
        "colab": {
          "base_uri": "https://localhost:8080/",
          "height": 322
        },
        "id": "4qZRouaOwayc",
        "outputId": "4b23dba6-ab69-4259-d76e-3d003cb42fc7"
      },
      "execution_count": 18,
      "outputs": [
        {
          "output_type": "execute_result",
          "data": {
            "text/plain": [
              "(-0.5, 799.5, 599.5, -0.5)"
            ]
          },
          "metadata": {},
          "execution_count": 18
        },
        {
          "output_type": "display_data",
          "data": {
            "text/plain": [
              "<Figure size 864x360 with 1 Axes>"
            ],
            "image/png": "[encoded data removed]"
          },
          "metadata": {
            "needs_background": "light"
          }
        }
      ]
    },
    {
      "cell_type": "code",
      "source": [
        "#단어 개수 확인\n",
        "train_word_counts = train_data['review'].apply(lambda x:len(x.split(' ')))\n",
        "train_word_counts"
      ],
      "metadata": {
        "colab": {
          "base_uri": "https://localhost:8080/"
        },
        "id": "1zyrpQXUxhrE",
        "outputId": "2250fa37-75de-4322-8c9f-d8565aa4984e"
      },
      "execution_count": 19,
      "outputs": [
        {
          "output_type": "execute_result",
          "data": {
            "text/plain": [
              "0        433\n",
              "1        158\n",
              "2        378\n",
              "3        379\n",
              "4        367\n",
              "        ... \n",
              "24995     95\n",
              "24996    174\n",
              "24997    127\n",
              "24998    197\n",
              "24999    184\n",
              "Name: review, Length: 25000, dtype: int64"
            ]
          },
          "metadata": {},
          "execution_count": 19
        }
      ]
    },
    {
      "cell_type": "code",
      "source": [
        "#구두점 및 대소문자 비율 값 확인\n",
        "qmarks = np.mean(train_data['review'].apply(lambda x: '?' in x))\n",
        "fullstop = np.mean(train_data['review'].apply(lambda x: '.' in x))\n",
        "capitalizing = np.mean(train_data['review'].apply(lambda x: x[0].isupper()))\n",
        "capitals = np.mean(train_data['review'].apply(lambda x: max([y.isupper() for y in x])))\n",
        "numbers = np.mean(train_data['review'].apply(lambda x: max([y.isdigit() for y in x])))\n",
        "\n",
        "print('물음표가 있는 질문: {:.2f}%'.format(qmarks*100))\n",
        "print('마침표가 있는 질문: {:.2f}%'.format(fullstop*100))\n",
        "print('대문자로 시작하는 질문: {:.2f}%'.format(capitalizing*100))\n",
        "print('대문자가 있는 질문: {:.2f}%'.format(capitals*100))\n",
        "print('숫자가 있는 질문: {:.2f}%'.format(numbers*100))"
      ],
      "metadata": {
        "colab": {
          "base_uri": "https://localhost:8080/"
        },
        "id": "QiGZRsxdyDVn",
        "outputId": "6addb82c-7f6d-485f-99b8-51a43be0490c"
      },
      "execution_count": 20,
      "outputs": [
        {
          "output_type": "stream",
          "name": "stdout",
          "text": [
            "물음표가 있는 질문: 29.55%\n",
            "마침표가 있는 질문: 99.69%\n",
            "대문자로 시작하는 질문: 0.00%\n",
            "대문자가 있는 질문: 99.59%\n",
            "숫자가 있는 질문: 56.66%\n"
          ]
        }
      ]
    },
    {
      "cell_type": "markdown",
      "source": [
        "## **□데이터 전처리**"
      ],
      "metadata": {
        "id": "Xk-Q-g4f0Ff0"
      }
    },
    {
      "cell_type": "code",
      "source": [
        "def preprocessing(review, remove_stopwords = False):\n",
        "  review_text = BeautifulSoup(review,'html5lib').get_text() #Beautiful Soup 활용해서 HTML 태그 제거\n",
        "  review_text = re.sub('[^a-zA-Z]', ' ', review_text) #영어를 제외한 특수문자 등 제거\n",
        "  words = review_text.lower().split() #소문자 변환 및 리스트화\n",
        "  if remove_stopwords:\n",
        "    stops = set(stopwords.words('english')) #영어 불용어들 집합으로 가져오기\n",
        "    words = [w for w in words if w not in stops]\n",
        "    clean_review = ' '.join(words)\n",
        "  else:\n",
        "    clean_review = ' '.join(words)\n",
        "    \n",
        "  return clean_review"
      ],
      "metadata": {
        "id": "4vb1F8CWzy7Z"
      },
      "execution_count": 21,
      "outputs": []
    },
    {
      "cell_type": "code",
      "source": [
        "clean_train_reviews = []\n",
        "for review in train_data['review']:\n",
        "  clean_train_reviews.append(preprocessing(review, remove_stopwords = True))"
      ],
      "metadata": {
        "id": "GvtizBEC1r9H"
      },
      "execution_count": 22,
      "outputs": []
    },
    {
      "cell_type": "code",
      "source": [
        "#현재까지 전처리한 데이터(텍스트 형태)를 DataFrame으로 저장\n",
        "clean_train_df = pd.DataFrame({'review': clean_train_reviews, 'sentiment': train_data['sentiment']})\n",
        "clean_train_df.head()"
      ],
      "metadata": {
        "id": "TN-5YxRt2nKP",
        "colab": {
          "base_uri": "https://localhost:8080/",
          "height": 204
        },
        "outputId": "752e8890-400f-48cb-980c-90ba189a0146"
      },
      "execution_count": 23,
      "outputs": [
        {
          "output_type": "execute_result",
          "data": {
            "text/plain": [
              "                                              review  sentiment\n",
              "0  stuff going moment mj started listening music ...          1\n",
              "1  classic war worlds timothy hines entertaining ...          1\n",
              "2  film starts manager nicholas bell giving welco...          0\n",
              "3  must assumed praised film greatest filmed oper...          0\n",
              "4  superbly trashy wondrously unpretentious explo...          1"
            ],
            "text/html": [
              "\n",
              "  <div id=\"df-dea1cbb4-dbf7-4bb1-96b3-e6578a6b6c97\">\n",
              "    <div class=\"colab-df-container\">\n",
              "      <div>\n",
              "<style scoped>\n",
              "    .dataframe tbody tr th:only-of-type {\n",
              "        vertical-align: middle;\n",
              "    }\n",
              "\n",
              "    .dataframe tbody tr th {\n",
              "        vertical-align: top;\n",
              "    }\n",
              "\n",
              "    .dataframe thead th {\n",
              "        text-align: right;\n",
              "    }\n",
              "</style>\n",
              "<table border=\"1\" class=\"dataframe\">\n",
              "  <thead>\n",
              "    <tr style=\"text-align: right;\">\n",
              "      <th></th>\n",
              "      <th>review</th>\n",
              "      <th>sentiment</th>\n",
              "    </tr>\n",
              "  </thead>\n",
              "  <tbody>\n",
              "    <tr>\n",
              "      <th>0</th>\n",
              "      <td>stuff going moment mj started listening music ...</td>\n",
              "      <td>1</td>\n",
              "    </tr>\n",
              "    <tr>\n",
              "      <th>1</th>\n",
              "      <td>classic war worlds timothy hines entertaining ...</td>\n",
              "      <td>1</td>\n",
              "    </tr>\n",
              "    <tr>\n",
              "      <th>2</th>\n",
              "      <td>film starts manager nicholas bell giving welco...</td>\n",
              "      <td>0</td>\n",
              "    </tr>\n",
              "    <tr>\n",
              "      <th>3</th>\n",
              "      <td>must assumed praised film greatest filmed oper...</td>\n",
              "      <td>0</td>\n",
              "    </tr>\n",
              "    <tr>\n",
              "      <th>4</th>\n",
              "      <td>superbly trashy wondrously unpretentious explo...</td>\n",
              "      <td>1</td>\n",
              "    </tr>\n",
              "  </tbody>\n",
              "</table>\n",
              "</div>\n",
              "      <button class=\"colab-df-convert\" onclick=\"convertToInteractive('df-dea1cbb4-dbf7-4bb1-96b3-e6578a6b6c97')\"\n",
              "              title=\"Convert this dataframe to an interactive table.\"\n",
              "              style=\"display:none;\">\n",
              "        \n",
              "  <svg xmlns=\"http://www.w3.org/2000/svg\" height=\"24px\"viewBox=\"0 0 24 24\"\n",
              "       width=\"24px\">\n",
              "    <path d=\"M0 0h24v24H0V0z\" fill=\"none\"/>\n",
              "    <path d=\"M18.56 5.44l.94 2.06.94-2.06 2.06-.94-2.06-.94-.94-2.06-.94 2.06-2.06.94zm-11 1L8.5 8.5l.94-2.06 2.06-.94-2.06-.94L8.5 2.5l-.94 2.06-2.06.94zm10 10l.94 2.06.94-2.06 2.06-.94-2.06-.94-.94-2.06-.94 2.06-2.06.94z\"/><path d=\"M17.41 7.96l-1.37-1.37c-.4-.4-.92-.59-1.43-.59-.52 0-1.04.2-1.43.59L10.3 9.45l-7.72 7.72c-.78.78-.78 2.05 0 2.83L4 21.41c.39.39.9.59 1.41.59.51 0 1.02-.2 1.41-.59l7.78-7.78 2.81-2.81c.8-.78.8-2.07 0-2.86zM5.41 20L4 18.59l7.72-7.72 1.47 1.35L5.41 20z\"/>\n",
              "  </svg>\n",
              "      </button>\n",
              "      \n",
              "  <style>\n",
              "    .colab-df-container {\n",
              "      display:flex;\n",
              "      flex-wrap:wrap;\n",
              "      gap: 12px;\n",
              "    }\n",
              "\n",
              "    .colab-df-convert {\n",
              "      background-color: #E8F0FE;\n",
              "      border: none;\n",
              "      border-radius: 50%;\n",
              "      cursor: pointer;\n",
              "      display: none;\n",
              "      fill: #1967D2;\n",
              "      height: 32px;\n",
              "      padding: 0 0 0 0;\n",
              "      width: 32px;\n",
              "    }\n",
              "\n",
              "    .colab-df-convert:hover {\n",
              "      background-color: #E2EBFA;\n",
              "      box-shadow: 0px 1px 2px rgba(60, 64, 67, 0.3), 0px 1px 3px 1px rgba(60, 64, 67, 0.15);\n",
              "      fill: #174EA6;\n",
              "    }\n",
              "\n",
              "    [theme=dark] .colab-df-convert {\n",
              "      background-color: #3B4455;\n",
              "      fill: #D2E3FC;\n",
              "    }\n",
              "\n",
              "    [theme=dark] .colab-df-convert:hover {\n",
              "      background-color: #434B5C;\n",
              "      box-shadow: 0px 1px 3px 1px rgba(0, 0, 0, 0.15);\n",
              "      filter: drop-shadow(0px 1px 2px rgba(0, 0, 0, 0.3));\n",
              "      fill: #FFFFFF;\n",
              "    }\n",
              "  </style>\n",
              "\n",
              "      <script>\n",
              "        const buttonEl =\n",
              "          document.querySelector('#df-dea1cbb4-dbf7-4bb1-96b3-e6578a6b6c97 button.colab-df-convert');\n",
              "        buttonEl.style.display =\n",
              "          google.colab.kernel.accessAllowed ? 'block' : 'none';\n",
              "\n",
              "        async function convertToInteractive(key) {\n",
              "          const element = document.querySelector('#df-dea1cbb4-dbf7-4bb1-96b3-e6578a6b6c97');\n",
              "          const dataTable =\n",
              "            await google.colab.kernel.invokeFunction('convertToInteractive',\n",
              "                                                     [key], {});\n",
              "          if (!dataTable) return;\n",
              "\n",
              "          const docLinkHtml = 'Like what you see? Visit the ' +\n",
              "            '<a target=\"_blank\" href=https://colab.research.google.com/notebooks/data_table.ipynb>data table notebook</a>'\n",
              "            + ' to learn more about interactive tables.';\n",
              "          element.innerHTML = '';\n",
              "          dataTable['output_type'] = 'display_data';\n",
              "          await google.colab.output.renderOutput(dataTable, element);\n",
              "          const docLink = document.createElement('div');\n",
              "          docLink.innerHTML = docLinkHtml;\n",
              "          element.appendChild(docLink);\n",
              "        }\n",
              "      </script>\n",
              "    </div>\n",
              "  </div>\n",
              "  "
            ]
          },
          "metadata": {},
          "execution_count": 23
        }
      ]
    },
    {
      "cell_type": "code",
      "source": [
        "tokenizer = Tokenizer()\n",
        "tokenizer.fit_on_texts(clean_train_reviews)\n",
        "text_sequences = tokenizer.texts_to_sequences(clean_train_reviews) #텍스트 속 단어들을 인덱스 벡터로 변환"
      ],
      "metadata": {
        "id": "tXuxG8i128V8"
      },
      "execution_count": 24,
      "outputs": []
    },
    {
      "cell_type": "code",
      "source": [
        "word_vocab = tokenizer.word_index #단어 사전을 통해 무슨 단어가 어떤 인덱스로 저장되었는 지 확인\n",
        "word_vocab[\"<PAD>\"] = 0 #단어 사전에 패딩 값 추가\n"
      ],
      "metadata": {
        "id": "IAYDt6kd3HWJ"
      },
      "execution_count": 95,
      "outputs": []
    },
    {
      "cell_type": "code",
      "source": [
        "data_configs = {} #데이터에 대한 정보를 사전으로 dict로 저장\n",
        "data_configs['vocab'] = word_vocab\n",
        "data_configs['vocab_size'] = len(word_vocab)"
      ],
      "metadata": {
        "id": "wsyyKs8N4aTI"
      },
      "execution_count": 26,
      "outputs": []
    },
    {
      "cell_type": "code",
      "source": [
        "#패딩 처리하기\n",
        "MAX_SEQUENCE_LENGTH = 174 #문장 최대 길이, 데이터 문장 길이의 중간값\n",
        "train_inputs = pad_sequences(text_sequences, maxlen = MAX_SEQUENCE_LENGTH, padding = 'post') #padding = 'post' 뒤를 0으로 패딩(기본값은 앞)\n",
        "print('Shape of Data: {}'.format(train_inputs.shape))"
      ],
      "metadata": {
        "id": "1aSixWnj4hUV",
        "colab": {
          "base_uri": "https://localhost:8080/"
        },
        "outputId": "5b4e1869-9941-47cd-8ff6-7cbc5f594ba4"
      },
      "execution_count": 27,
      "outputs": [
        {
          "output_type": "stream",
          "name": "stdout",
          "text": [
            "Shape of Data: (25000, 174)\n"
          ]
        }
      ]
    },
    {
      "cell_type": "code",
      "source": [
        "train_labels = np.array(train_data['sentiment'])\n",
        "print('Shape of Label Tensor: {}'.format(train_labels.shape))"
      ],
      "metadata": {
        "id": "ytq3IfKFAfl1",
        "colab": {
          "base_uri": "https://localhost:8080/"
        },
        "outputId": "99c061c3-a0a4-4b88-a506-90757e79b75f"
      },
      "execution_count": 28,
      "outputs": [
        {
          "output_type": "stream",
          "name": "stdout",
          "text": [
            "Shape of Label Tensor: (25000,)\n"
          ]
        }
      ]
    },
    {
      "cell_type": "code",
      "source": [
        "#데이터 저장하기\n",
        "DATA_IN_PATH = './data_in/'\n",
        "TRAIN_INPUT_DATA = 'train_input.npy'\n",
        "TRAIN_LABEL_DATA = 'train_label.npy'\n",
        "TRAIN_CLEAN_DATA = 'train_clean.csv'\n",
        "DATA_CONFIGS = 'data_configs.json'\n",
        "\n",
        "np.save(open(DATA_IN_PATH + TRAIN_INPUT_DATA, 'wb'), train_inputs)\n",
        "np.save(open(DATA_IN_PATH + TRAIN_LABEL_DATA, 'wb'), train_labels)\n",
        "clean_train_df.to_csv(DATA_IN_PATH + TRAIN_CLEAN_DATA, index = False)\n",
        "json.dump(data_configs, open(DATA_IN_PATH + DATA_CONFIGS, 'w'), ensure_ascii= False)"
      ],
      "metadata": {
        "id": "96a_PoGRA1PO"
      },
      "execution_count": 29,
      "outputs": []
    },
    {
      "cell_type": "code",
      "source": [
        "#테스트 데이터 전처리\n",
        "test_data = pd.read_csv(DATA_IN_PATH + 'testData.tsv', header = 0, delimiter ='\\t', quoting = 3)\n",
        "\n",
        "clean_test_reviews = []\n",
        "for reviews in test_data['review']:\n",
        "  clean_test_reviews.append(preprocessing(review, remove_stopwords = True))\n",
        "clean_test_df = pd.DataFrame({'review':clean_test_reviews, 'id': test_data['id']})\n",
        "test_id = np.array(test_data['id'])\n",
        "\n",
        "text_sequences = tokenizer.texts_to_sequences(clean_test_reviews)\n",
        "test_inputs = pad_sequences(text_sequences, maxlen = MAX_SEQUENCE_LENGTH, padding = 'post')"
      ],
      "metadata": {
        "id": "I5yuOoU8CTPR"
      },
      "execution_count": 30,
      "outputs": []
    },
    {
      "cell_type": "code",
      "source": [
        "#테스트 데이터 저장하기\n",
        "TEST_INPUT_DATA = 'test_input.npy'\n",
        "TEST_CLEAN_DATA = 'test_clean.csv'\n",
        "TEST_ID_DATA = 'test_id.npy'\n",
        "\n",
        "np.save(open(DATA_IN_PATH + TEST_INPUT_DATA, 'wb'), test_inputs)\n",
        "np.save(open(DATA_IN_PATH + TEST_ID_DATA, 'wb'), test_id)\n",
        "clean_test_df.to_csv(DATA_IN_PATH + TEST_CLEAN_DATA, index = False)"
      ],
      "metadata": {
        "id": "vLtt9A32rd2x"
      },
      "execution_count": 31,
      "outputs": []
    },
    {
      "cell_type": "markdown",
      "source": [
        "## **□머신러닝 모델**"
      ],
      "metadata": {
        "id": "_8Bxsgd-sV9Q"
      }
    },
    {
      "cell_type": "markdown",
      "source": [
        "### **Linear Regression Model**\n",
        "\n",
        "---"
      ],
      "metadata": {
        "id": "HQq-UJ3ks0CP"
      }
    },
    {
      "cell_type": "code",
      "source": [
        "reviews = list(train_data['review'])\n",
        "sentiments = list(train_data['sentiment'])\n"
      ],
      "metadata": {
        "id": "NVjuu7KfsVPO"
      },
      "execution_count": 32,
      "outputs": []
    },
    {
      "cell_type": "code",
      "source": [
        "#TF-IDF vectorization\n",
        "from sklearn.feature_extraction.text import TfidfVectorizer\n",
        "\n",
        "vectorizer = TfidfVectorizer(min_df = 0.0 , analyzer = 'char', sublinear_tf = True, ngram_range = (1,3), max_features = 5000)\n",
        "#analyzer: 분석단위 char or word / sublinear_tf: 빈도수 스무딩 여부 / ngram_range: 빈도의 기본단위에 대한 ngram 범위\n",
        "\n",
        "X = vectorizer.fit_transform(reviews)"
      ],
      "metadata": {
        "id": "2NSIqsHjxTeL"
      },
      "execution_count": 33,
      "outputs": []
    },
    {
      "cell_type": "code",
      "source": [
        "from sklearn.model_selection import train_test_split\n",
        "RANDOM_SEED = 55\n",
        "TEST_SPLIT = 0.2\n",
        "\n",
        "y = np.array(sentiments)\n",
        "\n",
        "X_train, X_eval, y_train, y_eval = train_test_split(X, y, test_size = TEST_SPLIT, random_state = RANDOM_SEED)"
      ],
      "metadata": {
        "id": "hCKLe0styWRr"
      },
      "execution_count": 34,
      "outputs": []
    },
    {
      "cell_type": "code",
      "source": [
        "from sklearn.linear_model import LogisticRegression\n",
        "\n",
        "lgs = LogisticRegression(class_weight = 'balanced')\n",
        "lgs.fit(X_train, y_train)"
      ],
      "metadata": {
        "id": "UD-4_l9DycSE",
        "colab": {
          "base_uri": "https://localhost:8080/"
        },
        "outputId": "5645e724-0d10-456e-b5cb-d533ef59d07a"
      },
      "execution_count": 35,
      "outputs": [
        {
          "output_type": "stream",
          "name": "stderr",
          "text": [
            "/usr/local/lib/python3.8/dist-packages/sklearn/linear_model/_logistic.py:814: ConvergenceWarning: lbfgs failed to converge (status=1):\n",
            "STOP: TOTAL NO. of ITERATIONS REACHED LIMIT.\n",
            "\n",
            "Increase the number of iterations (max_iter) or scale the data as shown in:\n",
            "    https://scikit-learn.org/stable/modules/preprocessing.html\n",
            "Please also refer to the documentation for alternative solver options:\n",
            "    https://scikit-learn.org/stable/modules/linear_model.html#logistic-regression\n",
            "  n_iter_i = _check_optimize_result(\n"
          ]
        },
        {
          "output_type": "execute_result",
          "data": {
            "text/plain": [
              "LogisticRegression(class_weight='balanced')"
            ]
          },
          "metadata": {},
          "execution_count": 35
        }
      ]
    },
    {
      "cell_type": "code",
      "source": [
        "print(\"Accuracy: %f\" %lgs.score(X_eval, y_eval))"
      ],
      "metadata": {
        "id": "TXSzs4fG0klg",
        "colab": {
          "base_uri": "https://localhost:8080/"
        },
        "outputId": "7047f753-3083-4438-88f5-d952d424f976"
      },
      "execution_count": 36,
      "outputs": [
        {
          "output_type": "stream",
          "name": "stdout",
          "text": [
            "Accuracy: 0.859600\n"
          ]
        }
      ]
    },
    {
      "cell_type": "code",
      "source": [
        "testDataVecs = vectorizer.transform(test_data['review']) #평가 데이터는 fit 하지 않고 transform만 호출. fit은 test 데이터에 맞게 설정된 상태\n",
        "\n",
        "test_predicted = lgs.predict(testDataVecs)\n",
        "test_predicted"
      ],
      "metadata": {
        "id": "ZSIZkq4g1AGK",
        "colab": {
          "base_uri": "https://localhost:8080/"
        },
        "outputId": "9a24a363-af64-499f-ecd1-7a7dca1cbe6a"
      },
      "execution_count": 37,
      "outputs": [
        {
          "output_type": "execute_result",
          "data": {
            "text/plain": [
              "array([1, 0, 0, ..., 0, 1, 1])"
            ]
          },
          "metadata": {},
          "execution_count": 37
        }
      ]
    },
    {
      "cell_type": "code",
      "source": [
        "DATA_OUT_PATH = './data_out/'\n",
        "\n",
        "if not os.path.exists(DATA_OUT_PATH):\n",
        "  os.makedirs(DATA_OUT_PATH)\n",
        "\n",
        "ids = list(test_data['id'])\n",
        "answer_dataset = pd.DataFrame({'id': ids, 'sentiment' : test_predicted})\n",
        "answer_dataset.to_csv(DATA_OUT_PATH + 'lgs_tfidf_answer.csv', index = False, quoting = 3)"
      ],
      "metadata": {
        "id": "0XPUM2wT29f0"
      },
      "execution_count": 38,
      "outputs": []
    },
    {
      "cell_type": "markdown",
      "source": [
        "### **word2vec Model**\n",
        "---\n",
        "\n"
      ],
      "metadata": {
        "id": "30xMiupP76I5"
      }
    },
    {
      "cell_type": "code",
      "source": [
        "train_data = pd.read_csv(DATA_IN_PATH +  TRAIN_CLEAN_DATA)\n",
        "\n",
        "reviews = list(train_data['review'])\n",
        "sentiments = list(train_data['sentiment'])\n",
        "\n",
        "sentences = []\n",
        "for review in reviews:\n",
        "  sentences.append(review.split())"
      ],
      "metadata": {
        "id": "SfAX60bE8lLI"
      },
      "execution_count": 39,
      "outputs": []
    },
    {
      "cell_type": "code",
      "source": [
        "#하이퍼 파라미터 설정\n",
        "num_features = 300\n",
        "min_word_count = 40\n",
        "num_workers = 4\n",
        "context = 10\n",
        "downsampling = 1e-3 #0.001"
      ],
      "metadata": {
        "id": "T2BVJMo4D4id"
      },
      "execution_count": 40,
      "outputs": []
    },
    {
      "cell_type": "code",
      "source": [
        "from gensim.models import word2vec\n",
        "import logging\n",
        "logging.basicConfig(format = '%(asctime)s : %(levelname)s : %(message)s',\n",
        "                    level = logging.INFO)"
      ],
      "metadata": {
        "id": "AYWYVXMeEJxx"
      },
      "execution_count": 41,
      "outputs": []
    },
    {
      "cell_type": "code",
      "source": [
        "print('Training model...')\n",
        "model = word2vec.Word2Vec(sentences,\n",
        "                          workers = num_workers,\n",
        "                          size = num_features,\n",
        "                          min_count = min_word_count,\n",
        "                          window = context,\n",
        "                          sample = downsampling)"
      ],
      "metadata": {
        "id": "XmRrjdhxEqfN",
        "colab": {
          "base_uri": "https://localhost:8080/"
        },
        "outputId": "decb3d4a-964e-4cbf-ab64-0a354a59542e"
      },
      "execution_count": 42,
      "outputs": [
        {
          "output_type": "stream",
          "name": "stdout",
          "text": [
            "Training model...\n"
          ]
        }
      ]
    },
    {
      "cell_type": "code",
      "source": [
        "model_name = \"300features_40minwords_10context\"\n",
        "model.save(model_name)"
      ],
      "metadata": {
        "id": "u7qQOHgCiori"
      },
      "execution_count": 43,
      "outputs": []
    },
    {
      "cell_type": "code",
      "source": [
        "def get_features(words, model, num_features):\n",
        "  #출력 벡터 초기화\n",
        "  feature_vector = np.zeros((num_features), dtype = np.float32)\n",
        "\n",
        "  num_words = 0\n",
        "  #어휘사전 준비\n",
        "  index2word_set = set(model.wv.index2word)\n",
        "\n",
        "  for w in words:\n",
        "    if w in index2word_set:\n",
        "      num_words += 1\n",
        "      feature_vector = np.add(feature_vector, model[w])\n",
        "    \n",
        "  feature_vector = np.divide(feature_vector, num_words)\n",
        "  return feature_vector\n"
      ],
      "metadata": {
        "id": "P-54Q5IOixeE"
      },
      "execution_count": 44,
      "outputs": []
    },
    {
      "cell_type": "code",
      "source": [
        "def get_dataset(reviews, model, num_features):\n",
        "  dataset = list()\n",
        "\n",
        "  for s in reviews:\n",
        "    dataset.append(get_features(s, model, num_features))\n",
        "  \n",
        "  reviewFeatureVecs = np.stack(dataset)\n",
        "\n",
        "  return reviewFeatureVecs"
      ],
      "metadata": {
        "id": "-uiAxLU_k5Jy"
      },
      "execution_count": 45,
      "outputs": []
    },
    {
      "cell_type": "code",
      "source": [
        "test_data_vecs = get_dataset(sentences, model, num_features)"
      ],
      "metadata": {
        "id": "0MYHfH_zmYvx",
        "colab": {
          "base_uri": "https://localhost:8080/"
        },
        "outputId": "4a0e496f-ef45-4340-ccac-67ea83c47348"
      },
      "execution_count": 46,
      "outputs": [
        {
          "output_type": "stream",
          "name": "stderr",
          "text": [
            "<ipython-input-44-40d8095e85c6>:12: DeprecationWarning: Call to deprecated `__getitem__` (Method will be removed in 4.0.0, use self.wv.__getitem__() instead).\n",
            "  feature_vector = np.add(feature_vector, model[w])\n"
          ]
        }
      ]
    },
    {
      "cell_type": "code",
      "source": [
        "#학습/검증 데이터셋 분리\n",
        "\n",
        "from sklearn.model_selection import train_test_split\n",
        "\n",
        "X = test_data_vecs\n",
        "y = np.array(sentiments)\n",
        "\n",
        "RANDOM_SEED = 42\n",
        "TEST_SPLIT = 0.2\n",
        "\n",
        "X_train, X_eval, y_train, y_eval = train_test_split(X,y,test_size = TEST_SPLIT, random_state = RANDOM_SEED)\n"
      ],
      "metadata": {
        "id": "_p9vJNvambOd"
      },
      "execution_count": 47,
      "outputs": []
    },
    {
      "cell_type": "code",
      "source": [
        "from sklearn.linear_model import LogisticRegression\n",
        "lgs = LogisticRegression(class_weight = 'balanced')\n",
        "lgs.fit(X_train, y_train)\n",
        "\n",
        "print(\"Accuracy: %f\" %lgs.score(X_eval, y_eval))"
      ],
      "metadata": {
        "id": "hk_VfOqzn_Ea",
        "colab": {
          "base_uri": "https://localhost:8080/"
        },
        "outputId": "866a6730-bc60-4c55-f58d-7a218aba140b"
      },
      "execution_count": 48,
      "outputs": [
        {
          "output_type": "stream",
          "name": "stdout",
          "text": [
            "Accuracy: 0.863400\n"
          ]
        },
        {
          "output_type": "stream",
          "name": "stderr",
          "text": [
            "/usr/local/lib/python3.8/dist-packages/sklearn/linear_model/_logistic.py:814: ConvergenceWarning: lbfgs failed to converge (status=1):\n",
            "STOP: TOTAL NO. of ITERATIONS REACHED LIMIT.\n",
            "\n",
            "Increase the number of iterations (max_iter) or scale the data as shown in:\n",
            "    https://scikit-learn.org/stable/modules/preprocessing.html\n",
            "Please also refer to the documentation for alternative solver options:\n",
            "    https://scikit-learn.org/stable/modules/linear_model.html#logistic-regression\n",
            "  n_iter_i = _check_optimize_result(\n"
          ]
        }
      ]
    },
    {
      "cell_type": "code",
      "source": [
        "TEST_CLEAN_DATA = 'test_clean.csv'\n",
        "test_data = pd.read_csv(DATA_IN_PATH + TEST_CLEAN_DATA)\n",
        "test_review = list(test_data['review'])"
      ],
      "metadata": {
        "id": "sZAb0QqqqKQO"
      },
      "execution_count": 49,
      "outputs": []
    },
    {
      "cell_type": "code",
      "source": [
        "test_sentences = []\n",
        "for review in test_review:\n",
        "  test_sentences.append(review.split())\n",
        "\n",
        "test_data_vecs = get_dataset(test_sentences, model, num_features)"
      ],
      "metadata": {
        "id": "nv1VlzK6qcR2",
        "colab": {
          "base_uri": "https://localhost:8080/"
        },
        "outputId": "9ace5a05-1bef-4d3b-82d8-f4a08b9ef6d3"
      },
      "execution_count": 50,
      "outputs": [
        {
          "output_type": "stream",
          "name": "stderr",
          "text": [
            "<ipython-input-44-40d8095e85c6>:12: DeprecationWarning: Call to deprecated `__getitem__` (Method will be removed in 4.0.0, use self.wv.__getitem__() instead).\n",
            "  feature_vector = np.add(feature_vector, model[w])\n"
          ]
        }
      ]
    },
    {
      "cell_type": "code",
      "source": [
        "DATA_OUT_PATH = './data_out/'\n",
        "test_predicted = lgs.predict(test_data_vecs)\n",
        "\n",
        "if not os.path.exists(DATA_OUT_PATH):\n",
        "  os.makedirs(DATA_OUT_PATH)\n",
        "\n",
        "ids = list(test_data['id'])\n",
        "answer_dataset = pd.DataFrame({'id': ids, 'sentiment' : test_predicted})\n",
        "answer_dataset.to_csv(DATA_OUT_PATH  + 'lgs_w2v_answer.csv', index = False, quoting = 3)"
      ],
      "metadata": {
        "id": "XrXglvXoq4h1"
      },
      "execution_count": 51,
      "outputs": []
    },
    {
      "cell_type": "markdown",
      "source": [
        "### **Random Forest Model**\n",
        "\n",
        "---"
      ],
      "metadata": {
        "id": "pjQY1q7jt_6y"
      }
    },
    {
      "cell_type": "code",
      "source": [
        "#CountVectorizer 이용하여 벡터화\n",
        "DATA_IN_PATH ='./data_in/'\n",
        "TRAIN_CLEAN_DATA =  'train_clean.csv'\n",
        "\n",
        "train_data = pd.read_csv(DATA_IN_PATH + TRAIN_CLEAN_DATA)\n",
        "reviews = list(train_data['review'])\n",
        "y = np.array(train_data['sentiment'])\n",
        "\n",
        "from sklearn.feature_extraction.text import CountVectorizer\n",
        "vectorizer = CountVectorizer(analyzer = \"word\", max_features = 5000)\n",
        "train_data_features = vectorizer.fit_transform(reviews)"
      ],
      "metadata": {
        "id": "7075uJLquWgt"
      },
      "execution_count": 52,
      "outputs": []
    },
    {
      "cell_type": "code",
      "source": [
        "train_data_features"
      ],
      "metadata": {
        "id": "Df0iUtKezHRa",
        "colab": {
          "base_uri": "https://localhost:8080/"
        },
        "outputId": "0621e7fb-db93-4da9-979d-93946a5fd0a8"
      },
      "execution_count": 53,
      "outputs": [
        {
          "output_type": "execute_result",
          "data": {
            "text/plain": [
              "<25000x5000 sparse matrix of type '<class 'numpy.int64'>'\n",
              "\twith 1975048 stored elements in Compressed Sparse Row format>"
            ]
          },
          "metadata": {},
          "execution_count": 53
        }
      ]
    },
    {
      "cell_type": "code",
      "source": [
        "#학습/검증 데이터셋 분리\n",
        "TEST_SIZE = 0.2\n",
        "RANDOM_SEED = 42\n",
        "train_input, eval_input, train_label, eval_label = train_test_split(train_data_features, y,\n",
        "                                                                    test_size = TEST_SIZE, random_state = RANDOM_SEED)"
      ],
      "metadata": {
        "id": "10ekP6mUzPG7"
      },
      "execution_count": 54,
      "outputs": []
    },
    {
      "cell_type": "code",
      "source": [
        "#모델 구현\n",
        "from sklearn.ensemble import RandomForestClassifier\n",
        "\n",
        "forest = RandomForestClassifier(n_estimators = 100) # 트리 개수 설정\n",
        "\n",
        "forest.fit(train_input, train_label)\n",
        "#평가\n",
        "print('Accuracy: %f' %forest.score(eval_input,eval_label))"
      ],
      "metadata": {
        "id": "gTvfyRrX0AtG",
        "colab": {
          "base_uri": "https://localhost:8080/"
        },
        "outputId": "affea763-9d9d-44c9-c769-32f313c51e92"
      },
      "execution_count": 55,
      "outputs": [
        {
          "output_type": "stream",
          "name": "stdout",
          "text": [
            "Accuracy: 0.843800\n"
          ]
        }
      ]
    },
    {
      "cell_type": "code",
      "source": [
        "#평가 데이터 벡터라이징\n",
        "TEST_CLEAN_DATA = 'test_clean.csv'\n",
        "DATA_OUT_PATH = './data_out/'\n",
        "\n",
        "test_data = pd.read_csv(DATA_IN_PATH + TEST_CLEAN_DATA)\n",
        "\n",
        "test_reviews = list(test_data['review'])\n",
        "ids = list(test_data['id'])\n",
        "\n",
        "test_data_features = vectorizer.transform(test_reviews)"
      ],
      "metadata": {
        "id": "uGmGCNqY063g"
      },
      "execution_count": 56,
      "outputs": []
    },
    {
      "cell_type": "code",
      "source": [
        "result = forest.predict(test_data_features)\n",
        "\n",
        "output = pd.DataFrame(data={'id' : ids, 'sentiment' : result})\n",
        "output.to_csv(DATA_OUT_PATH + \"Bag_of_Words_model.csv\", index = False, quoting = 3)"
      ],
      "metadata": {
        "id": "FG8d9wcN1fDX"
      },
      "execution_count": 57,
      "outputs": []
    },
    {
      "cell_type": "markdown",
      "source": [
        "## **□딥러닝 모델**"
      ],
      "metadata": {
        "id": "hmmP5xyD2diY"
      }
    },
    {
      "cell_type": "markdown",
      "source": [
        "### **Recurrent Neural Network**\n",
        "---"
      ],
      "metadata": {
        "id": "EXsaJKp23HzI"
      }
    },
    {
      "cell_type": "code",
      "source": [
        "#시드 고정\n",
        "SEED_NUM = 1234\n",
        "tf.random.set_seed(SEED_NUM)"
      ],
      "metadata": {
        "id": "trFjVE3j3TL2"
      },
      "execution_count": 58,
      "outputs": []
    },
    {
      "cell_type": "code",
      "source": [
        "#데이터 불러오기\n",
        "DATA_IN_PATH = './data_in/'\n",
        "DATA_OUT_PATH = './data_out/'\n",
        "TRAIN_INPUT_DATA = 'train_input.npy'\n",
        "TRAIN_LABEL_DATA = 'train_label.npy'\n",
        "DATA_CONFIGS = 'data_configs.json'\n",
        "\n",
        "train_input = np.load(open(DATA_IN_PATH + TRAIN_INPUT_DATA, 'rb'))\n",
        "train_input = pad_sequences(train_input, maxlen= train_input.shape[1])\n",
        "train_label = np.load(open(DATA_IN_PATH + TRAIN_LABEL_DATA, 'rb'))\n",
        "prepro_configs = json.load(open(DATA_IN_PATH + DATA_CONFIGS, 'r'))"
      ],
      "metadata": {
        "id": "xwQN_P1p3TFf"
      },
      "execution_count": 59,
      "outputs": []
    },
    {
      "cell_type": "code",
      "source": [
        "#하이퍼파라미터\n",
        "model_name = 'rnn_classifier_en'\n",
        "BATCH_SIZE = 128\n",
        "NUM_EPOCHS = 5\n",
        "VALID_SPLIT = 0.1\n",
        "MAX_LEN = train_input.shape[1]\n",
        "\n",
        "kargs = {'model_name': model_name,\n",
        "         'vocab_size': prepro_configs['vocab_size'],\n",
        "         'embedding_dimension': 100,\n",
        "         'dropout_rate':  0.2,\n",
        "         'lstm_dimension': 150,\n",
        "         'dense_dimension': 150,\n",
        "         'output_dimension': 1}"
      ],
      "metadata": {
        "id": "lmfCzIel3MiT"
      },
      "execution_count": 60,
      "outputs": []
    },
    {
      "cell_type": "code",
      "source": [
        "#subclassing 기법 활용 모델 구현\n",
        "class RNNClassifier(tf.keras.Model):\n",
        "  def __init__(self, **kargs):\n",
        "    super(RNNClassifier,self).__init__(name=kargs['model_name'])\n",
        "    self.embedding = tf.keras.layers.Embedding(input_dim=kargs['vocab_size'],\n",
        "                                      output_dim=kargs['embedding_dimension'])\n",
        "    self.lstm1_layer = tf.keras.layers.LSTM(kargs['lstm_dimension'], return_sequences = True)\n",
        "    self.lstm2_layer = tf.keras.layers.LSTM(kargs['lstm_dimension'])\n",
        "    self.dropout = tf.keras.layers.Dropout(kargs['dropout_rate'])\n",
        "    self.fc1 = tf.keras.layers.Dense(units=kargs['dense_dimension'], activation = tf.keras.activations.tanh)\n",
        "    self.fc2 = tf.keras.layers.Dense(units=kargs['output_dimension'], activation = tf.keras.activations.sigmoid)\n",
        "  \n",
        "  def call(self,x):\n",
        "    x = self.embedding(x)\n",
        "    x = self.dropout(x)\n",
        "    x = self.lstm1_layer(x)\n",
        "    x = self.lstm2_layer(x)\n",
        "    x = self.dropout(x)\n",
        "    x = self.fc1(x)\n",
        "    x = self.dropout(x)\n",
        "    x = self.fc2(x)\n",
        "\n",
        "    return x"
      ],
      "metadata": {
        "id": "JQ0oWxHTytNU"
      },
      "execution_count": 61,
      "outputs": []
    },
    {
      "cell_type": "code",
      "source": [
        "model = RNNClassifier(**kargs)\n",
        "model.compile(optimizer = tf.keras.optimizers.Adam(1e-4),\n",
        "              loss = tf.keras.losses.BinaryCrossentropy(),\n",
        "              metrics = [tf.keras.metrics.BinaryAccuracy(name = 'accuracy')])"
      ],
      "metadata": {
        "id": "y-sic3Gk0rPS"
      },
      "execution_count": 62,
      "outputs": []
    },
    {
      "cell_type": "code",
      "source": [
        "earlystop_callback = tf.keras.callbacks.EarlyStopping(monitor = 'val_accuaracy', min_delta = 0.0001, patience = 2)\n",
        "checkpoint_path = DATA_OUT_PATH + model_name + '/weights.h5'\n",
        "checkpoint_dir = os.path.dirname(checkpoint_path)\n",
        "\n",
        "if os.path.exists(checkpoint_dir):\n",
        "  print(\"{} -- Folder already exists \\n\".format(checkpoint_dir))\n",
        "else:\n",
        "  os.makedirs(checkpoint_dir, exist_ok = True)\n",
        "  print(\"{} -- Foler creation complete \\n\".format(checkpoint_dir))\n",
        "\n",
        "cp_callback = tf.keras.callbacks.ModelCheckpoint(\n",
        "    checkpoint_path, monitor = 'val_accuracy', verbose = 1, save_best_only = True, save_weights_only = True)"
      ],
      "metadata": {
        "colab": {
          "base_uri": "https://localhost:8080/"
        },
        "id": "bnDEWTlU3Ah5",
        "outputId": "96073382-0138-4921-f79d-baf8bec77d0c"
      },
      "execution_count": 63,
      "outputs": [
        {
          "output_type": "stream",
          "name": "stdout",
          "text": [
            "./data_out/rnn_classifier_en -- Foler creation complete \n",
            "\n"
          ]
        }
      ]
    },
    {
      "cell_type": "code",
      "source": [
        "history = model.fit(train_input, train_label, batch_size = BATCH_SIZE, epochs = NUM_EPOCHS,validation_split = VALID_SPLIT, callbacks = [earlystop_callback, cp_callback])"
      ],
      "metadata": {
        "colab": {
          "base_uri": "https://localhost:8080/"
        },
        "id": "JeWI3uWy2nny",
        "outputId": "67074c82-9dc3-4310-c1a7-3035957a28cc"
      },
      "execution_count": 64,
      "outputs": [
        {
          "output_type": "stream",
          "name": "stdout",
          "text": [
            "Epoch 1/5\n",
            "176/176 [==============================] - ETA: 0s - loss: 0.6931 - accuracy: 0.5053"
          ]
        },
        {
          "output_type": "stream",
          "name": "stderr",
          "text": [
            "WARNING:tensorflow:Early stopping conditioned on metric `val_accuaracy` which is not available. Available metrics are: loss,accuracy,val_loss,val_accuracy\n"
          ]
        },
        {
          "output_type": "stream",
          "name": "stdout",
          "text": [
            "\n",
            "Epoch 1: val_accuracy improved from -inf to 0.50960, saving model to ./data_out/rnn_classifier_en/weights.h5\n",
            "176/176 [==============================] - 15s 41ms/step - loss: 0.6931 - accuracy: 0.5053 - val_loss: 0.6929 - val_accuracy: 0.5096\n",
            "Epoch 2/5\n",
            "175/176 [============================>.] - ETA: 0s - loss: 0.6813 - accuracy: 0.5334"
          ]
        },
        {
          "output_type": "stream",
          "name": "stderr",
          "text": [
            "WARNING:tensorflow:Early stopping conditioned on metric `val_accuaracy` which is not available. Available metrics are: loss,accuracy,val_loss,val_accuracy\n"
          ]
        },
        {
          "output_type": "stream",
          "name": "stdout",
          "text": [
            "\n",
            "Epoch 2: val_accuracy improved from 0.50960 to 0.75760, saving model to ./data_out/rnn_classifier_en/weights.h5\n",
            "176/176 [==============================] - 6s 37ms/step - loss: 0.6805 - accuracy: 0.5345 - val_loss: 0.4860 - val_accuracy: 0.7576\n",
            "Epoch 3/5\n",
            "175/176 [============================>.] - ETA: 0s - loss: 0.3411 - accuracy: 0.8564"
          ]
        },
        {
          "output_type": "stream",
          "name": "stderr",
          "text": [
            "WARNING:tensorflow:Early stopping conditioned on metric `val_accuaracy` which is not available. Available metrics are: loss,accuracy,val_loss,val_accuracy\n"
          ]
        },
        {
          "output_type": "stream",
          "name": "stdout",
          "text": [
            "\n",
            "Epoch 3: val_accuracy improved from 0.75760 to 0.88440, saving model to ./data_out/rnn_classifier_en/weights.h5\n",
            "176/176 [==============================] - 7s 40ms/step - loss: 0.3408 - accuracy: 0.8566 - val_loss: 0.2773 - val_accuracy: 0.8844\n",
            "Epoch 4/5\n",
            "175/176 [============================>.] - ETA: 0s - loss: 0.1876 - accuracy: 0.9304"
          ]
        },
        {
          "output_type": "stream",
          "name": "stderr",
          "text": [
            "WARNING:tensorflow:Early stopping conditioned on metric `val_accuaracy` which is not available. Available metrics are: loss,accuracy,val_loss,val_accuracy\n"
          ]
        },
        {
          "output_type": "stream",
          "name": "stdout",
          "text": [
            "\n",
            "Epoch 4: val_accuracy improved from 0.88440 to 0.88880, saving model to ./data_out/rnn_classifier_en/weights.h5\n",
            "176/176 [==============================] - 7s 37ms/step - loss: 0.1876 - accuracy: 0.9304 - val_loss: 0.2784 - val_accuracy: 0.8888\n",
            "Epoch 5/5\n",
            "175/176 [============================>.] - ETA: 0s - loss: 0.1292 - accuracy: 0.9576"
          ]
        },
        {
          "output_type": "stream",
          "name": "stderr",
          "text": [
            "WARNING:tensorflow:Early stopping conditioned on metric `val_accuaracy` which is not available. Available metrics are: loss,accuracy,val_loss,val_accuracy\n"
          ]
        },
        {
          "output_type": "stream",
          "name": "stdout",
          "text": [
            "\n",
            "Epoch 5: val_accuracy did not improve from 0.88880\n",
            "176/176 [==============================] - 6s 37ms/step - loss: 0.1291 - accuracy: 0.9576 - val_loss: 0.2998 - val_accuracy: 0.8872\n"
          ]
        }
      ]
    },
    {
      "cell_type": "code",
      "source": [
        "SAVE_FILE_NM = 'weights.h5'\n",
        "\n",
        "test_input = np.load(open(DATA_IN_PATH + TEST_INPUT_DATA, 'rb'))\n",
        "test_input = pad_sequences(test_input, maxlen = test_input.shape[1])\n",
        "\n",
        "model.load_weights(os.path.join(DATA_OUT_PATH, model_name, SAVE_FILE_NM))"
      ],
      "metadata": {
        "id": "xGDjZTxl6Dc6"
      },
      "execution_count": 65,
      "outputs": []
    },
    {
      "cell_type": "code",
      "source": [
        "predictions = model.predict(test_input, batch_size = BATCH_SIZE)\n",
        "predictions = predictions.squeeze(-1)\n",
        "\n",
        "test_id = np.load(open(DATA_IN_PATH + TEST_ID_DATA, 'rb'), allow_pickle = True)\n",
        "if not os.path.exists(DATA_OUT_PATH):\n",
        "  os.makedirs(DATA_OUT_PATH)\n",
        "\n",
        "output = pd.DataFrame(data={\"id\": list(test_id), \"sentiment\":list(predictions)})\n",
        "output.to_csv(DATA_OUT_PATH + 'movie_review_result_rnn.csv', index = False, quoting = 3)"
      ],
      "metadata": {
        "colab": {
          "base_uri": "https://localhost:8080/"
        },
        "id": "ET2-AjCm6tJm",
        "outputId": "f864b735-4911-4426-cddf-17dbc4a711be"
      },
      "execution_count": 66,
      "outputs": [
        {
          "output_type": "stream",
          "name": "stdout",
          "text": [
            "196/196 [==============================] - 3s 12ms/step\n"
          ]
        }
      ]
    },
    {
      "cell_type": "markdown",
      "source": [
        "### **Convolutional Neural Network** ###"
      ],
      "metadata": {
        "id": "TklEfynqxslY"
      }
    },
    {
      "cell_type": "code",
      "source": [
        "#데이터 불러오기\n",
        "DATA_IN_PATH = './data_in/'\n",
        "DATA_OUT_PATH = './data_out/'\n",
        "TRAIN_INPUT_DATA = 'train_input.npy'\n",
        "TRAIN_LABEL_DATA = 'train_label.npy'\n",
        "DATA_CONFIGS = 'data_configs.json'\n",
        "\n",
        "train_input = np.load(open(DATA_IN_PATH + TRAIN_INPUT_DATA, 'rb'))\n",
        "train_label = np.load(open(DATA_IN_PATH + TRAIN_LABEL_DATA, 'rb'))\n",
        "prepro_configs = prepro_configs = json.load(open(DATA_IN_PATH + DATA_CONFIGS, 'r'))"
      ],
      "metadata": {
        "id": "XpVl8bSa0ZTh"
      },
      "execution_count": 67,
      "outputs": []
    },
    {
      "cell_type": "code",
      "source": [
        "SEED_NUM = 1234\n",
        "tf.random.set_seed(SEED_NUM)"
      ],
      "metadata": {
        "id": "B_6Zs6SfBMBQ"
      },
      "execution_count": 68,
      "outputs": []
    },
    {
      "cell_type": "code",
      "source": [
        "\n",
        "import tensorflow as tf\n",
        "from tensorflow.keras.preprocessing.sequence import pad_sequences\n",
        "from tensorflow.keras.callbacks import EarlyStopping, ModelCheckpoint\n",
        "from tensorflow.keras import layers\n",
        "\n",
        "import numpy as np\n",
        "import pandas as pd\n",
        "\n",
        "import matplotlib.pyplot as plt\n",
        "\n",
        "import os\n",
        "import json\n",
        "\n",
        "from tqdm import tqdm\n"
      ],
      "metadata": {
        "id": "7vCscidBAlex"
      },
      "execution_count": 69,
      "outputs": []
    },
    {
      "cell_type": "code",
      "source": [
        "def plot_graphs(history, string):\n",
        "    plt.plot(history.history[string])\n",
        "    plt.plot(history.history['val_'+string], '')\n",
        "    plt.xlabel(\"Epochs\")\n",
        "    plt.ylabel(string)\n",
        "    plt.legend([string, 'val_'+string])\n",
        "    plt.show()"
      ],
      "metadata": {
        "id": "kPn9UOrmCAqr"
      },
      "execution_count": 70,
      "outputs": []
    },
    {
      "cell_type": "code",
      "source": [
        "model_name = 'cnn_classifier_en'\n",
        "BATCH_SIZE = 512\n",
        "NUM_EPOCHS = 2\n",
        "VALID_SPLIT = 0.1\n",
        "MAX_LEN = train_input.shape[1]\n",
        "\n",
        "kargs = {'model_name' : model_name,\n",
        "         'vocab_size' : prepro_configs['vocab_size'],\n",
        "         'embedding_size' : 128,\n",
        "         'num_filters' : 100,\n",
        "         'dropout_rate' : 0.5,\n",
        "         'hidden_dimension' : 250,\n",
        "         'output_dimension' : 1}\n",
        "\n",
        "class CNNClassifier(tf.keras.Model):\n",
        "    \n",
        "    def __init__(self, **kargs):\n",
        "        super(CNNClassifier, self).__init__(name=kargs['model_name'])\n",
        "        self.embedding = layers.Embedding(input_dim=kargs['vocab_size'],\n",
        "                                     output_dim=kargs['embedding_size'])\n",
        "        self.conv_list = [layers.Conv1D(filters=kargs['num_filters'],\n",
        "                                   kernel_size=kernel_size,\n",
        "                                   padding='valid',\n",
        "                                   activation=tf.keras.activations.relu,\n",
        "                                   kernel_constraint=tf.keras.constraints.MaxNorm(max_value=3.))\n",
        "                     for kernel_size in [3,4,5]]\n",
        "        self.pooling = layers.GlobalMaxPooling1D()\n",
        "        self.dropout = layers.Dropout(kargs['dropout_rate'])\n",
        "        self.fc1 = layers.Dense(units=kargs['hidden_dimension'],\n",
        "                           activation=tf.keras.activations.relu,\n",
        "                           kernel_constraint=tf.keras.constraints.MaxNorm(max_value=3.))\n",
        "        self.fc2 = layers.Dense(units=kargs['output_dimension'],\n",
        "                           activation=tf.keras.activations.sigmoid,\n",
        "                           kernel_constraint=tf.keras.constraints.MaxNorm(max_value=3.))\n",
        "    \n",
        "    def call(self, x):\n",
        "        x = self.embedding(x)\n",
        "        x = self.dropout(x)\n",
        "        x = tf.concat([self.pooling(conv(x)) for conv in self.conv_list], axis=-1)\n",
        "        x = self.fc1(x)\n",
        "        x = self.fc2(x)\n",
        "        \n",
        "        return x"
      ],
      "metadata": {
        "id": "sFiiwjRqx1T0"
      },
      "execution_count": 71,
      "outputs": []
    },
    {
      "cell_type": "code",
      "source": [
        "model = CNNClassifier(**kargs)\n",
        "model.compile(optimizer = tf.keras.optimizers.Adam(1e-4),\n",
        "              loss = tf.keras.losses.BinaryCrossentropy(),\n",
        "              metrics = [tf.keras.metrics.BinaryAccuracy(name='accuracy')])"
      ],
      "metadata": {
        "id": "vTs_3uBZ7Ls-"
      },
      "execution_count": 72,
      "outputs": []
    },
    {
      "cell_type": "code",
      "source": [
        "earlystop_callback = tf.keras.callbacks.EarlyStopping(monitor = 'val_accuaracy', min_delta = 0.0001, patience = 2)\n",
        "checkpoint_path = DATA_OUT_PATH + model_name + '/weights.h5'\n",
        "checkpoint_dir = os.path.dirname(checkpoint_path)\n",
        "\n",
        "if os.path.exists(checkpoint_dir):\n",
        "  print(\"{} -- Folder already exists \\n\".format(checkpoint_dir))\n",
        "else:\n",
        "  os.makedirs(checkpoint_dir, exist_ok = True)\n",
        "  print(\"{} -- Foler creation complete \\n\".format(checkpoint_dir))\n",
        "\n",
        "cp_callback = tf.keras.callbacks.ModelCheckpoint(\n",
        "    checkpoint_path, monitor = 'val_accuracy', verbose = 1, save_best_only = True, save_weights_only = True)"
      ],
      "metadata": {
        "colab": {
          "base_uri": "https://localhost:8080/"
        },
        "id": "cQWvFjO_7HSE",
        "outputId": "c75e9165-7dfd-4ed3-d983-70bdebfc7fc3"
      },
      "execution_count": 73,
      "outputs": [
        {
          "output_type": "stream",
          "name": "stdout",
          "text": [
            "./data_out/cnn_classifier_en -- Foler creation complete \n",
            "\n"
          ]
        }
      ]
    },
    {
      "cell_type": "code",
      "source": [
        "history = model.fit(train_input, train_label, batch_size = BATCH_SIZE, epochs = NUM_EPOCHS, validation_split = VALID_SPLIT, callbacks = [earlystop_callback, cp_callback])"
      ],
      "metadata": {
        "colab": {
          "base_uri": "https://localhost:8080/"
        },
        "id": "tUnNHl5T8UZV",
        "outputId": "421726a8-b796-4378-c0af-6c55050a955c"
      },
      "execution_count": 74,
      "outputs": [
        {
          "output_type": "stream",
          "name": "stdout",
          "text": [
            "Epoch 1/2\n",
            "44/44 [==============================] - ETA: 0s - loss: 0.6938 - accuracy: 0.5073"
          ]
        },
        {
          "output_type": "stream",
          "name": "stderr",
          "text": [
            "WARNING:tensorflow:Early stopping conditioned on metric `val_accuaracy` which is not available. Available metrics are: loss,accuracy,val_loss,val_accuracy\n"
          ]
        },
        {
          "output_type": "stream",
          "name": "stdout",
          "text": [
            "\n",
            "Epoch 1: val_accuracy improved from -inf to 0.51960, saving model to ./data_out/cnn_classifier_en/weights.h5\n",
            "44/44 [==============================] - 8s 70ms/step - loss: 0.6938 - accuracy: 0.5073 - val_loss: 0.6914 - val_accuracy: 0.5196\n",
            "Epoch 2/2\n",
            "44/44 [==============================] - ETA: 0s - loss: 0.6909 - accuracy: 0.5587"
          ]
        },
        {
          "output_type": "stream",
          "name": "stderr",
          "text": [
            "WARNING:tensorflow:Early stopping conditioned on metric `val_accuaracy` which is not available. Available metrics are: loss,accuracy,val_loss,val_accuracy\n"
          ]
        },
        {
          "output_type": "stream",
          "name": "stdout",
          "text": [
            "\n",
            "Epoch 2: val_accuracy improved from 0.51960 to 0.64880, saving model to ./data_out/cnn_classifier_en/weights.h5\n",
            "44/44 [==============================] - 3s 57ms/step - loss: 0.6909 - accuracy: 0.5587 - val_loss: 0.6889 - val_accuracy: 0.6488\n"
          ]
        }
      ]
    },
    {
      "cell_type": "code",
      "source": [
        "plot_graphs(history, 'accuracy')"
      ],
      "metadata": {
        "colab": {
          "base_uri": "https://localhost:8080/",
          "height": 279
        },
        "id": "SOOUKi_vBtmQ",
        "outputId": "28353786-dbb9-4d4e-92dd-60d8f1d98fe7"
      },
      "execution_count": 75,
      "outputs": [
        {
          "output_type": "display_data",
          "data": {
            "text/plain": [
              "<Figure size 432x288 with 1 Axes>"
            ],
            "image/png": "[encoded data removed]"
          },
          "metadata": {
            "needs_background": "light"
          }
        }
      ]
    },
    {
      "cell_type": "code",
      "source": [
        "plot_graphs(history, 'loss')"
      ],
      "metadata": {
        "colab": {
          "base_uri": "https://localhost:8080/",
          "height": 283
        },
        "id": "FCOVqIcVBxfK",
        "outputId": "fde3b3ab-63b6-47f6-80ae-7ce4bec00d58"
      },
      "execution_count": 76,
      "outputs": [
        {
          "output_type": "display_data",
          "data": {
            "text/plain": [
              "<Figure size 432x288 with 1 Axes>"
            ],
            "image/png": "[encoded data removed]"
          },
          "metadata": {
            "needs_background": "light"
          }
        }
      ]
    },
    {
      "cell_type": "code",
      "source": [
        "DATA_OUT_PATH = './data_out/'\n",
        "TEST_INPUT_DATA = 'test_input.npy'\n",
        "TEST_ID_DATA = 'test_id.npy'\n",
        "\n",
        "test_input = np.load(open(DATA_IN_PATH + TEST_INPUT_DATA, 'rb'))\n",
        "test_input = pad_sequences(test_input, maxlen = test_input.shape[1])\n",
        "\n",
        "SAVE_FILE_NM = 'weights.h5'\n",
        "\n",
        "model.load_weights(os.path.join(DATA_OUT_PATH, model_name, SAVE_FILE_NM))"
      ],
      "metadata": {
        "id": "_gKNBeebCF4i"
      },
      "execution_count": 77,
      "outputs": []
    },
    {
      "cell_type": "code",
      "source": [
        "predictions = model.predict(test_input, batch_size = BATCH_SIZE)\n",
        "predictions= predictions.squeeze(-1)\n",
        "\n",
        "test_id = np.load(open(DATA_IN_PATH + TEST_ID_DATA, 'rb'), allow_pickle = True)\n",
        "\n",
        "output = pd.DataFrame(data={\"id\" : list(test_id), \"sentiment\": list(predictions)})\n",
        "output.to_csv(DATA_OUT_PATH + 'movie_review_result_cnn.csv', index = False, quoting = 3)"
      ],
      "metadata": {
        "colab": {
          "base_uri": "https://localhost:8080/"
        },
        "id": "yQ2vpY2WC3yM",
        "outputId": "2cb9d2a4-5627-45cf-d96d-c5979af20f4e"
      },
      "execution_count": 78,
      "outputs": [
        {
          "output_type": "stream",
          "name": "stdout",
          "text": [
            "49/49 [==============================] - 1s 16ms/step\n"
          ]
        }
      ]
    },
    {
      "cell_type": "markdown",
      "source": [
        "## **□한글 텍스트 분류**"
      ],
      "metadata": {
        "id": "AOT6rQzQE8FL"
      }
    },
    {
      "cell_type": "markdown",
      "source": [
        "### **데이터 다운로드 및 세팅**\n",
        "\n",
        "---\n",
        "\n"
      ],
      "metadata": {
        "id": "4NPn0ScoZhUT"
      }
    },
    {
      "cell_type": "code",
      "source": [
        "!pwd\n",
        "!git clone https://github.com/e9t/nsmc.git/\n",
        "ratings = pd.read_csv('./nsmc/ratings.txt', header = 0, delimiter = '\\t', quoting = 3)"
      ],
      "metadata": {
        "colab": {
          "base_uri": "https://localhost:8080/"
        },
        "id": "E_CFLkLvHunI",
        "outputId": "4a906d68-4e2c-4f49-d869-772477340af7"
      },
      "execution_count": 79,
      "outputs": [
        {
          "output_type": "stream",
          "name": "stdout",
          "text": [
            "/content\n",
            "Cloning into 'nsmc'...\n",
            "remote: Enumerating objects: 14763, done.\u001b[K\n",
            "remote: Total 14763 (delta 0), reused 0 (delta 0), pack-reused 14763\u001b[K\n",
            "Receiving objects: 100% (14763/14763), 56.19 MiB | 23.69 MiB/s, done.\n",
            "Resolving deltas: 100% (1749/1749), done.\n",
            "Checking out files: 100% (14737/14737), done.\n"
          ]
        }
      ]
    },
    {
      "cell_type": "code",
      "source": [
        "from sklearn.model_selection import train_test_split\n",
        "\n",
        "train_data, test_data = train_test_split(ratings, test_size=0.25)"
      ],
      "metadata": {
        "id": "d6XKGAYBJPbV"
      },
      "execution_count": 80,
      "outputs": []
    },
    {
      "cell_type": "code",
      "source": [
        "train_length = train_data['document'].astype(str).apply(len)\n",
        "plt.figure(figsize=(12,5))\n",
        "plt.hist(train_length, bins=200, alpha = 0.5, color = 'r', label = 'word')\n",
        "plt.yscale('log', nonposy='clip')\n",
        "plt.title('Log-Histogram of Length of Review')\n",
        "plt.xlabel('Length of Review')\n",
        "plt.ylabel('Number of Review')"
      ],
      "metadata": {
        "colab": {
          "base_uri": "https://localhost:8080/",
          "height": 369
        },
        "id": "i646R8nhLABx",
        "outputId": "955ee9b4-5595-45ff-cce7-e44f2fb299e1"
      },
      "execution_count": 81,
      "outputs": [
        {
          "output_type": "execute_result",
          "data": {
            "text/plain": [
              "Text(0, 0.5, 'Number of Review')"
            ]
          },
          "metadata": {},
          "execution_count": 81
        },
        {
          "output_type": "display_data",
          "data": {
            "text/plain": [
              "<Figure size 864x360 with 1 Axes>"
            ],
            "image/png": "[encoded data removed]"
          },
          "metadata": {
            "needs_background": "light"
          }
        }
      ]
    },
    {
      "cell_type": "code",
      "source": [
        "train_data['label']"
      ],
      "metadata": {
        "id": "d2MqZbsDMVT9",
        "outputId": "4b4ed097-7884-4490-cf83-4604ca55476c",
        "colab": {
          "base_uri": "https://localhost:8080/"
        }
      },
      "execution_count": 82,
      "outputs": [
        {
          "output_type": "execute_result",
          "data": {
            "text/plain": [
              "149827    0\n",
              "188508    0\n",
              "1746      1\n",
              "98825     1\n",
              "43073     1\n",
              "         ..\n",
              "30046     1\n",
              "95830     1\n",
              "30986     1\n",
              "121666    0\n",
              "136945    0\n",
              "Name: label, Length: 150000, dtype: int64"
            ]
          },
          "metadata": {},
          "execution_count": 82
        }
      ]
    },
    {
      "cell_type": "code",
      "source": [
        "!pip3 install konlpy\n"
      ],
      "metadata": {
        "colab": {
          "base_uri": "https://localhost:8080/"
        },
        "id": "CJZVe1lOG1cy",
        "outputId": "64ea24fa-02dd-469e-cf5f-888b98ba3330"
      },
      "execution_count": 83,
      "outputs": [
        {
          "output_type": "stream",
          "name": "stdout",
          "text": [
            "Looking in indexes: https://pypi.org/simple, https://us-python.pkg.dev/colab-wheels/public/simple/\n",
            "Collecting konlpy\n",
            "  Downloading konlpy-0.6.0-py2.py3-none-any.whl (19.4 MB)\n",
            "\u001b[K     |████████████████████████████████| 19.4 MB 7.6 MB/s \n",
            "\u001b[?25hCollecting JPype1>=0.7.0\n",
            "  Downloading JPype1-1.4.1-cp38-cp38-manylinux_2_12_x86_64.manylinux2010_x86_64.whl (465 kB)\n",
            "\u001b[K     |████████████████████████████████| 465 kB 72.6 MB/s \n",
            "\u001b[?25hRequirement already satisfied: numpy>=1.6 in /usr/local/lib/python3.8/dist-packages (from konlpy) (1.21.6)\n",
            "Requirement already satisfied: lxml>=4.1.0 in /usr/local/lib/python3.8/dist-packages (from konlpy) (4.9.2)\n",
            "Requirement already satisfied: packaging in /usr/local/lib/python3.8/dist-packages (from JPype1>=0.7.0->konlpy) (21.3)\n",
            "Requirement already satisfied: pyparsing!=3.0.5,>=2.0.2 in /usr/local/lib/python3.8/dist-packages (from packaging->JPype1>=0.7.0->konlpy) (3.0.9)\n",
            "Installing collected packages: JPype1, konlpy\n",
            "Successfully installed JPype1-1.4.1 konlpy-0.6.0\n"
          ]
        }
      ]
    },
    {
      "cell_type": "markdown",
      "source": [
        "### **데이터 전처리**\n",
        "---"
      ],
      "metadata": {
        "id": "D4N42jpZZq6a"
      }
    },
    {
      "cell_type": "code",
      "source": [
        "import numpy as np\n",
        "import pandas as pd\n",
        "import re\n",
        "import json\n",
        "from konlpy.tag import Okt\n",
        "from tensorflow.keras.preprocessing.sequence import pad_sequences\n",
        "from tensorflow.keras.preprocessing.text import Tokenizer\n",
        "\n",
        "def preprocessing(review,okt,remove_stopwords = False, stop_words = []):\n",
        "  review_text = re.sub(\"[^가-힣ㄱ-ㅎㅏ-ㅣ\\\\s]\", \"\", review)\n",
        "  word_review = okt.morphs(review_text, stem = True)\n",
        "\n",
        "  if remove_stopwords:\n",
        "    word_review = [token for token in word_review if not token in stop_words]\n",
        "    \n",
        "  return word_review\n",
        "\n",
        "stop_words = set(['은','는','이','하','하','아','것','들','의','있','되','수','보','주','등','한'])\n",
        "okt = Okt()\n",
        "clean_train_review = []\n",
        "\n",
        "for review in train_data['document']:\n",
        "  if type(review) == str:\n",
        "    clean_train_review.append(preprocessing(review, okt, remove_stopwords = True, stop_words = stop_words))\n",
        "  else:\n",
        "    clean_train_review.append([])\n",
        "\n",
        "clean_train_review[:4]"
      ],
      "metadata": {
        "colab": {
          "base_uri": "https://localhost:8080/"
        },
        "id": "0-4L-XRMENiM",
        "outputId": "b5a3e5c9-e822-4ac6-8ec6-0568d741f153"
      },
      "execution_count": 84,
      "outputs": [
        {
          "output_type": "execute_result",
          "data": {
            "text/plain": [
              "[['웃음', '도', '없다', '감동', '도', '없다', '게', '무슨', '영화', '야'],\n",
              " ['얼마나', '지루하다', '상상', '하다', '말르다', '그', '이상', '으로', '지루하다', '이다'],\n",
              " ['친구', '이랑', '같이', '보다', '재밌다', 'ㅋ'],\n",
              " ['전', '지금', '도', '반복', '하다', '보다', '거', '걸작', '이에요']]"
            ]
          },
          "metadata": {},
          "execution_count": 84
        }
      ]
    },
    {
      "cell_type": "code",
      "source": [
        "clean_test_review = []\n",
        "for review in test_data['document']:\n",
        "  if type(review) == str:\n",
        "    clean_test_review.append(preprocessing(review,okt,remove_stopwords = True, stop_words = stop_words))\n",
        "  else:\n",
        "      clean_test_review.append([])"
      ],
      "metadata": {
        "id": "Ub7sJMB5TuWv"
      },
      "execution_count": 85,
      "outputs": []
    },
    {
      "cell_type": "code",
      "source": [
        "tokenizer = Tokenizer()\n",
        "tokenizer.fit_on_texts(clean_train_review)\n",
        "train_sequences = tokenizer.texts_to_sequences(clean_train_review)\n",
        "test_sequences = tokenizer.texts_to_sequences(clean_test_review)\n",
        "\n",
        "word_vocab = tokenizer.word_index\n",
        "\n",
        "MAX_SEQUENCE_LENGTH = 8\n",
        "\n",
        "train_inputs = pad_sequences(train_sequences, maxlen = MAX_SEQUENCE_LENGTH, padding = 'post')\n",
        "train_labels = np.array(train_data['label'])\n",
        "test_inputs = pad_sequences(test_sequences, maxlen = MAX_SEQUENCE_LENGTH, padding = 'post')\n",
        "test_labels = np.array(test_data['label'])\n"
      ],
      "metadata": {
        "id": "U5-oQ-aCUWFl"
      },
      "execution_count": 86,
      "outputs": []
    },
    {
      "cell_type": "code",
      "source": [
        "DATA_IN_PATH = './data_in/'\n",
        "TRAIN_INPUT_DATA =  'nsmc_train_input.npy'\n",
        "TRAIN_LABEL_DATA = 'nsmc_train_label.npy'\n",
        "TEST_INPUT_DATA = 'nsmc_test_input.npy'\n",
        "TEST_LABEL_DATA = 'nsmc_test_label.npy'\n",
        "DATA_OUT_PATH = './data_out/'\n",
        "DATA_CONFIGS = 'data_configs.json'\n",
        "\n",
        "data_configs = {}\n",
        "data_configs['vocab'] = word_vocab\n",
        "data_configs['vocab_size'] = len(word_vocab)+1\n",
        "\n",
        "import os\n",
        "if not os.path.exists(DATA_IN_PATH):\n",
        "  os.makedirs(DATA_IN_PATH)\n",
        "\n",
        "np.save(open(DATA_IN_PATH + TRAIN_INPUT_DATA, 'wb'), train_inputs)\n",
        "np.save(open(DATA_IN_PATH + TRAIN_LABEL_DATA, 'wb'), train_labels)\n",
        "\n",
        "np.save(open(DATA_IN_PATH + TEST_INPUT_DATA, 'wb'), test_inputs)\n",
        "np.save(open(DATA_IN_PATH + TEST_LABEL_DATA, 'wb'), test_labels)\n",
        "\n",
        "json.dump(data_configs, open(DATA_IN_PATH + DATA_CONFIGS, 'w'),ensure_ascii=False)"
      ],
      "metadata": {
        "id": "60Lm_8uFW4R6"
      },
      "execution_count": 87,
      "outputs": []
    },
    {
      "cell_type": "markdown",
      "source": [
        "### **모델링**\n",
        "\n",
        "---\n",
        "\n"
      ],
      "metadata": {
        "id": "oQx5KuGsa2cz"
      }
    },
    {
      "cell_type": "code",
      "source": [
        "import tensorflow as tf\n",
        "from tensorflow.keras.preprocessing.sequence import pad_sequences\n",
        "from tensorflow.keras.callbacks import EarlyStopping, ModelCheckpoint\n",
        "from tensorflow.keras import layers\n",
        "\n",
        "import numpy as np\n",
        "import pandas as pd\n",
        "import matplotlib.pyplot as plt\n",
        "import os\n",
        "import json\n",
        "\n",
        "from tqdm import tqdm"
      ],
      "metadata": {
        "id": "rvBLpxjLa8ai"
      },
      "execution_count": 88,
      "outputs": []
    },
    {
      "cell_type": "code",
      "source": [
        "\n",
        "train_input = np.load(open(DATA_IN_PATH + TRAIN_INPUT_DATA, 'rb'))\n",
        "train_input = pad_sequences(train_input, maxlen = train_input.shape[1])\n",
        "train_label = np.load(open(DATA_IN_PATH + TRAIN_LABEL_DATA, 'rb'))\n",
        "prepro_configs = json.load(open(DATA_IN_PATH + DATA_CONFIGS, 'r'))"
      ],
      "metadata": {
        "id": "TUCjOCHIcB5T"
      },
      "execution_count": 89,
      "outputs": []
    },
    {
      "cell_type": "code",
      "source": [
        "#HyperParameter\n",
        "\n",
        "model_name = 'cnn_classifier_kr'\n",
        "BATCH_SIZE = 512\n",
        "NUM_EPOCHS = 2\n",
        "VALID_SPLIT = 0.1\n",
        "MAX_LEN = train_input.shape[1]\n",
        "\n",
        "kargs = {'model_name' : model_name,\n",
        "         'vocab_size' : prepro_configs['vocab_size'],\n",
        "         'embedding_size' : 128,\n",
        "         'num_filters' : 100,\n",
        "         'dropout_rate' : 0.5,\n",
        "         'hidden_dimension' : 250,\n",
        "         'output_dimension' : 1}"
      ],
      "metadata": {
        "id": "59rqmTW7c2Ja"
      },
      "execution_count": 90,
      "outputs": []
    },
    {
      "cell_type": "code",
      "source": [
        "class CNNClassifier(tf.keras.Model):\n",
        "    def __init__(self, **kargs):\n",
        "        super(CNNClassifier, self).__init__(name=kargs['model_name'])\n",
        "        self.embedding = layers.Embedding(input_dim=kargs['vocab_size'],\n",
        "                                     output_dim=kargs['embedding_size'])\n",
        "        self.conv_list = [layers.Conv1D(filters=kargs['num_filters'],\n",
        "                                   kernel_size=kernel_size,\n",
        "                                   padding='valid',\n",
        "                                   activation=tf.keras.activations.relu,\n",
        "                                   kernel_constraint=tf.keras.constraints.MaxNorm(max_value=3.))\n",
        "                     for kernel_size in [3,4,5]]\n",
        "        self.pooling = layers.GlobalMaxPooling1D()\n",
        "        self.dropout = layers.Dropout(kargs['dropout_rate'])\n",
        "        self.fc1 = layers.Dense(units=kargs['hidden_dimension'],\n",
        "                           activation=tf.keras.activations.relu,\n",
        "                           kernel_constraint=tf.keras.constraints.MaxNorm(max_value=3.))\n",
        "        self.fc2 = layers.Dense(units=kargs['output_dimension'],\n",
        "                           activation=tf.keras.activations.sigmoid,\n",
        "                           kernel_constraint=tf.keras.constraints.MaxNorm(max_value=3.))\n",
        "    \n",
        "    \n",
        "    def call(self,x):\n",
        "      x = self.embedding(x)\n",
        "      x = self.dropout(x)\n",
        "      x = tf.concat([self.pooling(conv(x)) for conv in self.conv_list], axis =-1)\n",
        "      x = self.fc1(x)\n",
        "      x = self.fc2(x)\n",
        "\n",
        "      return x"
      ],
      "metadata": {
        "id": "GRcz3E8Nff4k"
      },
      "execution_count": 91,
      "outputs": []
    },
    {
      "cell_type": "code",
      "source": [
        "model = CNNClassifier(**kargs)\n",
        "\n",
        "model.compile(optimizer=tf.keras.optimizers.Adam(),\n",
        "              loss=tf.keras.losses.BinaryCrossentropy(),\n",
        "              metrics=[tf.keras.metrics.BinaryAccuracy(name='accuracy')])\n",
        "\n",
        "# overfitting을 막기 위한 ealrystop 추가\n",
        "earlystop_callback = EarlyStopping(monitor='val_accuracy', min_delta=0.0001,patience=2)\n",
        "# min_delta: the threshold that triggers the termination (acc should at least improve 0.0001)\n",
        "# patience: no improvment epochs (patience = 1, 1번 이상 상승이 없으면 종료)\\\n",
        "\n",
        "checkpoint_path = DATA_OUT_PATH + model_name + '/weights.h5'\n",
        "checkpoint_dir = os.path.dirname(checkpoint_path)\n",
        "\n",
        "# Create path if exists\n",
        "if os.path.exists(checkpoint_dir):\n",
        "    print(\"{} -- Folder already exists \\n\".format(checkpoint_dir))\n",
        "else:\n",
        "    os.makedirs(checkpoint_dir, exist_ok=True)\n",
        "    print(\"{} -- Folder create complete \\n\".format(checkpoint_dir))\n",
        "    \n",
        "\n",
        "cp_callback = ModelCheckpoint(\n",
        "    checkpoint_path, monitor='val_accuracy', verbose=1, save_best_only=True, save_weights_only=True)"
      ],
      "metadata": {
        "colab": {
          "base_uri": "https://localhost:8080/"
        },
        "id": "PFMDHHjZlUAs",
        "outputId": "49439e99-941d-4eb1-e991-f90c8e47233b"
      },
      "execution_count": 92,
      "outputs": [
        {
          "output_type": "stream",
          "name": "stdout",
          "text": [
            "./data_out/cnn_classifier_kr -- Folder create complete \n",
            "\n"
          ]
        }
      ]
    },
    {
      "cell_type": "code",
      "source": [
        "history = model.fit(train_input, train_label, batch_size=BATCH_SIZE, epochs=NUM_EPOCHS,\n",
        "                    validation_split=VALID_SPLIT, callbacks=[earlystop_callback, cp_callback])"
      ],
      "metadata": {
        "colab": {
          "base_uri": "https://localhost:8080/"
        },
        "id": "2A0X4LXgmGZ4",
        "outputId": "6f2470a8-8836-40c9-ee2d-a6dae0d02813"
      },
      "execution_count": 93,
      "outputs": [
        {
          "output_type": "stream",
          "name": "stdout",
          "text": [
            "Epoch 1/2\n",
            "264/264 [==============================] - ETA: 0s - loss: 0.4598 - accuracy: 0.7755\n",
            "Epoch 1: val_accuracy improved from -inf to 0.81593, saving model to ./data_out/cnn_classifier_kr/weights.h5\n",
            "264/264 [==============================] - 4s 10ms/step - loss: 0.4598 - accuracy: 0.7755 - val_loss: 0.3973 - val_accuracy: 0.8159\n",
            "Epoch 2/2\n",
            "264/264 [==============================] - ETA: 0s - loss: 0.3540 - accuracy: 0.8448\n",
            "Epoch 2: val_accuracy improved from 0.81593 to 0.82107, saving model to ./data_out/cnn_classifier_kr/weights.h5\n",
            "264/264 [==============================] - 3s 10ms/step - loss: 0.3540 - accuracy: 0.8448 - val_loss: 0.3852 - val_accuracy: 0.8211\n"
          ]
        }
      ]
    },
    {
      "cell_type": "code",
      "source": [
        "test_input = np.load(open(DATA_IN_PATH + TEST_INPUT_DATA, 'rb'))\n",
        "test_input = pad_sequences(test_input,maxlen =test_input.shape[1])\n",
        "test_label_data = np.load(open(DATA_IN_PATH + TEST_LABEL_DATA, 'rb'))\n",
        "\n",
        "model.load_weights(os.path.join(DATA_OUT_PATH, model_name, 'weights.h5'))\n",
        "model.evaluate(test_input, test_label_data)"
      ],
      "metadata": {
        "colab": {
          "base_uri": "https://localhost:8080/"
        },
        "id": "NvUUlWc2sRKz",
        "outputId": "922daff8-e577-4836-d5dc-5260340af43c"
      },
      "execution_count": 94,
      "outputs": [
        {
          "output_type": "stream",
          "name": "stdout",
          "text": [
            "1563/1563 [==============================] - 4s 3ms/step - loss: 0.3844 - accuracy: 0.8252\n"
          ]
        },
        {
          "output_type": "execute_result",
          "data": {
            "text/plain": [
              "[0.3843579590320587, 0.8252000212669373]"
            ]
          },
          "metadata": {},
          "execution_count": 94
        }
      ]
    }
  ]
}
