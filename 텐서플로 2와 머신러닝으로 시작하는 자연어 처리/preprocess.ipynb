{
  "nbformat": 4,
  "nbformat_minor": 0,
  "metadata": {
    "colab": {
      "provenance": [],
      "authorship_tag": "ABX9TyN3G2n/77erMZp4se8aC2oc",
      "include_colab_link": true
    },
    "kernelspec": {
      "name": "python3",
      "display_name": "Python 3"
    },
    "language_info": {
      "name": "python"
    }
  },
  "cells": [
    {
      "cell_type": "markdown",
      "metadata": {
        "id": "view-in-github",
        "colab_type": "text"
      },
      "source": [
        "<a href=\"https://colab.research.google.com/github/do-huni/NLP_practice/blob/main/%EC%A0%84%EC%B0%BD%EC%9A%B1%20%EB%93%B1.%20(2022)%2C%20%ED%85%90%EC%84%9C%ED%94%8C%EB%A1%9C%202%EC%99%80%20%EB%A8%B8%EC%8B%A0%EB%9F%AC%EB%8B%9D%EC%9C%BC%EB%A1%9C%20%EC%8B%9C%EC%9E%91%ED%95%98%EB%8A%94%20%EC%9E%90%EC%97%B0%EC%96%B4%20%EC%B2%98%EB%A6%AC%2C%20%EC%9C%84%ED%82%A4%EB%B6%81%EC%8A%A4/preprocess.ipynb\" target=\"_parent\"><img src=\"https://colab.research.google.com/assets/colab-badge.svg\" alt=\"Open In Colab\"/></a>"
      ]
    },
    {
      "cell_type": "code",
      "execution_count": null,
      "metadata": {
        "id": "d5UcAWJqW3iN"
      },
      "outputs": [],
      "source": [
        "from preprocess import *\n",
        "\n",
        "PATH = 'data_in/ChatBotData.csv'\n",
        "VOCAB_PATH = 'data_in/vocabulary.txt'\n",
        "\n",
        "inputs, outputs = load_data(PATH)\n",
        "char2idx, idx2char, vocab_size = load_word_dictionary(PATH, VOCAB_PATH, tokenize_into_morphemes = False)"
      ]
    },
    {
      "cell_type": "code",
      "source": [
        "index_inputs, input_seq_len = enc_preprocessing(inputs, char2idx, tokenize_into_morphemes = False)\n",
        "index_outputs, output_seq_len = dec_output_preprocessing(outputs, char2idx, tokenize_into_morphemes = False)\n",
        "index_targets = dec_target_preprocessing(outputs, char2idx, tokenize_into_morphemes = False)"
      ],
      "metadata": {
        "id": "n0RbbEk2W9d4"
      },
      "execution_count": null,
      "outputs": []
    },
    {
      "cell_type": "code",
      "source": [
        "data_configs = {}\n",
        "data_configs['char2idx'] = char2idx\n",
        "data_configs['idx2char'] = idx2char\n",
        "data_configs['vocab_size'] = vocab_size\n",
        "data_configs['pad_symbol'] = PAD\n",
        "data_configs['std_symbol'] = STD\n",
        "data_configs['end_symbol'] = END\n",
        "data_configs['unk_symbol'] = UNK"
      ],
      "metadata": {
        "id": "vQd9AouSXAe9"
      },
      "execution_count": null,
      "outputs": []
    },
    {
      "cell_type": "code",
      "source": [
        "DATA_IN_PATH = './data_in/'\n",
        "TRAIN_INPUTS  = 'train_inputs.npy'\n",
        "TRAIN_OUTPUTS = 'train_outputs.npy'\n",
        "TRAIN_TARGETS = 'train_targets.npy'\n",
        "DATA_CONFIGS = 'data_configs.json'\n",
        "\n",
        "np.save(open(DATA_IN_PATH + TRAIN_INPUTS, 'wb'), index_inputs)\n",
        "np.save(open(DATA_IN_PATH + TRAIN_OUTPUTS, 'wb'), index_outputs)\n",
        "np.save(open(DATA_IN_PATH + TRAIN_TARGETS, 'wb'), index_targets)\n",
        "\n",
        "json.dump(data_configs, open(DATA_IN_PATH + DATA_CONFIGS, 'w'))"
      ],
      "metadata": {
        "id": "F9SIEP-6XCfJ"
      },
      "execution_count": null,
      "outputs": []
    }
  ]
}
